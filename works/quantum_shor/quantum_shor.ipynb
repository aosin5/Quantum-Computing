{
 "cells": [
  {
   "cell_type": "markdown",
   "metadata": {},
   "source": [
    "# ショアのアルゴリズムの実装\n",
    "シミュレーターを用いて実装する"
   ]
  },
  {
   "cell_type": "code",
   "execution_count": 1,
   "metadata": {},
   "outputs": [],
   "source": [
    "from quantum_simulater import * # シミュレーター\n",
    "from inv_QFT import *           # 逆量子フーリエ変換\n",
    "from fractions import Fraction  # 有理数近似に用いる\n",
    "import re                       # 分母を取り出すときに用いる"
   ]
  },
  {
   "cell_type": "markdown",
   "metadata": {},
   "source": [
    "### やりたいことの確認\n",
    "1. 因数分解したい数Nに対して、Nと互いに素でありNより小さい自然数xを定める。  \n",
    "2. そのNとxを使って、ユニタリ行列$U_{x}=\\sum_{y=0}^{2^{n}-1} |xy (mod N)><y|$ を行列表現する。($2^{n-1}-1<N-1<=2^{n}-1$)  \n",
    "3. その$U_{x}$の固有値の位相$\\psi$を推定する。  \n",
    "4. $s/t(=\\psi)$に対して連分数展開を行い位数$t$を求める。\n",
    "5. $t$が偶数なら$gcd(x^{t/2}-1,N)$か$gcd(x^{t/2}+1,N)$がNの因数となる。"
   ]
  },
  {
   "cell_type": "markdown",
   "metadata": {},
   "source": [
    "# xを定める\n",
    "Nに対する適当なxと位数rを求める関数  \n",
    "条件を満たすxが見つかると一度関数を中断して値を返すyieldが使われている  "
   ]
  },
  {
   "cell_type": "code",
   "execution_count": 2,
   "metadata": {},
   "outputs": [],
   "source": [
    "def find_x(N):\n",
    "    for x in range(2,int(N)):\n",
    "        if math.gcd(x,int(N))==1:\n",
    "            yield x\n",
    "        else:\n",
    "            continue"
   ]
  },
  {
   "cell_type": "markdown",
   "metadata": {},
   "source": [
    "# Uxを生成\n",
    "$U_{x}$を行列表現する関数"
   ]
  },
  {
   "cell_type": "code",
   "execution_count": 3,
   "metadata": {},
   "outputs": [],
   "source": [
    "def Ux(N,x):\n",
    "    # Nに対するnを求める\n",
    "    n = math.ceil(math.log(N, 2))\n",
    "    \n",
    "    Ux = np.zeros((2**n,2**n))\n",
    "    \n",
    "    for y in range(2**n):\n",
    "        ket = np.zeros((2**n,1))\n",
    "        ket[(x*y)%N,0] = 1\n",
    "        bra = np.zeros((1,2**n))\n",
    "        bra[0,y] = 1\n",
    "        Ux = Ux + np.kron(ket,bra)\n",
    "    \n",
    "    return Ux"
   ]
  },
  {
   "cell_type": "markdown",
   "metadata": {},
   "source": [
    "# 位数推定\n",
    "解答レジスタの初期状態は|0>  \n",
    "問題レジスタの初期状態は|1>"
   ]
  },
  {
   "cell_type": "code",
   "execution_count": 4,
   "metadata": {},
   "outputs": [],
   "source": [
    "def get_fac(N,x):\n",
    "    # Nに対するnを求める\n",
    "    n = math.ceil(math.log(N, 2))\n",
    "\n",
    "    # 初期状態の設定\n",
    "    qubits = Qubits(2*n)     # 解答レジスタ + 問題レジスタで 2nビット\n",
    "    qubits.set_bit(2*n-1, 1) # 解答レジスタの初期状態 |0> 問題レジスタの初期状態 |1>\n",
    "    \n",
    "    # Hゲートを第0～n-1ビットに作用させる\n",
    "    for i in range(n):\n",
    "        qubits.apply(H(2*n,i))\n",
    "    \n",
    "    # CUkを作用させる\n",
    "    Uk_list = [Ux(N,x)]\n",
    "    for k in range(n):\n",
    "        Uk_list.append(Uk_list[k] @ Uk_list[k])      # k番目の成分は Ux^{2^{k}} \n",
    "        qubits.apply(CU(2*n, n-1-k, n, Uk_list[k]))  # 第n-1-k番目をを制御ビットとし Ux^{2^{k}} を作用させる\n",
    "    \n",
    "    # 第0～n-1ビットに対し逆量子フーリエ変換\n",
    "    qubits.apply(tensor(invQFT(n), I(n)))\n",
    "    \n",
    "    # ビットの状態を観測する (本当は第0～n-1ビットを観測するだけでよい)\n",
    "    qubits.measure()\n",
    "    \n",
    "    # 第0～n-1ビットを受け取り、その二進少数を十進少数に変換\n",
    "    Q = \" + \".join(\n",
    "        (\"{:0\" + str(qubits.n_bits) + \"b}\").format(i)    # 量子状態を文字列として得る\n",
    "        for i, amp in enumerate(qubits._amp) if amp==1\n",
    "    )\n",
    "    Phase = 0\n",
    "    for i in range(n):\n",
    "        if Q[i] == \"1\":\n",
    "            Phase += (1/2)**(i+1)\n",
    "    \n",
    "    # 位相を分数表示にしてその分母を位数候補として取得する\n",
    "    if Phase == 0:\n",
    "        RANK = 0\n",
    "    else:\n",
    "        str_frac = str(Fraction(Phase))                 # 分数表示\n",
    "        pattern  = \"(.*)/(.*)\"                          # \" / \" で区切る\n",
    "        RANK     = int(re.split(pattern, str_frac)[2])  # 区切った 2番目が分母\n",
    "\n",
    "    # 位数から因数候補を求め、返す\n",
    "    if RANK == 0:\n",
    "        return 1\n",
    "    else:\n",
    "        fac1 = math.gcd(x**int((RANK/2))-1, N)\n",
    "        fac2 = math.gcd(x**int((RANK/2))+1, N)\n",
    "        if   N%fac1 == 0 and N != fac1: return fac1\n",
    "        elif N%fac2 == 0 and N != fac2: return fac2\n",
    "        else: return 1"
   ]
  },
  {
   "cell_type": "markdown",
   "metadata": {},
   "source": [
    "# ショアのアルゴリズム(二つに分解する)\n",
    "後は自然数Nを受け取り因数分解する関数を作れば良い"
   ]
  },
  {
   "cell_type": "code",
   "execution_count": 5,
   "metadata": {},
   "outputs": [],
   "source": [
    "def Q_shor(N):\n",
    "    while(True):\n",
    "        for x in find_x(N):\n",
    "            fac = get_fac(N,x)\n",
    "            if N%fac == 0 and fac != 1:\n",
    "                return fac, int(N/fac)"
   ]
  },
  {
   "cell_type": "code",
   "execution_count": 6,
   "metadata": {},
   "outputs": [
    {
     "data": {
      "text/plain": [
       "(3, 5)"
      ]
     },
     "execution_count": 6,
     "metadata": {},
     "output_type": "execute_result"
    }
   ],
   "source": [
    "Q_shor(15)   # 素数入れると永遠続くので注意"
   ]
  },
  {
   "cell_type": "markdown",
   "metadata": {},
   "source": [
    "40くらいで結構怖い...  \n",
    "Jupyter Notebook ではメニューのKernelからInterruptを選ぶと実行を停止できる。  "
   ]
  },
  {
   "cell_type": "code",
   "execution_count": null,
   "metadata": {},
   "outputs": [],
   "source": []
  }
 ],
 "metadata": {
  "kernelspec": {
   "display_name": "Python 3",
   "language": "python",
   "name": "python3"
  },
  "language_info": {
   "codemirror_mode": {
    "name": "ipython",
    "version": 3
   },
   "file_extension": ".py",
   "mimetype": "text/x-python",
   "name": "python",
   "nbconvert_exporter": "python",
   "pygments_lexer": "ipython3",
   "version": "3.6.7"
  }
 },
 "nbformat": 4,
 "nbformat_minor": 2
}
