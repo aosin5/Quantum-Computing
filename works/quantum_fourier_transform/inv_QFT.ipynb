{
 "cells": [
  {
   "cell_type": "markdown",
   "metadata": {},
   "source": [
    "# 逆量子フーリエ変換の実装"
   ]
  },
  {
   "cell_type": "markdown",
   "metadata": {},
   "source": [
    "位相推定アルゴリズムの中で逆量子フーリエ変換が行われる。　  \n",
    "シミュレーターを使ってこれを実装する。"
   ]
  },
  {
   "cell_type": "code",
   "execution_count": 1,
   "metadata": {},
   "outputs": [],
   "source": [
    "from quantum_simulater import *"
   ]
  },
  {
   "cell_type": "markdown",
   "metadata": {},
   "source": [
    "## やるべきことの確認\n",
    "1. SWAPゲートで全てのビットを入れ替える。\n",
    "2. $invR_{m}$ゲートを作る。\n",
    "3. 第tビットを標的ビットとして、$invR_{n-t}...invR_{3}invR_{2}H$ゲートを作用させる演算を行列表示。($0\\leqq t \\leqq n-2$)  \n",
    "第n-1ビットを標的ビットとするときは$H$ゲートのみを作用させる。\n",
    "4. 全部まとめてn_bitsに対する逆量子フーリエ変換を組む。"
   ]
  },
  {
   "cell_type": "markdown",
   "metadata": {},
   "source": [
    "# SWAPゲート\n",
    "スワップゲートを作用させることはは入れ替えたい2ビットa,bに対してCNOTゲートを三回作用させることと同じである。  \n",
    "ただし1回目の制御ビットをaとすれば2回目の制御ビットはbで3回目はaでなければならない。"
   ]
  },
  {
   "cell_type": "code",
   "execution_count": 2,
   "metadata": {},
   "outputs": [],
   "source": [
    "# 指定した二つを入れ替える\n",
    "def SWAP(n_bits, bit_a, bit_b):\n",
    "    return CNOT(n_bits, bit_a, bit_b) @ CNOT(n_bits, bit_b, bit_a) @ CNOT(n_bits, bit_a, bit_b)"
   ]
  },
  {
   "cell_type": "code",
   "execution_count": 3,
   "metadata": {},
   "outputs": [],
   "source": [
    "# 全体を入れ替える\n",
    "def all_SWAP(n_bits):\n",
    "    AS = I(n_bits)\n",
    "    for i in range(int(n_bits/2)):\n",
    "        AS = SWAP(n_bits, i, n_bits-1-i) @ AS\n",
    "    return AS"
   ]
  },
  {
   "cell_type": "code",
   "execution_count": 6,
   "metadata": {},
   "outputs": [
    {
     "name": "stdout",
     "output_type": "stream",
     "text": [
      "[1.]|11000>\n"
     ]
    }
   ],
   "source": [
    "qubits = Qubits(5)\n",
    "qubits.set_bits([0,0,0,1,1])\n",
    "qubits.apply(all_SWAP(5))\n",
    "print(qubits)"
   ]
  },
  {
   "cell_type": "markdown",
   "metadata": {},
   "source": [
    "# $invR_{m}$ゲート\n",
    "制御回転ゲート$invR_{m}$を作る。引数はビット数, 制御ビット, 標的ビット, 回転させたい角度$-\\frac{2\\pi}{2^{m}}$の中のmである。  \n",
    "**n_bitsは2の乗数である。またtargetは $0\\leqq target \\leqq n-2$ を満たし、mは $2\\leqq m \\leqq n\\_bits-target$ を満たしている。**"
   ]
  },
  {
   "cell_type": "code",
   "execution_count": 6,
   "metadata": {},
   "outputs": [],
   "source": [
    "def invRm(n_bits, control, target, m):\n",
    "    U = np.array([[1, 0],\n",
    "                  [0, math.e**(-2j*math.pi/2**m)]])\n",
    "    return CU(n_bits, control, target, U)"
   ]
  },
  {
   "cell_type": "markdown",
   "metadata": {},
   "source": [
    "# tビット目に対する処理\n",
    "第tビット目を標的ビットにして$invR_{n-t}...invR_{3}invR_{2}H$ゲートを作用させる演算を行列表示。($0\\leqq t \\leqq n-2$)  \n",
    "そして制御ビットはt+m-1ビットである。  \n",
    "ただし第n-1ビット目に対しては$H$ゲートのみを作用させる。"
   ]
  },
  {
   "cell_type": "code",
   "execution_count": 7,
   "metadata": {},
   "outputs": [],
   "source": [
    "def Opt_t(n_bits, target):\n",
    "    RH = H(n_bits, target)\n",
    "    if target == n_bits-1:\n",
    "        return RH\n",
    "    else:\n",
    "        for m in range(2, n_bits-target+1, 1):\n",
    "            RH = RH @ invRm(n_bits, target+m-1, target, m)\n",
    "        return RH"
   ]
  },
  {
   "cell_type": "markdown",
   "metadata": {},
   "source": [
    "# 逆量子フーリエ変換\n",
    "引数はビット数nのみ"
   ]
  },
  {
   "cell_type": "code",
   "execution_count": 8,
   "metadata": {},
   "outputs": [],
   "source": [
    "def invQFT(n_bits):\n",
    "    invQFT = all_SWAP(n_bits)\n",
    "    for target in range(n_bits-1, -1, -1):\n",
    "        invQFT = Opt_t(n_bits, target) @ invQFT\n",
    "    return invQFT"
   ]
  },
  {
   "cell_type": "code",
   "execution_count": 9,
   "metadata": {},
   "outputs": [
    {
     "name": "stdout",
     "output_type": "stream",
     "text": [
      "[0.5+0.j]|00> + [0.5+0.j]|01> + [0.5+0.j]|10> + [0.5+0.j]|11>\n"
     ]
    }
   ],
   "source": [
    "qubits = Qubits(2)\n",
    "qubits.apply(invQFT(2))\n",
    "print(qubits)"
   ]
  },
  {
   "cell_type": "code",
   "execution_count": null,
   "metadata": {},
   "outputs": [],
   "source": []
  }
 ],
 "metadata": {
  "kernelspec": {
   "display_name": "Python 3",
   "language": "python",
   "name": "python3"
  },
  "language_info": {
   "codemirror_mode": {
    "name": "ipython",
    "version": 3
   },
   "file_extension": ".py",
   "mimetype": "text/x-python",
   "name": "python",
   "nbconvert_exporter": "python",
   "pygments_lexer": "ipython3",
   "version": "3.6.7"
  }
 },
 "nbformat": 4,
 "nbformat_minor": 2
}
