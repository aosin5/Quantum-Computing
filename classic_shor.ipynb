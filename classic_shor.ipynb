{
 "cells": [
  {
   "cell_type": "markdown",
   "metadata": {
    "slideshow": {
     "slide_type": "slide"
    }
   },
   "source": [
    "# ショアのアルゴリズム(総当たり)\n",
    "ショアのアルゴリズムをpythonにある関数ですっきり記述してある。制作は広川君。"
   ]
  },
  {
   "cell_type": "markdown",
   "metadata": {},
   "source": [
    "aとbの最大公約数gcdを求める関数"
   ]
  },
  {
   "cell_type": "code",
   "execution_count": 1,
   "metadata": {},
   "outputs": [],
   "source": [
    "def euclid(a, b):\n",
    "    a, b = max([a, b]), min([a, b])\n",
    "    while True:\n",
    "        a = a % b\n",
    "        if a == 0:\n",
    "            gcd = b\n",
    "            break\n",
    "        b = b % a\n",
    "        if b == 0:\n",
    "            gcd = a\n",
    "            break\n",
    "        else:\n",
    "            continue\n",
    "    return gcd"
   ]
  },
  {
   "cell_type": "markdown",
   "metadata": {},
   "source": [
    "numberに対する適当なxと位数rを求める関数  \n",
    "条件を満たす組み合わせが見つかると一度関数を中断して値を返すyieldが使われている  \n",
    "for-elseのelseの処理はfor文終了時に処理されるが、breakで終わったときは実行しない"
   ]
  },
  {
   "cell_type": "code",
   "execution_count": 2,
   "metadata": {},
   "outputs": [],
   "source": [
    "def findR(number):\n",
    "    r = 2\n",
    "    while True:\n",
    "        for x in range(2, int(number)):\n",
    "            if (x ** r) % number == 1:\n",
    "                yield [x, r]\n",
    "                r += 2\n",
    "                break\n",
    "            else:\n",
    "                continue\n",
    "        else:\n",
    "            r += 2"
   ]
  },
  {
   "cell_type": "markdown",
   "metadata": {},
   "source": [
    "nが素数かどうかを判定する関数"
   ]
  },
  {
   "cell_type": "code",
   "execution_count": 3,
   "metadata": {},
   "outputs": [],
   "source": [
    "def judge(n):\n",
    "    p = n ** 0.5\n",
    "    p = int(p) + 1\n",
    "    for i in range(2, int(p)):\n",
    "        if n % i == 0:\n",
    "            return False\n",
    "            break\n",
    "    else:\n",
    "        return True"
   ]
  },
  {
   "cell_type": "markdown",
   "metadata": {},
   "source": [
    "numberの最小因数を返す関数"
   ]
  },
  {
   "cell_type": "code",
   "execution_count": 4,
   "metadata": {},
   "outputs": [],
   "source": [
    "def square(number):\n",
    "    for i in range(2, int(number)):\n",
    "        if number % i == 0:\n",
    "            return i\n",
    "        else:\n",
    "            continue"
   ]
  },
  {
   "cell_type": "markdown",
   "metadata": {},
   "source": [
    "簡単に因数分解できる数はこの関数で高速で因数分解できる  \n",
    "巨大な数もこれを使ってある程度小さくする"
   ]
  },
  {
   "cell_type": "code",
   "execution_count": 5,
   "metadata": {},
   "outputs": [],
   "source": [
    "def easy(number):\n",
    "    primes = [2, 3, 5, 7, 11, 13, 17, 19, 23, 29, 31, 37, 41, 43, 47, 53, 59, 61, 67, 71, 73, 79, 83, 89, 97]\n",
    "    primes = [2, 3, 5, 7]\n",
    "    pre_prime_list = []\n",
    "    for p in primes:\n",
    "        while True:\n",
    "            if number % p == 0:\n",
    "                print(p)\n",
    "                pre_prime_list.append(int(p))\n",
    "                number = number / p\n",
    "                continue\n",
    "            else:\n",
    "                break\n",
    "    else:\n",
    "        pre_prime_list.append(int(number))\n",
    "        return pre_prime_list"
   ]
  },
  {
   "cell_type": "markdown",
   "metadata": {},
   "source": [
    "findRで得たxとrを用いてnumberの素因数を返す関数"
   ]
  },
  {
   "cell_type": "code",
   "execution_count": 6,
   "metadata": {},
   "outputs": [],
   "source": [
    "def findPrime(number):\n",
    "    lsts = findR(number)\n",
    "    for lst in lsts:\n",
    "        print(lst)\n",
    "        a = lst[0] ** (lst[1] / 2) + 1\n",
    "        b = a - 2\n",
    "        ga = euclid(a, number)\n",
    "        gb = euclid(b, number)\n",
    "\n",
    "        if 1 < ga < number and judge(ga):\n",
    "            return ga\n",
    "            break\n",
    "        elif 1 < gb < number and judge(gb):\n",
    "            return gb\n",
    "            break\n",
    "        elif a == number or b == number:\n",
    "            return square(number)\n",
    "            break\n",
    "        else:\n",
    "            continue"
   ]
  },
  {
   "cell_type": "markdown",
   "metadata": {},
   "source": [
    "今までの関数を用いてnumberを因数分解していく関数"
   ]
  },
  {
   "cell_type": "code",
   "execution_count": 7,
   "metadata": {},
   "outputs": [],
   "source": [
    "def makePrimeList(number):\n",
    "    RESULT = str(number) + \"=\"\n",
    "    pre = easy(number)\n",
    "    number = pre[-1]\n",
    "    print(number)\n",
    "    prime_list = pre[0:len(pre) - 1]\n",
    "    if judge(number):\n",
    "        prime_list.append(number)\n",
    "        prime_list.sort()\n",
    "        for i in prime_list:\n",
    "            if i == 1:\n",
    "                pass\n",
    "            else:\n",
    "                RESULT += str(i) + \"*\"\n",
    "        print(RESULT.strip(\"*\"))\n",
    "    else:\n",
    "        while True:\n",
    "            fn = findPrime(number)\n",
    "            prime_list.append(int(fn))\n",
    "            if not judge(number / fn):\n",
    "                number = number / fn\n",
    "                continue\n",
    "            else:\n",
    "                prime_list.append(int(number / fn))\n",
    "                break\n",
    "\n",
    "        prime_list.sort()\n",
    "        for i in prime_list:\n",
    "            RESULT += str(i) + \"*\"\n",
    "        print(RESULT.strip(\"*\"))"
   ]
  },
  {
   "cell_type": "markdown",
   "metadata": {},
   "source": [
    "実行する関数"
   ]
  },
  {
   "cell_type": "code",
   "execution_count": 18,
   "metadata": {},
   "outputs": [
    {
     "name": "stdout",
     "output_type": "stream",
     "text": [
      "Enter:1\n",
      "This is a prime number.\n"
     ]
    }
   ],
   "source": [
    "def primeFactorization(number):\n",
    "    if judge(number):\n",
    "        print(\"This is a prime number.\")\n",
    "    else:\n",
    "        makePrimeList(number)\n",
    "\n",
    "\n",
    "number = int(input(\"Enter:\"))\n",
    "primeFactorization(number)"
   ]
  },
  {
   "cell_type": "code",
   "execution_count": null,
   "metadata": {},
   "outputs": [],
   "source": []
  }
 ],
 "metadata": {
  "celltoolbar": "Slideshow",
  "kernelspec": {
   "display_name": "Python 3",
   "language": "python",
   "name": "python3"
  },
  "language_info": {
   "codemirror_mode": {
    "name": "ipython",
    "version": 3
   },
   "file_extension": ".py",
   "mimetype": "text/x-python",
   "name": "python",
   "nbconvert_exporter": "python",
   "pygments_lexer": "ipython3",
   "version": "3.6.5"
  }
 },
 "nbformat": 4,
 "nbformat_minor": 2
}
