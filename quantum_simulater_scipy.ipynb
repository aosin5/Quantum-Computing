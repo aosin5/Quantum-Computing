{
 "cells": [
  {
   "cell_type": "markdown",
   "metadata": {},
   "source": [
    "# シュミレータ作り\n",
    "目標: 分かりやすいシュミレータをnumpyで作る。"
   ]
  },
  {
   "cell_type": "code",
   "execution_count": 110,
   "metadata": {},
   "outputs": [],
   "source": [
    "import numpy as np\n",
    "import math\n",
    "import scipy.sparse as sp"
   ]
  },
  {
   "cell_type": "markdown",
   "metadata": {},
   "source": [
    "素晴らしいシュミレータを見つけたのでこれを参考にして作っていこうと思う。  \n",
    "[シュミレータを作りながら量子コンピュータの仕組みを理解する](https://qiita.com/ohtaman/items/e121a2b0b4525b85b54d)"
   ]
  },
  {
   "cell_type": "markdown",
   "metadata": {},
   "source": [
    "# 量子状態クラス"
   ]
  },
  {
   "cell_type": "code",
   "execution_count": 111,
   "metadata": {},
   "outputs": [],
   "source": [
    "class Qubits(object):\n",
    "    def __init__(self, n_bits):\n",
    "        \"\"\"\n",
    "        Arguments:\n",
    "            n_bits (int): 量子ビット数\n",
    "        \"\"\"\n",
    "        self.n_bits   = n_bits                                     # 量子ビット数\n",
    "        self.n_states = 2**n_bits                                  # 行数\n",
    "        self._amp     = np.zeros(self.n_states, dtype=np.complex)  # 絶対値の二乗をとると確率になる\n",
    "        self._amp[0]  = 1                                          # 0番目の状態の確率を1とする\n",
    "        self._amp     = self._amp.reshape((self.n_states, 1))\n",
    "\n",
    "    def set_bits(self, bits):\n",
    "        \"\"\"\n",
    "        Arguments:\n",
    "            bits (list): 状態を表現するリスト ex).|0010> なら [0, 0, 1, 0]\n",
    "        Returens:\n",
    "            self (Qubits): 自分自身\n",
    "        \"\"\"\n",
    "        # 例えば |0010> なら idx=2番目(0010番目)となる\n",
    "        idx            = sum(bit<<i for i, bit in enumerate(bits[::-1]))   # 1の位置をindexにする ( bit<<i = bit*2**i )\n",
    "        self._amp      = np.zeros(self.n_states, dtype=np.complex)         # 絶対値の二乗をとると確率になる\n",
    "        self._amp[idx] = 1.0                                               # index番目の確率を1とする\n",
    "        self._amp     = self._amp.reshape((self.n_states, 1))\n",
    "        return self\n",
    "\n",
    "    def measure(self):\n",
    "        \"\"\"\n",
    "        量子ビットを観測する\n",
    "        後で第kビット目だけを観測するメソッドも作ることにする\n",
    "\n",
    "        Returens:\n",
    "            bits (list): 観測された状態を表すリスト\n",
    "        \"\"\"\n",
    "        self._amp     = self._amp.reshape((self.n_states))\n",
    "        p    = np.abs(self._amp)**2                              # self.amp を観測確率にする\n",
    "        idx  = np.random.choice(range(len(self._amp)), p=p)      # 適当にindexを決める。pは合計値が1となるlist\n",
    "        bits = [idx>>i & 1 for i in range(self.n_bits)]         # index番目だけ状態が1となる。その他は0 ( idx>>i = int(idx/2**i) )\n",
    "        return bits[::-1]                                       # 観測された結果を返す\n",
    "\n",
    "    def apply(self, *operators):\n",
    "        \"\"\"\n",
    "        量子ビットに演算子を適用する\n",
    "\n",
    "        Arguments:\n",
    "            operators (list): 演算子のリスト(何個でも可)\n",
    "        Returens:\n",
    "            applied (Qubits): 演算子適用後の量子ビット\n",
    "        \"\"\"\n",
    "        amp = self._amp\n",
    "        for op in operators:\n",
    "            amp = op.dot(amp)                  # 演算子を左からかけていく\n",
    "        applied = self.__class__(self.n_bits)  # 自分のクラスを呼び出している\n",
    "        applied._amp = amp                     # 演算後の状態を記録する\n",
    "        return applied                         # 演算後の量子ビットを返す ( applied.__str__ が呼び出される )\n",
    "        \n",
    "        \n",
    "    def __str__(self):\n",
    "        \"\"\"\n",
    "        print時に呼び出されるメソッド\n",
    "        \n",
    "        Returns:\n",
    "            (amp)|0010>\n",
    "        \"\"\"\n",
    "        return \" + \".join(\n",
    "            (\"{}|{:0\" + str(self.n_bits) + \"b}>\").format(amp, i)\n",
    "            for i, amp in enumerate(self._amp) if amp\n",
    "        )"
   ]
  },
  {
   "cell_type": "code",
   "execution_count": 112,
   "metadata": {},
   "outputs": [
    {
     "name": "stdout",
     "output_type": "stream",
     "text": [
      "ビット数 2\n",
      "行数 4\n",
      "重さ的な奴 [[0.+0.j]\n",
      " [0.+0.j]\n",
      " [1.+0.j]\n",
      " [0.+0.j]]\n",
      "10番目(二進数)は [1.+0.j]\n",
      "合計は (1+0j)\n",
      "量子表示 [1.+0.j]|10>\n",
      "観測結果 [1, 0]\n",
      "演算結果 [1.+0.j]|1>\n"
     ]
    }
   ],
   "source": [
    "# Tests\n",
    "qubits = Qubits(2)                # 2量子ビットを定義\n",
    "qubits.set_bits([1, 0])  # 1量子ビット目のみ|1>で、他は|0>\n",
    "\n",
    "print(\"ビット数\",qubits.n_bits)\n",
    "print(\"行数\",qubits.n_states)\n",
    "\n",
    "print(\"重さ的な奴\",qubits._amp)\n",
    "print(\"10番目(二進数)は\",qubits._amp[int('10', 2)])\n",
    "print(\"合計は\",qubits._amp.sum())\n",
    "\n",
    "print(\"量子表示\",qubits)\n",
    "print(\"観測結果\",qubits.measure())\n",
    "\n",
    "x=np.array([[0,1],\n",
    "            [1,0]])\n",
    "qubits = Qubits(1)\n",
    "qubits.set_bits([0])\n",
    "\n",
    "ans = qubits.apply(x)\n",
    "print(\"演算結果\",ans)"
   ]
  },
  {
   "cell_type": "markdown",
   "metadata": {},
   "source": [
    "# 演算関数"
   ]
  },
  {
   "cell_type": "markdown",
   "metadata": {},
   "source": [
    "### テンソル積"
   ]
  },
  {
   "cell_type": "code",
   "execution_count": 113,
   "metadata": {},
   "outputs": [],
   "source": [
    "def tensor(*operater):\n",
    "    result = operater[0]\n",
    "    for i in range(1, len(operater)):\n",
    "        result = np.kron(result, operater[i])\n",
    "    return result"
   ]
  },
  {
   "cell_type": "code",
   "execution_count": 114,
   "metadata": {},
   "outputs": [
    {
     "data": {
      "text/plain": [
       "array([1, 2, 2, 4, 3, 6])"
      ]
     },
     "execution_count": 114,
     "metadata": {},
     "output_type": "execute_result"
    }
   ],
   "source": [
    "arr1 = np.array([1,2,3])\n",
    "arr2 = np.array([1,2])\n",
    "\n",
    "tensor(arr1, arr2)"
   ]
  },
  {
   "cell_type": "markdown",
   "metadata": {},
   "source": [
    "### 単位演算子 I"
   ]
  },
  {
   "cell_type": "code",
   "execution_count": 115,
   "metadata": {},
   "outputs": [],
   "source": [
    "def I(n_bits):\n",
    "    return np.eye(2**n_bits)"
   ]
  },
  {
   "cell_type": "code",
   "execution_count": 116,
   "metadata": {},
   "outputs": [
    {
     "data": {
      "text/plain": [
       "array([[1., 0., 0., 0.],\n",
       "       [0., 1., 0., 0.],\n",
       "       [0., 0., 1., 0.],\n",
       "       [0., 0., 0., 1.]])"
      ]
     },
     "execution_count": 116,
     "metadata": {},
     "output_type": "execute_result"
    }
   ],
   "source": [
    "I(2)"
   ]
  },
  {
   "cell_type": "markdown",
   "metadata": {},
   "source": [
    "### ビット反転演算子 X"
   ]
  },
  {
   "cell_type": "code",
   "execution_count": 117,
   "metadata": {},
   "outputs": [],
   "source": [
    "def X(n_bits, target):\n",
    "    return tensor(I(target), np.array([[0,1],[1,0]]), I(n_bits-target-1))"
   ]
  },
  {
   "cell_type": "code",
   "execution_count": 118,
   "metadata": {},
   "outputs": [
    {
     "data": {
      "text/plain": [
       "array([[0., 0., 1., 0.],\n",
       "       [0., 0., 0., 1.],\n",
       "       [1., 0., 0., 0.],\n",
       "       [0., 1., 0., 0.]])"
      ]
     },
     "execution_count": 118,
     "metadata": {},
     "output_type": "execute_result"
    }
   ],
   "source": [
    "X(2,0) # 第一引数: ビット数  第二引数: 標的ビット"
   ]
  },
  {
   "cell_type": "markdown",
   "metadata": {},
   "source": [
    "### アダマールゲート H"
   ]
  },
  {
   "cell_type": "code",
   "execution_count": 119,
   "metadata": {},
   "outputs": [],
   "source": [
    "def H(n_bits, target):\n",
    "    return tensor(I(target), np.array([[1,1],[1,-1]])/np.sqrt(2), I(n_bits-target-1))"
   ]
  },
  {
   "cell_type": "code",
   "execution_count": 120,
   "metadata": {},
   "outputs": [
    {
     "name": "stdout",
     "output_type": "stream",
     "text": [
      "[[ 0.70710678  0.70710678]\n",
      " [ 0.70710678 -0.70710678]]\n",
      "[1.+0.j]|1>\n",
      "[0.70710678+0.j]|0> + [-0.70710678+0.j]|1>\n"
     ]
    }
   ],
   "source": [
    "h = H(1,0)\n",
    "qubits = Qubits(1)\n",
    "qubits.set_bits([1])\n",
    "print(h)\n",
    "print(qubits)\n",
    "\n",
    "print(qubits.apply(h))"
   ]
  },
  {
   "cell_type": "markdown",
   "metadata": {},
   "source": [
    "### CNOT演算子"
   ]
  },
  {
   "cell_type": "code",
   "execution_count": 131,
   "metadata": {},
   "outputs": [],
   "source": [
    "def CNOT(n_bits, control, target):\n",
    "    pass"
   ]
  },
  {
   "cell_type": "code",
   "execution_count": null,
   "metadata": {},
   "outputs": [],
   "source": []
  },
  {
   "cell_type": "markdown",
   "metadata": {},
   "source": [
    "### Tゲート"
   ]
  },
  {
   "cell_type": "code",
   "execution_count": 132,
   "metadata": {},
   "outputs": [],
   "source": [
    "def T(n_bits, target):\n",
    "    pass"
   ]
  },
  {
   "cell_type": "code",
   "execution_count": null,
   "metadata": {},
   "outputs": [],
   "source": []
  },
  {
   "cell_type": "markdown",
   "metadata": {},
   "source": [
    "### CUゲート"
   ]
  },
  {
   "cell_type": "code",
   "execution_count": 133,
   "metadata": {},
   "outputs": [],
   "source": [
    "def CU(U):\n",
    "    pass"
   ]
  },
  {
   "cell_type": "code",
   "execution_count": null,
   "metadata": {},
   "outputs": [],
   "source": []
  }
 ],
 "metadata": {
  "kernelspec": {
   "display_name": "Python 3",
   "language": "python",
   "name": "python3"
  },
  "language_info": {
   "codemirror_mode": {
    "name": "ipython",
    "version": 3
   },
   "file_extension": ".py",
   "mimetype": "text/x-python",
   "name": "python",
   "nbconvert_exporter": "python",
   "pygments_lexer": "ipython3",
   "version": "3.6.5"
  }
 },
 "nbformat": 4,
 "nbformat_minor": 2
}
