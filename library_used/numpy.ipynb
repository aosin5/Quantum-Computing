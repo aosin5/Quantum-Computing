{
 "cells": [
  {
   "cell_type": "markdown",
   "metadata": {},
   "source": [
    "# numpyを使った行列演算"
   ]
  },
  {
   "cell_type": "markdown",
   "metadata": {},
   "source": [
    "pythonを使って行列の演算を行う\n",
    "numpyを使うと行列の積や逆行列、行列式、固有値などを簡単に算出できる。"
   ]
  },
  {
   "cell_type": "markdown",
   "metadata": {},
   "source": [
    "numpyには汎用的な多次元配列のクラスnumpy.ndarrayと、行列(2次元配列)に特化したクラスnumpy.matrixがある。今回はndarrayを使うことにする。"
   ]
  },
  {
   "cell_type": "markdown",
   "metadata": {},
   "source": [
    "今回することをまとめておくと  \n",
    "・行列オブジェクトの生成: numpy.array(), numpy.reshape()  \n",
    "・行列の要素の取得と変更  \n",
    "・転置行列: .T属性  \n",
    "・行列の和と差: +演算子, -演算子  \n",
    "・スカラー倍と要素ごとの積: \\*演算子, numpy.multiply()  \n",
    "・行列の積: numpy.dot(), numpy.matmul(), @演算子  \n",
    "・べき乗: \\*\\*演算子  \n",
    "・ベクトルの内積: numpy.inner()  \n",
    "・逆行列: numpy.linalg.inv()  \n",
    "・行列式: numpy.linalg.det()  \n",
    "・固有値と固有ベクトル: numpy.linalg.eig()  \n",
    "・行列の結合･分割:   numpy.concatenate(axis), numpy.split(axis)  \n",
    "・テンソル積: numpy.tensordot()  \n",
    "・クロネッカー積: numpy.kron()"
   ]
  },
  {
   "cell_type": "markdown",
   "metadata": {},
   "source": [
    "### 行列オブジェクトの生成  \n",
    "numpy配列numpy.ndarrayはnumpy.array()で生成できる。  \n",
    "第一引数にpythonのリストなどを渡す。"
   ]
  },
  {
   "cell_type": "code",
   "execution_count": 29,
   "metadata": {},
   "outputs": [
    {
     "name": "stdout",
     "output_type": "stream",
     "text": [
      "[[0 1 2]\n",
      " [3 4 5]]\n",
      "<class 'numpy.ndarray'>\n"
     ]
    }
   ],
   "source": [
    "import numpy as np\n",
    "arr=np.array([[0,1,2], [3,4,5]])\n",
    "print(arr)\n",
    "print(type(arr))"
   ]
  },
  {
   "cell_type": "markdown",
   "metadata": {},
   "source": [
    "numpy.array()のほかには等差数列を生成する関数np.arange()などでもndarrayを生成できる。さらにreshape()メソッドで形状を変更したりすることも可能。"
   ]
  },
  {
   "cell_type": "code",
   "execution_count": 30,
   "metadata": {},
   "outputs": [
    {
     "name": "stdout",
     "output_type": "stream",
     "text": [
      "[0 1 2 3 4 5]\n",
      "[[0 1 2]\n",
      " [3 4 5]]\n"
     ]
    }
   ],
   "source": [
    "arr=np.arange(6)\n",
    "print(arr)\n",
    "\n",
    "arr=np.arange(6).reshape((2,3))\n",
    "print(arr)"
   ]
  },
  {
   "cell_type": "markdown",
   "metadata": {},
   "source": [
    "そのほか、任意の形状を同じ値で初期化するnumpy.zeros(), numpy.ones(), numpy.full(), numpy.eye()などもある。"
   ]
  },
  {
   "cell_type": "code",
   "execution_count": 31,
   "metadata": {},
   "outputs": [
    {
     "data": {
      "text/plain": [
       "array([[0., 0., 0.],\n",
       "       [0., 0., 0.]])"
      ]
     },
     "execution_count": 31,
     "metadata": {},
     "output_type": "execute_result"
    }
   ],
   "source": [
    "np.zeros((2,3))"
   ]
  },
  {
   "cell_type": "markdown",
   "metadata": {},
   "source": [
    "### 行列の要素の取得と変更(代入)  \n",
    "pythonリスト型と同様に、numpy.ndarrayはarr[行番号][列番号]またはarr[行番号,列番号]でアクセスできる。行番号・式番号は0始まり。値を取得することも変更(代入)することもできる。"
   ]
  },
  {
   "cell_type": "code",
   "execution_count": 32,
   "metadata": {},
   "outputs": [
    {
     "name": "stdout",
     "output_type": "stream",
     "text": [
      "1\n",
      "1\n",
      "[[  0 100   2]\n",
      " [  3   4   5]]\n"
     ]
    }
   ],
   "source": [
    "print(arr[0][1])\n",
    "print(arr[0,1])\n",
    "arr[0,1]=100\n",
    "print(arr)"
   ]
  },
  {
   "cell_type": "markdown",
   "metadata": {},
   "source": [
    "### 転置行列: .T属性  \n",
    "numpy.ndarrayは.Tで転置行列を取得できる。"
   ]
  },
  {
   "cell_type": "code",
   "execution_count": 33,
   "metadata": {},
   "outputs": [
    {
     "name": "stdout",
     "output_type": "stream",
     "text": [
      "[[0 1 2]\n",
      " [3 4 5]]\n",
      "[[0 3]\n",
      " [1 4]\n",
      " [2 5]]\n"
     ]
    }
   ],
   "source": [
    "arr=np.arange(6).reshape((2,3))\n",
    "print(arr)\n",
    "\n",
    "arr_t=arr.T\n",
    "print(arr_t)"
   ]
  },
  {
   "cell_type": "markdown",
   "metadata": {},
   "source": [
    "### 行列の輪と積: +演算子, -演算子  \n",
    "numpy.ndarrayでは、+演算子と-演算子でそれぞれ加算・減算できる。"
   ]
  },
  {
   "cell_type": "code",
   "execution_count": 34,
   "metadata": {},
   "outputs": [
    {
     "name": "stdout",
     "output_type": "stream",
     "text": [
      "[[0 1 2]\n",
      " [3 4 5]]\n",
      "[[ 0  2  4]\n",
      " [ 6  8 10]]\n",
      "[[ 0  3  6]\n",
      " [ 9 12 15]]\n",
      "[[ 0 -1 -2]\n",
      " [-3 -4 -5]]\n"
     ]
    }
   ],
   "source": [
    "arr1=np.arange(6).reshape((2,3))\n",
    "print(arr1)\n",
    "\n",
    "arr2=np.arange(0,12,2).reshape((2,3))\n",
    "print(arr2)\n",
    "\n",
    "arr_sum=arr1+arr2\n",
    "print(arr_sum)\n",
    "\n",
    "arr_sub=arr1-arr2\n",
    "print(arr_sub)"
   ]
  },
  {
   "cell_type": "markdown",
   "metadata": {},
   "source": [
    "### スカラー倍と要素ごとの積: \\*演算子, numpy.multiply()  \n",
    "numpy.ndarrayでは数値との\\*演算は各要素のスカラー倍となる。"
   ]
  },
  {
   "cell_type": "code",
   "execution_count": 35,
   "metadata": {},
   "outputs": [
    {
     "name": "stdout",
     "output_type": "stream",
     "text": [
      "[[ 0  2  4]\n",
      " [ 6  8 10]]\n"
     ]
    }
   ],
   "source": [
    "arr_mul=arr1*2\n",
    "print(arr_mul)"
   ]
  },
  {
   "cell_type": "markdown",
   "metadata": {},
   "source": [
    "行列同士の要素ごとの積(アダマール積)を取得するには、numpy.multiply()を使う。"
   ]
  },
  {
   "cell_type": "code",
   "execution_count": 36,
   "metadata": {
    "scrolled": true
   },
   "outputs": [
    {
     "name": "stdout",
     "output_type": "stream",
     "text": [
      "[[ 0  2  8]\n",
      " [18 32 50]]\n"
     ]
    }
   ],
   "source": [
    "arr_mul=np.multiply(arr1,arr2)\n",
    "print(arr_mul)"
   ]
  },
  {
   "cell_type": "markdown",
   "metadata": {},
   "source": [
    "numpy.ndarrayでは\\*演算子はnumpy.multiply()と等価で、要素ごとの積算になる。"
   ]
  },
  {
   "cell_type": "code",
   "execution_count": 37,
   "metadata": {},
   "outputs": [
    {
     "name": "stdout",
     "output_type": "stream",
     "text": [
      "[[ 0  2  8]\n",
      " [18 32 50]]\n"
     ]
    }
   ],
   "source": [
    "arr_mul=arr1*arr2\n",
    "print(arr_mul)"
   ]
  },
  {
   "cell_type": "markdown",
   "metadata": {},
   "source": [
    "### 行列同士の積: numpy.dot(), numpy.matmul(), @演算子  \n",
    "行列の積を算出するには、numpy.dot(), numpy.matmul(), @演算子を使う。"
   ]
  },
  {
   "cell_type": "code",
   "execution_count": 38,
   "metadata": {},
   "outputs": [
    {
     "name": "stdout",
     "output_type": "stream",
     "text": [
      "[[0 1]\n",
      " [2 3]]\n",
      "[[0 1 2]\n",
      " [3 4 5]]\n",
      "[[ 3  4  5]\n",
      " [ 9 14 19]]\n",
      "[[ 3  4  5]\n",
      " [ 9 14 19]]\n",
      "[[ 3  4  5]\n",
      " [ 9 14 19]]\n",
      "[[ 3  4  5]\n",
      " [ 9 14 19]]\n"
     ]
    }
   ],
   "source": [
    "arr1=np.arange(4).reshape((2, 2))\n",
    "print(arr1)\n",
    "arr2=np.arange(6).reshape((2, 3))\n",
    "print(arr2)\n",
    "\n",
    "arr_mul_matrix=np.dot(arr1, arr2)\n",
    "print(arr_mul_matrix)\n",
    "\n",
    "arr_mul_matrix=arr1.dot(arr2)\n",
    "print(arr_mul_matrix)\n",
    "\n",
    "arr_mul_matrix=np.matmul(arr1,arr2)\n",
    "print(arr_mul_matrix)\n",
    "\n",
    "arr_mul_matrix=arr1@arr2\n",
    "print(arr_mul_matrix)"
   ]
  },
  {
   "cell_type": "markdown",
   "metadata": {},
   "source": [
    "### べき乗:\\*\\*演算子  \n",
    "\\*\\*演算子についてnumpy.ndarrayでは各要素に対してべき乗処理が行われる。"
   ]
  },
  {
   "cell_type": "code",
   "execution_count": 39,
   "metadata": {},
   "outputs": [
    {
     "name": "stdout",
     "output_type": "stream",
     "text": [
      "[[1 2]\n",
      " [3 4]]\n",
      "[[ 1  4]\n",
      " [ 9 16]]\n"
     ]
    }
   ],
   "source": [
    "arr=np.arange(1,5).reshape(2,2)\n",
    "print(arr)\n",
    "\n",
    "arr_p=arr**2\n",
    "print(arr_p)"
   ]
  },
  {
   "cell_type": "markdown",
   "metadata": {},
   "source": [
    "### ベクトルの内積: numpy.inner()  \n",
    "行列(二次元配列)というテーマからずれるが、ベクトル(一次元配列)の内積を算出するにはnumpy.inner()を使う。"
   ]
  },
  {
   "cell_type": "code",
   "execution_count": 40,
   "metadata": {},
   "outputs": [
    {
     "name": "stdout",
     "output_type": "stream",
     "text": [
      "14\n"
     ]
    }
   ],
   "source": [
    "v1=np.array([0,1,2])\n",
    "v2=np.array([3,4,5])\n",
    "inner=np.inner(v1,v2)\n",
    "print(inner)"
   ]
  },
  {
   "cell_type": "markdown",
   "metadata": {},
   "source": [
    "numpy.dot(), numpy.matmul()でも引数が一次元配列の場合は内積を返すようになっている。@演算子でも同様。"
   ]
  },
  {
   "cell_type": "markdown",
   "metadata": {},
   "source": [
    "### 逆行列: numpy.linalg.inv(),  \n",
    "逆行列を算出するには、numpy.linalg.inv()を使う。"
   ]
  },
  {
   "cell_type": "code",
   "execution_count": 41,
   "metadata": {},
   "outputs": [
    {
     "name": "stdout",
     "output_type": "stream",
     "text": [
      "[[ 3. -5.]\n",
      " [-1.  2.]]\n",
      "[[1. 0.]\n",
      " [0. 1.]]\n"
     ]
    }
   ],
   "source": [
    "arr=np.array([[2,5],[1,3]])\n",
    "\n",
    "arr_inv=np.linalg.inv(arr)\n",
    "print(arr_inv)\n",
    "\n",
    "print(arr@arr_inv)"
   ]
  },
  {
   "cell_type": "markdown",
   "metadata": {},
   "source": [
    "### 行列式: numpy.linalg.det()  \n",
    "行列式を算出するには、numpy.linalg.det()を使う。"
   ]
  },
  {
   "cell_type": "code",
   "execution_count": 42,
   "metadata": {},
   "outputs": [
    {
     "name": "stdout",
     "output_type": "stream",
     "text": [
      "-2.0\n"
     ]
    }
   ],
   "source": [
    "arr=np.array([[0,1],[2,3]])\n",
    "det=np.linalg.det(arr)\n",
    "print(det)"
   ]
  },
  {
   "cell_type": "markdown",
   "metadata": {},
   "source": [
    "### 固有値と固有ベクトル: numpy.linalg.eig()  \n",
    "固有値と固有ベクトルを算出するには、numpy.linalg.eig()を使う。"
   ]
  },
  {
   "cell_type": "markdown",
   "metadata": {},
   "source": [
    "n次正方行列に対して、n個の固有値が要素となる一次元配列wと、各列が各々の固有値に対応する固有ベクトルとなる二次元配列vが返される。"
   ]
  },
  {
   "cell_type": "markdown",
   "metadata": {},
   "source": [
    "i個目の固有値w[i]と、i列目の固有ベクトルv[:,i]が対応している。固有ベクトルは1に規格化した値。"
   ]
  },
  {
   "cell_type": "code",
   "execution_count": 43,
   "metadata": {},
   "outputs": [
    {
     "name": "stdout",
     "output_type": "stream",
     "text": [
      "[ 1. -1.]\n",
      "[[ 0.70710678 -0.70710678]\n",
      " [ 0.70710678  0.70710678]]\n",
      "value: 1.0\n",
      "vector: [1. 1.]\n"
     ]
    }
   ],
   "source": [
    "arr=np.array([[0,1], [1,0]])\n",
    "w, v=np.linalg.eig(arr)\n",
    "\n",
    "print(w)\n",
    "print(v)\n",
    "\n",
    "print('value:',w[0])\n",
    "print('vector:',v[:,0]/v[0,0])"
   ]
  },
  {
   "cell_type": "markdown",
   "metadata": {},
   "source": [
    "最大固有値を求めたい場合は、最大値のインデックスを返すnumpy.argmax()を使えば良い。"
   ]
  },
  {
   "cell_type": "code",
   "execution_count": 44,
   "metadata": {},
   "outputs": [
    {
     "name": "stdout",
     "output_type": "stream",
     "text": [
      "1.0\n",
      "[0.70710678 0.70710678]\n"
     ]
    }
   ],
   "source": [
    "print(w[np.argmax(w)])\n",
    "print(v[:,np.argmax(w)])"
   ]
  },
  {
   "cell_type": "markdown",
   "metadata": {},
   "source": [
    "以下のような関数を定義すると、対応する固有値と固有ベクトルのペアのタプルのリストを取得できる。固有ベクトルは1で規格化された値だとよく分からないので、各列の0ではない最も絶対値が小さい値で割っている。"
   ]
  },
  {
   "cell_type": "code",
   "execution_count": 45,
   "metadata": {},
   "outputs": [
    {
     "name": "stdout",
     "output_type": "stream",
     "text": [
      "value: 1.0, vector: [1. 1.]\n",
      "value: -1.0, vector: [-1.  1.]\n"
     ]
    }
   ],
   "source": [
    "def get_eigenpairs(arr):\n",
    "    w,v=np.linalg.eig(arr)\n",
    "    eigenpairs=[]\n",
    "    \n",
    "    for i,val in enumerate(w):\n",
    "        vec=v[:,i]/np.min(np.abs(v[:,i][v[:,i] !=0]))\n",
    "        eigenpairs.append((val,vec))\n",
    "    \n",
    "    return eigenpairs\n",
    "\n",
    "eigenpairs=get_eigenpairs(arr)\n",
    "\n",
    "for val,vec in eigenpairs:\n",
    "    print('value: {}, vector: {}'.format(val,vec))"
   ]
  },
  {
   "cell_type": "markdown",
   "metadata": {},
   "source": [
    "3×3の例。 "
   ]
  },
  {
   "cell_type": "code",
   "execution_count": 46,
   "metadata": {},
   "outputs": [
    {
     "name": "stdout",
     "output_type": "stream",
     "text": [
      "value: 1.0, vector: [1. 0. 0.]\n",
      "value: 2.0, vector: [1. 1. 0.]\n",
      "value: 3.0, vector: [ 1. -2.  2.]\n"
     ]
    }
   ],
   "source": [
    "arr=np.array([[1,1,2], [0,2,-1], [0,0,3]])\n",
    "eigenpairs=get_eigenpairs(arr)\n",
    "\n",
    "for val,vec in eigenpairs:\n",
    "    print('value: {}, vector: {}'.format(val,vec))"
   ]
  },
  {
   "cell_type": "markdown",
   "metadata": {},
   "source": [
    "複素数も扱うことができる。虚数単位はjで表される。"
   ]
  },
  {
   "cell_type": "code",
   "execution_count": 47,
   "metadata": {},
   "outputs": [
    {
     "name": "stdout",
     "output_type": "stream",
     "text": [
      "value: (3+2.0000000000000004j), vector: [0.-1.j 1.+0.j]\n",
      "value: (3-2.0000000000000004j), vector: [0.+1.j 1.-0.j]\n"
     ]
    }
   ],
   "source": [
    "arr=np.array([[3,2], [-2,3]])\n",
    "eigenpairs=get_eigenpairs(arr)\n",
    "\n",
    "for val,vec in eigenpairs:\n",
    "    print('value: {}, vector: {}'.format(val,vec))"
   ]
  },
  {
   "cell_type": "code",
   "execution_count": 48,
   "metadata": {},
   "outputs": [
    {
     "name": "stdout",
     "output_type": "stream",
     "text": [
      "[[ -4. -18.  24.  -7.]\n",
      " [ 16. -11. -13.  28.]\n",
      " [-21.  30. -40.  67.]\n",
      " [ 11.   8.  17. -43.]]\n"
     ]
    }
   ],
   "source": [
    "arr=np.array([[1,4,1,4], [2,1,3,5], [6,2,3,5], [3,2,2,2]])\n",
    "arr_inv=np.linalg.inv(arr)\n",
    "print(arr_inv*83)"
   ]
  },
  {
   "cell_type": "markdown",
   "metadata": {},
   "source": [
    "### 行列の結合･分割:   numpy.concatenate(axis), numpy.split(axis)  \n",
    "下にくっつける様に行列同士の結合を行う際にはconcatenate(axis=0)を用いる。  \n",
    "右にくっつける様に行列同士の結合を行う際にはconcatenate(axis=1)を用いる。  \n",
    "この記法なら次元が上がっても対応できる。"
   ]
  },
  {
   "cell_type": "code",
   "execution_count": 49,
   "metadata": {},
   "outputs": [
    {
     "name": "stdout",
     "output_type": "stream",
     "text": [
      "[[ 0  1  2]\n",
      " [ 3  4  5]\n",
      " [ 6  7  8]\n",
      " [ 9 10 11]]\n",
      "[[ 0  1  2  6  7  8]\n",
      " [ 3  4  5  9 10 11]]\n"
     ]
    }
   ],
   "source": [
    "arr1=np.arange(6).reshape(2,3)\n",
    "arr2=np.arange(6,12).reshape(2,3)\n",
    "\n",
    "arr_v=np.concatenate((arr1,arr2),axis=0)\n",
    "print(arr_v)\n",
    "\n",
    "arr_h=np.concatenate((arr1,arr2),axis=1)\n",
    "print(arr_h)"
   ]
  },
  {
   "cell_type": "markdown",
   "metadata": {},
   "source": [
    "行列の分割を行う際にはnumpy.split(axis)を使う。  \n",
    "上下に分割させるときはsplit(axis=0)を用いる。  \n",
    "左右に分割させるときはsplit(axis=1)を用いる。"
   ]
  },
  {
   "cell_type": "code",
   "execution_count": 50,
   "metadata": {},
   "outputs": [
    {
     "name": "stdout",
     "output_type": "stream",
     "text": [
      "[[0 1 2 3]]\n",
      "[[ 4  5  6  7]\n",
      " [ 8  9 10 11]]\n",
      "[[0 1]\n",
      " [4 5]\n",
      " [8 9]]\n",
      "[[ 2  3]\n",
      " [ 6  7]\n",
      " [10 11]]\n"
     ]
    }
   ],
   "source": [
    "arr=np.arange(12).reshape(3,4)\n",
    "\n",
    "a,b=np.split(arr,[1],axis=0)\n",
    "print(a)\n",
    "print(b)\n",
    "\n",
    "a,b=np.split(arr,2,axis=1)\n",
    "print(a)\n",
    "print(b)"
   ]
  },
  {
   "cell_type": "markdown",
   "metadata": {},
   "source": [
    "### テンソル積: numpy.tensordot()  \n",
    "テンソル積を算出するにはnumpy.tensordot()を使う。"
   ]
  },
  {
   "cell_type": "code",
   "execution_count": 51,
   "metadata": {},
   "outputs": [
    {
     "name": "stdout",
     "output_type": "stream",
     "text": [
      "[[[[2 3]\n",
      "   [4 5]]\n",
      "\n",
      "  [[0 0]\n",
      "   [0 0]]]\n",
      "\n",
      "\n",
      " [[[0 0]\n",
      "   [0 0]]\n",
      "\n",
      "  [[2 3]\n",
      "   [4 5]]]]\n"
     ]
    }
   ],
   "source": [
    "arr1=np.array([[1,0],\n",
    "               [0,1]])\n",
    "arr2=np.array([[2,3],\n",
    "               [4,5]])\n",
    "\n",
    "arr_tensor=np.tensordot(arr1,arr2,0)\n",
    "print(arr_tensor)"
   ]
  },
  {
   "cell_type": "markdown",
   "metadata": {},
   "source": [
    "テンソル積をもっと扱いやすい形で算出したい。"
   ]
  },
  {
   "cell_type": "code",
   "execution_count": 52,
   "metadata": {},
   "outputs": [],
   "source": [
    "def get_td(a,b):\n",
    "    x=np.tensordot(a,b,0)\n",
    "    return np.concatenate([np.concatenate(x[i],axis=1) for i in range(len(x))],axis=0)"
   ]
  },
  {
   "cell_type": "code",
   "execution_count": 53,
   "metadata": {},
   "outputs": [
    {
     "data": {
      "text/plain": [
       "array([[2, 3, 0, 0],\n",
       "       [4, 5, 0, 0],\n",
       "       [0, 0, 2, 3],\n",
       "       [0, 0, 4, 5]])"
      ]
     },
     "execution_count": 53,
     "metadata": {},
     "output_type": "execute_result"
    }
   ],
   "source": [
    "get_td(arr1,arr2)"
   ]
  },
  {
   "cell_type": "markdown",
   "metadata": {},
   "source": [
    "### クロネッカー積: numpy.kron()  \n",
    "二次元の行列において上のテンソル積はクロネッカー積とよく似ている"
   ]
  },
  {
   "cell_type": "code",
   "execution_count": 54,
   "metadata": {},
   "outputs": [
    {
     "data": {
      "text/plain": [
       "array([[2, 3, 0, 0],\n",
       "       [4, 5, 0, 0],\n",
       "       [0, 0, 2, 3],\n",
       "       [0, 0, 4, 5]])"
      ]
     },
     "execution_count": 54,
     "metadata": {},
     "output_type": "execute_result"
    }
   ],
   "source": [
    "np.kron(arr1,arr2)"
   ]
  },
  {
   "cell_type": "code",
   "execution_count": null,
   "metadata": {},
   "outputs": [],
   "source": []
  }
 ],
 "metadata": {
  "kernelspec": {
   "display_name": "Python 3",
   "language": "python",
   "name": "python3"
  },
  "language_info": {
   "codemirror_mode": {
    "name": "ipython",
    "version": 3
   },
   "file_extension": ".py",
   "mimetype": "text/x-python",
   "name": "python",
   "nbconvert_exporter": "python",
   "pygments_lexer": "ipython3",
   "version": "3.6.5"
  }
 },
 "nbformat": 4,
 "nbformat_minor": 2
}
