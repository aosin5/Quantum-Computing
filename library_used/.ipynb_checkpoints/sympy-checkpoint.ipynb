{
 "cells": [
  {
   "cell_type": "markdown",
   "metadata": {},
   "source": [
    "# Sympyを用いたアダマールテスト"
   ]
  },
  {
   "cell_type": "markdown",
   "metadata": {},
   "source": [
    "Numpyを用いた行列によるアダマールテストに限界を感じたので、Sympy.physics.quantumを用いて量子ビットの感覚でアダマールテストのシュミレーションを行う。"
   ]
  },
  {
   "cell_type": "code",
   "execution_count": 1,
   "metadata": {},
   "outputs": [],
   "source": [
    "from IPython.display import Image, display_png\n",
    "from sympy import *\n",
    "from sympy.physics.quantum import *\n",
    "from sympy.physics.quantum.qubit import Qubit,QubitBra\n",
    "from sympy.physics.quantum.gate import X,Y,Z,H,S,T,CNOT,SWAP, CPHASE\n",
    "from sympy.physics.quantum.gate import UGate\n",
    "from sympy.physics.quantum.gate import IdentityGate as _I\n",
    "from sympy.printing.dot import dotprint\n",
    "from sympy.physics.quantum.gate import X,Y,Z,H,S,T,CNOT,SWAP,CPHASE\n",
    "init_printing()"
   ]
  },
  {
   "cell_type": "markdown",
   "metadata": {},
   "source": [
    "### Sympy.physics.quantumの使い方"
   ]
  },
  {
   "cell_type": "markdown",
   "metadata": {},
   "source": [
    "量子状態はシンボリックに取り扱える。"
   ]
  },
  {
   "cell_type": "code",
   "execution_count": 2,
   "metadata": {},
   "outputs": [
    {
     "data": {
      "image/png": "[encoded data removed]",
      "text/latex": [
       "$$\\alpha {\\left|0\\right\\rangle } + \\beta {\\left|1\\right\\rangle }$$"
      ],
      "text/plain": [
       "α⋅❘0⟩ + β⋅❘1⟩"
      ]
     },
     "execution_count": 2,
     "metadata": {},
     "output_type": "execute_result"
    }
   ],
   "source": [
    "a,b=symbols('alpha, beta')\n",
    "ket0=Qubit('0')\n",
    "ket1=Qubit('1')\n",
    "psi=a*ket0+b*ket1\n",
    "psi"
   ]
  },
  {
   "cell_type": "code",
   "execution_count": 3,
   "metadata": {},
   "outputs": [
    {
     "data": {
      "image/png": "[encoded data removed]",
      "text/latex": [
       "$$\\frac{\\sqrt{2}}{2} {\\left|0\\right\\rangle } + \\frac{\\sqrt{2}}{2} {\\left|1\\right\\rangle }$$"
      ],
      "text/plain": [
       "√2⋅❘0⟩   √2⋅❘1⟩\n",
       "────── + ──────\n",
       "  2        2   "
      ]
     },
     "execution_count": 3,
     "metadata": {},
     "output_type": "execute_result"
    }
   ],
   "source": [
    "psi.subs([([a,1/sqrt(2)]),(b,1/sqrt(2))])"
   ]
  },
  {
   "cell_type": "markdown",
   "metadata": {},
   "source": [
    "演算子は何番目の量子ビットに作用するか、いくつの量子ビットの空間で表現するかを指定する必要がある。**ただし作用する量子ビットの番号は通常と異なり後ろ(ビット表記で右側)から数え始めるので要注意。**"
   ]
  },
  {
   "cell_type": "code",
   "execution_count": 4,
   "metadata": {},
   "outputs": [
    {
     "data": {
      "image/png": "[encoded data removed]",
      "text/latex": [
       "$$\\left[\\begin{matrix}0 & 1 & 0 & 0\\\\1 & 0 & 0 & 0\\\\0 & 0 & 0 & 1\\\\0 & 0 & 1 & 0\\end{matrix}\\right]$$"
      ],
      "text/plain": [
       "⎡0  1  0  0⎤\n",
       "⎢          ⎥\n",
       "⎢1  0  0  0⎥\n",
       "⎢          ⎥\n",
       "⎢0  0  0  1⎥\n",
       "⎢          ⎥\n",
       "⎣0  0  1  0⎦"
      ]
     },
     "execution_count": 4,
     "metadata": {},
     "output_type": "execute_result"
    }
   ],
   "source": [
    "represent(X(0),nqubits=2)"
   ]
  },
  {
   "cell_type": "code",
   "execution_count": 5,
   "metadata": {},
   "outputs": [
    {
     "data": {
      "image/png": "[encoded data removed]",
      "text/latex": [
       "$$X_{0} H_{0} {\\left|0\\right\\rangle }$$"
      ],
      "text/plain": [
       "X ⋅H ⋅❘0⟩\n",
       " 0  0    "
      ]
     },
     "execution_count": 5,
     "metadata": {},
     "output_type": "execute_result"
    }
   ],
   "source": [
    "MyU=X(0)*H(0) \n",
    "MyU*ket0 #形式的に作用"
   ]
  },
  {
   "cell_type": "code",
   "execution_count": 6,
   "metadata": {},
   "outputs": [
    {
     "data": {
      "image/png": "[encoded data removed]",
      "text/latex": [
       "$$\\frac{\\sqrt{2}}{2} {\\left|0\\right\\rangle } + \\frac{\\sqrt{2}}{2} {\\left|1\\right\\rangle }$$"
      ],
      "text/plain": [
       "√2⋅❘0⟩   √2⋅❘1⟩\n",
       "────── + ──────\n",
       "  2        2   "
      ]
     },
     "execution_count": 6,
     "metadata": {},
     "output_type": "execute_result"
    }
   ],
   "source": [
    "qapply(MyU*ket0) #実際的に作用"
   ]
  },
  {
   "cell_type": "markdown",
   "metadata": {},
   "source": [
    "Ugateを使えば自分で演算子を作ることもできる。ただしこうして自作した演算子はすでにある演算子のように自由にqapplyできるわけではない。複雑になるとエラーを起こす。"
   ]
  },
  {
   "cell_type": "code",
   "execution_count": 7,
   "metadata": {},
   "outputs": [
    {
     "data": {
      "image/png": "[encoded data removed]",
      "text/latex": [
       "$$\\left[\\begin{matrix}0 & 1\\\\1 & 0\\end{matrix}\\right]$$"
      ],
      "text/plain": [
       "⎡0  1⎤\n",
       "⎢    ⎥\n",
       "⎣1  0⎦"
      ]
     },
     "execution_count": 7,
     "metadata": {},
     "output_type": "execute_result"
    }
   ],
   "source": [
    "import numpy as np\n",
    "MyMX=Matrix([[0,1],[1,0]])\n",
    "MyX=UGate(0,MyMX) # Ugateの第一引数は作用するビット番号\n",
    "represent(MyX,nqubits=1)"
   ]
  },
  {
   "cell_type": "code",
   "execution_count": 8,
   "metadata": {},
   "outputs": [
    {
     "data": {
      "image/png": "[encoded data removed]",
      "text/latex": [
       "$$\\frac{\\sqrt{2}}{2} {\\left|0\\right\\rangle } + \\frac{\\sqrt{2}}{2} {\\left|1\\right\\rangle }$$"
      ],
      "text/plain": [
       "√2⋅❘0⟩   √2⋅❘1⟩\n",
       "────── + ──────\n",
       "  2        2   "
      ]
     },
     "execution_count": 8,
     "metadata": {},
     "output_type": "execute_result"
    }
   ],
   "source": [
    "MyU1=H(0)*MyX\n",
    "MyU2=MyX*H(0)\n",
    "qapply(MyU1*Qubit('1'))\n",
    "#qapply(MyU2*Qubit('1'))とするとエラー"
   ]
  },
  {
   "cell_type": "markdown",
   "metadata": {},
   "source": [
    "2ビット以上の演算についてはTensorProduct()でテンソル積をとればよい"
   ]
  },
  {
   "cell_type": "code",
   "execution_count": 9,
   "metadata": {},
   "outputs": [
    {
     "data": {
      "image/png": "[encoded data removed]",
      "text/latex": [
       "$$\\left({\\alpha {\\left|0\\right\\rangle } + \\beta {\\left|1\\right\\rangle }}\\right)\\otimes \\left({\\delta {\\left|1\\right\\rangle } + \\gamma {\\left|0\\right\\rangle }}\\right)$$"
      ],
      "text/plain": [
       "(α⋅❘0⟩ + β⋅❘1⟩)⨂ (δ⋅❘1⟩ + γ⋅❘0⟩)"
      ]
     },
     "execution_count": 9,
     "metadata": {},
     "output_type": "execute_result"
    }
   ],
   "source": [
    "a,b,c,d = symbols('alpha,beta,gamma,delta')\n",
    "psi = a*Qubit('0')+b*Qubit('1')\n",
    "phi = c*Qubit('0')+d*Qubit('1')\n",
    "TensorProduct(psi, phi) #テンソル積"
   ]
  },
  {
   "cell_type": "code",
   "execution_count": 10,
   "metadata": {},
   "outputs": [
    {
     "data": {
      "image/png": "[encoded data removed]",
      "text/latex": [
       "$$H_{0} {{\\left|0\\right\\rangle }}\\otimes {{\\left|0\\right\\rangle }}$$"
      ],
      "text/plain": [
       "H ⋅❘0⟩⨂ ❘0⟩\n",
       " 0         "
      ]
     },
     "execution_count": 10,
     "metadata": {},
     "output_type": "execute_result"
    }
   ],
   "source": [
    "qapply(H(0)*TensorProduct(Qubit('0'),Qubit('0')))"
   ]
  },
  {
   "cell_type": "markdown",
   "metadata": {},
   "source": [
    "qapplyが動かない。どうしようもなくなった。c言語シュミレーター使うか..."
   ]
  },
  {
   "cell_type": "code",
   "execution_count": null,
   "metadata": {},
   "outputs": [],
   "source": []
  }
 ],
 "metadata": {
  "kernelspec": {
   "display_name": "Python 3",
   "language": "python",
   "name": "python3"
  },
  "language_info": {
   "codemirror_mode": {
    "name": "ipython",
    "version": 3
   },
   "file_extension": ".py",
   "mimetype": "text/x-python",
   "name": "python",
   "nbconvert_exporter": "python",
   "pygments_lexer": "ipython3",
   "version": "3.6.5"
  }
 },
 "nbformat": 4,
 "nbformat_minor": 2
}
