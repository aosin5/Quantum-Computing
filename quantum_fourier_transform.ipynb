{
 "cells": [
  {
   "cell_type": "markdown",
   "metadata": {},
   "source": [
    "# 量子フーリエ変換を行列表示しよう"
   ]
  },
  {
   "cell_type": "markdown",
   "metadata": {},
   "source": [
    "位相推定アルゴリズムの中で逆量子フーリエ変換が行われる。よってこの演算を行列表示する必要がある。"
   ]
  },
  {
   "cell_type": "markdown",
   "metadata": {},
   "source": [
    "## やるべきことの確認\n",
    "1. $R_{m}$ゲートを作る。\n",
    "2. 第tビットを標的ビットとして、を作用させる演算を行列表示。($0\\leqq t \\leqq n-2$)  \n",
    "第n-1ビットを標的ビットとするときは$H$ゲートのみを作用させる。\n",
    "3. ビットを入れ替えるスワップゲートを行列表示\n",
    "4. 最終的に求めた演算行列の転置複素共役をとって逆量子フーリエ変換の演算にする。"
   ]
  },
  {
   "cell_type": "code",
   "execution_count": 150,
   "metadata": {},
   "outputs": [],
   "source": [
    "import numpy as np\n",
    "import math"
   ]
  },
  {
   "cell_type": "markdown",
   "metadata": {},
   "source": [
    "制御回転ゲートRmを作る。引数はビット数n,標的ビットの番号t,欲しいゲートm。なお制御ビットの番号はt+m-1で与えられる。  \n",
    "**nは2の乗数であり、tは $0\\leqq t \\leqq n-2$ を満たし、mは $2\\leqq m \\leqq n-t$ を満たしている必要がある。**"
   ]
  },
  {
   "cell_type": "code",
   "execution_count": 151,
   "metadata": {},
   "outputs": [],
   "source": [
    "def get_Rm(n,t,m):\n",
    "    zero=np.array([[1,0],[0,0]])\n",
    "    one=np.array([[0,0],[0,1]])\n",
    "    \n",
    "    Rm_zero=np.kron(np.eye((2**(t+m-1))),np.kron(zero,np.eye(2**(n-t-m))))\n",
    "    Rm_one=np.kron(np.eye(2**t),np.kron(zero+(math.e**(2j*math.pi/2**m))*one,np.kron(np.eye((2**(m-2))),np.kron(one,np.eye((2**(n-t-m)))))))\n",
    "    \n",
    "    return Rm_zero+Rm_one"
   ]
  },
  {
   "cell_type": "code",
   "execution_count": 152,
   "metadata": {},
   "outputs": [
    {
     "data": {
      "text/plain": [
       "array([[1.000000e+00+0.j, 0.000000e+00+0.j, 0.000000e+00+0.j,\n",
       "        0.000000e+00+0.j],\n",
       "       [0.000000e+00+0.j, 1.000000e+00+0.j, 0.000000e+00+0.j,\n",
       "        0.000000e+00+0.j],\n",
       "       [0.000000e+00+0.j, 0.000000e+00+0.j, 1.000000e+00+0.j,\n",
       "        0.000000e+00+0.j],\n",
       "       [0.000000e+00+0.j, 0.000000e+00+0.j, 0.000000e+00+0.j,\n",
       "        6.123234e-17+1.j]])"
      ]
     },
     "execution_count": 152,
     "metadata": {},
     "output_type": "execute_result"
    }
   ],
   "source": [
    "get_Rm(2,0,2)"
   ]
  },
  {
   "cell_type": "markdown",
   "metadata": {},
   "source": [
    "第tビット目を標的ビットにして$H$$R_{2}R_{3}$...$R_{n-t}$ゲートを作用させる演算を行列表示。($0\\leqq t \\leqq n-2$)  \n",
    "ただし第n-1ビット目に対しては$H$ゲートのみを作用させる。"
   ]
  },
  {
   "cell_type": "code",
   "execution_count": 153,
   "metadata": {},
   "outputs": [],
   "source": [
    "def get_HR(n,t):\n",
    "    H=np.array([[1,1],[1,-1]])/math.sqrt(2)\n",
    "    HR=np.kron(np.eye((2**t)),np.kron(H,np.eye(2**(n-t-1))))\n",
    "    \n",
    "    if t==n-1:\n",
    "        return HR\n",
    "    for i in range(2, n-t+1, 1):\n",
    "        HR=get_Rm(n,t,i)@HR\n",
    "    \n",
    "    return HR"
   ]
  },
  {
   "cell_type": "code",
   "execution_count": 154,
   "metadata": {},
   "outputs": [
    {
     "data": {
      "text/plain": [
       "(array([[ 7.07106781e-01+0.j        ,  0.00000000e+00+0.j        ,\n",
       "          7.07106781e-01+0.j        ,  0.00000000e+00+0.j        ],\n",
       "        [ 0.00000000e+00+0.j        ,  7.07106781e-01+0.j        ,\n",
       "          0.00000000e+00+0.j        ,  7.07106781e-01+0.j        ],\n",
       "        [ 7.07106781e-01+0.j        ,  0.00000000e+00+0.j        ,\n",
       "         -7.07106781e-01+0.j        ,  0.00000000e+00+0.j        ],\n",
       "        [ 0.00000000e+00+0.j        ,  4.32978028e-17+0.70710678j,\n",
       "          0.00000000e+00+0.j        , -4.32978028e-17-0.70710678j]]),\n",
       " array([[ 0.70710678,  0.70710678,  0.        ,  0.        ],\n",
       "        [ 0.70710678, -0.70710678,  0.        , -0.        ],\n",
       "        [ 0.        ,  0.        ,  0.70710678,  0.70710678],\n",
       "        [ 0.        , -0.        ,  0.70710678, -0.70710678]]))"
      ]
     },
     "execution_count": 154,
     "metadata": {},
     "output_type": "execute_result"
    }
   ],
   "source": [
    "get_HR(2,0),get_HR(2,1)"
   ]
  },
  {
   "cell_type": "markdown",
   "metadata": {},
   "source": [
    "スワップゲートを作用させることはは入れ替えたい2ビットa,bに対してCNOTゲートを三回作用させることと同じである。ただし1回目の制御ビットをaとすれば2回目の制御ビットはbで3回目はaでなければならない。"
   ]
  },
  {
   "cell_type": "code",
   "execution_count": 155,
   "metadata": {},
   "outputs": [],
   "source": [
    "zero=np.array([[1,0],[0,0]])\n",
    "one=np.array([[0,0],[0,1]])\n",
    "X=np.array([[0,1],[1,0]])\n",
    "\n",
    "def change(n,a,b):\n",
    "    CNOT_a=np.kron(np.eye((2**a)),np.kron(zero,np.eye((2**(n-a-1)))))+np.kron(np.eye((2**a)),np.kron(one,np.kron(np.eye((2**(b-a-1))),np.kron(X,np.eye((2**(n-b-1)))))))\n",
    "    CNOT_b=np.kron(np.eye((2**b)),np.kron(zero,np.eye((2**(n-b-1)))))+np.kron(np.eye((2**a)),np.kron(X,np.kron(np.eye((2**(b-a-1))),np.kron(one,np.eye((2**(n-b-1)))))))\n",
    "    return CNOT_a@CNOT_b@CNOT_a"
   ]
  },
  {
   "cell_type": "code",
   "execution_count": 169,
   "metadata": {},
   "outputs": [
    {
     "data": {
      "text/plain": [
       "array([[0.],\n",
       "       [0.],\n",
       "       [1.],\n",
       "       [0.]])"
      ]
     },
     "execution_count": 169,
     "metadata": {},
     "output_type": "execute_result"
    }
   ],
   "source": [
    "state=np.array([[0],[1],[0],[0]])\n",
    "change(2,0,1)@state"
   ]
  },
  {
   "cell_type": "markdown",
   "metadata": {},
   "source": [
    "0からn-1のビットをn/2-1番目とn/2番目を対称面として、すべて入れ替えるスワップゲートを行列表示する。"
   ]
  },
  {
   "cell_type": "code",
   "execution_count": 157,
   "metadata": {},
   "outputs": [],
   "source": [
    "def get_swap(n):\n",
    "    swap=np.eye((2**n))\n",
    "    for i in range(int(n/2)):\n",
    "        swap=change(n,i,n-1-i)@swap\n",
    "    return swap"
   ]
  },
  {
   "cell_type": "code",
   "execution_count": 158,
   "metadata": {},
   "outputs": [
    {
     "data": {
      "text/plain": [
       "array([[1., 0., 0., 0.],\n",
       "       [0., 0., 1., 0.],\n",
       "       [0., 1., 0., 0.],\n",
       "       [0., 0., 0., 1.]])"
      ]
     },
     "execution_count": 158,
     "metadata": {},
     "output_type": "execute_result"
    }
   ],
   "source": [
    "get_swap(2)"
   ]
  },
  {
   "cell_type": "markdown",
   "metadata": {},
   "source": [
    "今までのを組み合わせて、量子フーリエ変換の演算を行列表示する。  \n",
    "引数はビット数nのみ"
   ]
  },
  {
   "cell_type": "code",
   "execution_count": 159,
   "metadata": {},
   "outputs": [],
   "source": [
    "def Q_Fourier(n):\n",
    "    Q_Fourier=np.eye((2**n))\n",
    "    for i in range(n):\n",
    "        Q_Fourier=get_HR(n,i)@Q_Fourier\n",
    "    return get_swap(n)@Q_Fourier"
   ]
  },
  {
   "cell_type": "code",
   "execution_count": 160,
   "metadata": {},
   "outputs": [
    {
     "data": {
      "text/plain": [
       "array([[ 0.70710678,  0.70710678],\n",
       "       [ 0.70710678, -0.70710678]])"
      ]
     },
     "execution_count": 160,
     "metadata": {},
     "output_type": "execute_result"
    }
   ],
   "source": [
    "Q_Fourier(1) # 1ビットの量子フーリエ変換はHゲートに一致する"
   ]
  },
  {
   "cell_type": "code",
   "execution_count": 161,
   "metadata": {},
   "outputs": [
    {
     "data": {
      "text/plain": [
       "array([[ 5.000000e-01+0.j ,  5.000000e-01+0.j ,  5.000000e-01+0.j ,\n",
       "         5.000000e-01+0.j ],\n",
       "       [ 5.000000e-01+0.j ,  3.061617e-17+0.5j, -5.000000e-01+0.j ,\n",
       "        -3.061617e-17-0.5j],\n",
       "       [ 5.000000e-01+0.j , -5.000000e-01+0.j ,  5.000000e-01+0.j ,\n",
       "        -5.000000e-01+0.j ],\n",
       "       [ 5.000000e-01+0.j , -3.061617e-17-0.5j, -5.000000e-01+0.j ,\n",
       "         3.061617e-17+0.5j]])"
      ]
     },
     "execution_count": 161,
     "metadata": {},
     "output_type": "execute_result"
    }
   ],
   "source": [
    "Q_Fourier(2)"
   ]
  },
  {
   "cell_type": "markdown",
   "metadata": {},
   "source": [
    "逆量子フーリエ変換の行列表示を返すメソッド"
   ]
  },
  {
   "cell_type": "code",
   "execution_count": 162,
   "metadata": {},
   "outputs": [],
   "source": [
    "def inv_Fourier(n):\n",
    "    IF=np.conjugate(Q_Fourier(n))\n",
    "    return IF.T"
   ]
  },
  {
   "cell_type": "code",
   "execution_count": 163,
   "metadata": {},
   "outputs": [
    {
     "data": {
      "text/plain": [
       "array([[1., 0.],\n",
       "       [0., 1.]])"
      ]
     },
     "execution_count": 163,
     "metadata": {},
     "output_type": "execute_result"
    }
   ],
   "source": [
    "inv_Fourier(1) @ Q_Fourier(1)"
   ]
  },
  {
   "cell_type": "code",
   "execution_count": null,
   "metadata": {},
   "outputs": [],
   "source": []
  }
 ],
 "metadata": {
  "kernelspec": {
   "display_name": "Python 3",
   "language": "python",
   "name": "python3"
  },
  "language_info": {
   "codemirror_mode": {
    "name": "ipython",
    "version": 3
   },
   "file_extension": ".py",
   "mimetype": "text/x-python",
   "name": "python",
   "nbconvert_exporter": "python",
   "pygments_lexer": "ipython3",
   "version": "3.6.5"
  }
 },
 "nbformat": 4,
 "nbformat_minor": 2
}
