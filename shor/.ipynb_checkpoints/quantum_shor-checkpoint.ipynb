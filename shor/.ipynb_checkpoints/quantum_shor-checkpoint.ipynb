{
 "cells": [
  {
   "cell_type": "markdown",
   "metadata": {},
   "source": [
    "# ショアのアルゴリズムを行列で表現"
   ]
  },
  {
   "cell_type": "markdown",
   "metadata": {},
   "source": [
    "位相推定アルゴリズムを利用してショアのアルゴリズムを行列でシュミレートする。"
   ]
  },
  {
   "cell_type": "markdown",
   "metadata": {},
   "source": [
    "### やりたいことの確認\n",
    "1. 因数分解したい数Nに対して、Nと互いに素でありNより小さい自然数xを定める。  \n",
    "2. そのNとxを使って、ユニタリ行列$U_{x}=\\sum_{y=0}^{2^{n}-1} |xy (mod N)><y|$ を行列表現する。($2^{n-1}-1<N-1<=2^{n}-1$)  \n",
    "3. その$U_{x}$の固有値の位相$\\psi$を推定する。  \n",
    "4. $s/t(=\\psi)$に対して連分数展開を行い位数$t$を求める。\n",
    "5. $t$が偶数なら$gcd(x^{t/2}-1,N)$か$gcd(x^{t/2}+1,N)$がNの因数となる。"
   ]
  },
  {
   "cell_type": "code",
   "execution_count": 1,
   "metadata": {},
   "outputs": [],
   "source": [
    "import numpy as np\n",
    "import math\n",
    "import random # 疑似量子的観測に用いる\n",
    "from fractions import Fraction # 有理数近似に用いる\n",
    "import re # 分母を取り出すときに用いる"
   ]
  },
  {
   "cell_type": "markdown",
   "metadata": {},
   "source": [
    "Nに対する適当なxと位数rを求める関数  \n",
    "条件を満たすxが見つかると一度関数を中断して値を返すyieldが使われている  "
   ]
  },
  {
   "cell_type": "code",
   "execution_count": 2,
   "metadata": {},
   "outputs": [],
   "source": [
    "def find_x(N):\n",
    "    for x in range(2,int(N)):\n",
    "        if math.gcd(x,int(N))==1:\n",
    "            yield x\n",
    "        else:\n",
    "            continue"
   ]
  },
  {
   "cell_type": "code",
   "execution_count": 3,
   "metadata": {},
   "outputs": [
    {
     "name": "stdout",
     "output_type": "stream",
     "text": [
      "3\n",
      "7\n",
      "9\n"
     ]
    }
   ],
   "source": [
    "for x in find_x(10):\n",
    "    print(x)"
   ]
  },
  {
   "cell_type": "markdown",
   "metadata": {},
   "source": [
    "$U_{x}$を行列表現する関数"
   ]
  },
  {
   "cell_type": "code",
   "execution_count": 4,
   "metadata": {},
   "outputs": [],
   "source": [
    "def get_Ux(N,x):\n",
    "    # Nに対するnを求める\n",
    "    i=0\n",
    "    while(True):\n",
    "        if N<=2**i:\n",
    "            n=i\n",
    "            break\n",
    "        else:\n",
    "            i+=1\n",
    "    \n",
    "    Ux=np.zeros((2**n,2**n))\n",
    "    \n",
    "    for y in range(2**n):\n",
    "        ket=np.zeros((2**n,1))\n",
    "        ket[(x*y)%N,0]=1\n",
    "        bra=np.zeros((1,2**n))\n",
    "        bra[0,y]=1\n",
    "        Ux=Ux+np.kron(ket,bra)\n",
    "    \n",
    "    return Ux"
   ]
  },
  {
   "cell_type": "markdown",
   "metadata": {},
   "source": [
    "位相推定アルゴリズムを用いる。  \n",
    "ただし前回と違って初期状態が固有状態の重ね合わせの|1>になっており、少し改善が必要。"
   ]
  },
  {
   "cell_type": "code",
   "execution_count": 5,
   "metadata": {},
   "outputs": [],
   "source": [
    "def get_vec_list(U):\n",
    "    w,v=np.linalg.eig(U)\n",
    "    vec_list=[]\n",
    "    \n",
    "    for i in range(len(w)):\n",
    "        x=v[:,i]\n",
    "        vec_list.append(x.reshape(len(x),1))\n",
    "    \n",
    "    return vec_list"
   ]
  },
  {
   "cell_type": "code",
   "execution_count": 6,
   "metadata": {},
   "outputs": [],
   "source": [
    "def get_state(psi,r):\n",
    "    zero=np.zeros((2**r,1))\n",
    "    zero[0]=1\n",
    "    return np.kron(zero,psi)"
   ]
  },
  {
   "cell_type": "code",
   "execution_count": 7,
   "metadata": {},
   "outputs": [],
   "source": [
    "def get_H_gate(U,r):\n",
    "    m,m=U.shape\n",
    "    n=int(math.log(m,2))\n",
    "    H_gate=np.array([[1]])\n",
    "    H=np.array([[1,1],[1,-1]])/math.sqrt(2)\n",
    "    for i in range(r):\n",
    "        H_gate=np.kron(H_gate,H)\n",
    "    return np.kron(H_gate,np.eye((2**n)))"
   ]
  },
  {
   "cell_type": "code",
   "execution_count": 8,
   "metadata": {},
   "outputs": [],
   "source": [
    "def get_CUk_list(U,r):\n",
    "    m,m=U.shape\n",
    "    n=int(math.log(m,2))\n",
    "    zero=np.array([[1,0],[0,0]])\n",
    "    one=np.array([[0,0],[0,1]])\n",
    "    \n",
    "    # まずはUk_listを作る\n",
    "    Uk_list=[U]\n",
    "    for i in range(r-1):\n",
    "        Uk_list.append(Uk_list[i]@Uk_list[i])\n",
    "    \n",
    "    # 次にCUk_listを作る CUkの制御ビットはr-1-k番目のビット、標的ビットは2**n行の固有状態\n",
    "    CUk_list=[]\n",
    "    for k in range(r):\n",
    "        CUk_zero=np.kron(np.eye((2**(r-1-k))),np.kron(zero,np.kron(np.eye((2**(k))),np.eye((2**n)))))\n",
    "        CUk_one=np.kron(np.eye((2**(r-1-k))),np.kron(one,np.kron(np.eye((2**(k))),Uk_list[k])))\n",
    "        CUk_list.append(CUk_zero+CUk_one)\n",
    "    \n",
    "    return CUk_list    "
   ]
  },
  {
   "cell_type": "code",
   "execution_count": 9,
   "metadata": {},
   "outputs": [],
   "source": [
    "def get_Rm(n,t,m):\n",
    "    zero=np.array([[1,0],[0,0]])\n",
    "    one=np.array([[0,0],[0,1]])\n",
    "    \n",
    "    Rm_zero=np.kron(np.eye((2**(t+m-1))),np.kron(zero,np.eye(2**(n-t-m))))\n",
    "    Rm_one=np.kron(np.eye(2**t),np.kron(zero+(math.e**(2j*math.pi/2**m))*one,np.kron(np.eye((2**(m-2))),np.kron(one,np.eye((2**(n-t-m)))))))\n",
    "    \n",
    "    return Rm_zero+Rm_one"
   ]
  },
  {
   "cell_type": "code",
   "execution_count": 10,
   "metadata": {},
   "outputs": [],
   "source": [
    "def get_HR(n,t):\n",
    "    H=np.array([[1,1],[1,-1]])/math.sqrt(2)\n",
    "    HR=np.kron(np.eye((2**t)),np.kron(H,np.eye(2**(n-t-1))))\n",
    "    \n",
    "    if t==n-1:\n",
    "        return HR\n",
    "    for i in range(2, n-t+1, 1):\n",
    "        HR=get_Rm(n,t,i)@HR # 左にどんどんかけていく\n",
    "    \n",
    "    return HR"
   ]
  },
  {
   "cell_type": "code",
   "execution_count": 11,
   "metadata": {},
   "outputs": [],
   "source": [
    "def change(n,a,b):\n",
    "    zero=np.array([[1,0],[0,0]])\n",
    "    one=np.array([[0,0],[0,1]])\n",
    "    X=np.array([[0,1],[1,0]])\n",
    "    \n",
    "    CNOT_a=np.kron(np.eye((2**a)),np.kron(zero,np.eye((2**(n-a-1)))))+np.kron(np.eye((2**a)),np.kron(one,np.kron(np.eye((2**(b-a-1))),np.kron(X,np.eye((2**(n-b-1)))))))\n",
    "    CNOT_b=np.kron(np.eye((2**b)),np.kron(zero,np.eye((2**(n-b-1)))))+np.kron(np.eye((2**a)),np.kron(X,np.kron(np.eye((2**(b-a-1))),np.kron(one,np.eye((2**(n-b-1)))))))\n",
    "    return CNOT_a@CNOT_b@CNOT_a"
   ]
  },
  {
   "cell_type": "code",
   "execution_count": 12,
   "metadata": {},
   "outputs": [],
   "source": [
    "def get_swap(n):\n",
    "    swap=np.eye((2**n))\n",
    "    if n%2==0:\n",
    "        for i in range(int(n/2)):\n",
    "            swap=change(n,i,n-1-i)@swap\n",
    "    else:\n",
    "        for i in range(int((n-1)/2)):\n",
    "            swap=change(n,i,n-1-i)@swap\n",
    "    return swap"
   ]
  },
  {
   "cell_type": "code",
   "execution_count": 13,
   "metadata": {},
   "outputs": [],
   "source": [
    "def Q_Fourier(n):\n",
    "    Q_Fourier=np.eye((2**n))\n",
    "    for i in range(n):\n",
    "        Q_Fourier=get_HR(n,i)@Q_Fourier\n",
    "    return get_swap(n)@Q_Fourier"
   ]
  },
  {
   "cell_type": "code",
   "execution_count": 14,
   "metadata": {},
   "outputs": [],
   "source": [
    "def inv_Fourier(n):\n",
    "    IF=np.conjugate(Q_Fourier(n))\n",
    "    return IF.T"
   ]
  },
  {
   "cell_type": "code",
   "execution_count": 15,
   "metadata": {},
   "outputs": [],
   "source": [
    "def get_inv_Fourier(U,r):\n",
    "    m,m=U.shape\n",
    "    n=int(math.log(m,2))\n",
    "    return np.kron(inv_Fourier(r),np.eye((2**n)))"
   ]
  },
  {
   "cell_type": "markdown",
   "metadata": {},
   "source": [
    "get_phase: 0ビット目からr-1ビット目までを確率的に観測する関数  \n",
    "stateの上半分の成分の絶対値の二乗の和=0ビット目が|0>の確率Pzero  \n",
    "こうして0ビット目を|0>と決定した場合、次の1ビット目を観測するときはstateの上半分をPzero^(1/2)で割ったものを使う\n",
    "こうしてr-1ビット目までを確率的に観測する  \n",
    "なおkビット目の観測結果が|1>であった場合はpsiに(1/2)^(k+1)を足し合わせる。これは二進数表記を十進数表記に直している操作である。"
   ]
  },
  {
   "cell_type": "code",
   "execution_count": 16,
   "metadata": {},
   "outputs": [],
   "source": [
    "def get_phase(state,r):\n",
    "    # 0ビット目からr-1ビット目までを確率的に観測する関数\n",
    "    psi=0\n",
    "    \n",
    "    for k in range(r):\n",
    "        n,m=state.shape\n",
    "        Pzero=sum([abs(state[j])**2 for j in range(int(n/2))]) # stateの上半分の絶対値の二乗の和\n",
    "        state_a, state_b=np.split(state,[int(n/2)],axis=0) # stateを上下に分割\n",
    "        P=random.random() # 疑似的に量子的な観測を行うためサイコロを振る\n",
    "        \n",
    "        if P<=Pzero:\n",
    "            state=state_a/(Pzero**(1/2)) # kビット目が|0>なら何もしないで、上半分を次に使う\n",
    "        \n",
    "        elif Pzero<P:\n",
    "            state=state_b/((1-Pzero)**(1/2)) # kビット目が|1>なら下半分を次に使う\n",
    "            psi+=(1/2)**(k+1) # 二進数を十進数にする\n",
    "        \n",
    "        else:\n",
    "            return psi,\"Error\"\n",
    "    \n",
    "    return psi"
   ]
  },
  {
   "cell_type": "markdown",
   "metadata": {},
   "source": [
    "phase_estimate: 位相s/tを返す関数  \n",
    "初期状態のpsiとして固有状態では無く|1>を用いている。  \n",
    "また精度rは行列Uxのサイズに合わせ、精度を安定させる。(これのせいでかなり遅くなる)"
   ]
  },
  {
   "cell_type": "code",
   "execution_count": 17,
   "metadata": {},
   "outputs": [],
   "source": [
    "def phase_estimate(U):\n",
    "    # 初期状態の生成\n",
    "    m,m=U.shape\n",
    "    n=int(math.log(m,2))\n",
    "    r=n\n",
    "    \n",
    "    psi=np.zeros((2**n,1))\n",
    "    psi[1]=1 # 初期状態の作成に使う psi は|00...01>を使う。上から二番目の要素だけ1にすればOK\n",
    "    state=get_state(psi,r)\n",
    "    \n",
    "    # 0からr-1番目のビットにアダマールゲートを作用させる\n",
    "    state=get_H_gate(U,r)@ state\n",
    "    \n",
    "    # k番目のビットを制御ビットとし、psiを標的ビットとしたCUkゲートを作用させる。(k=0～r-1)\n",
    "    CUk_list=get_CUk_list(U,r)\n",
    "    for i in range(r):\n",
    "        state=CUk_list[i]@ state\n",
    "    \n",
    "    # 最後に0からr-1番目のビットに逆量子フーリエ変換を作用させる。\n",
    "    state=get_inv_Fourier(U,r)@ state\n",
    "\n",
    "    # 0からr-1番目のビット列は$|\\phi_{1}\\phi_{2}...\\phi_{r}>$になっているためこれを行列表現された状態から得る。\n",
    "    return Fraction(get_phase(state,r))"
   ]
  },
  {
   "cell_type": "markdown",
   "metadata": {},
   "source": [
    "get_phaseとphase_estimateは書き直している。  \n",
    "get_phaseでは位相が一つに定まった前回と異なり、確率的にある固有値に対する位相を返すようになっている。当然その確率というのは実機と同じ挙動である。 phase_estimateでは初期状態のpsiとして固有状態では無く|1>を用いている。"
   ]
  },
  {
   "cell_type": "code",
   "execution_count": 18,
   "metadata": {},
   "outputs": [
    {
     "name": "stdout",
     "output_type": "stream",
     "text": [
      "位相: 0\n",
      "位相: 3/4\n",
      "位相: 0\n",
      "位相: 0\n",
      "位相: 1/4\n",
      "位相: 0\n",
      "位相: 1/4\n",
      "位相: 0\n",
      "位相: 0\n",
      "位相: 1/2\n"
     ]
    }
   ],
   "source": [
    "# 位相推定と違って出てくる位相は一つに確定していない\n",
    "# 実機と同じ挙動でs/tが得られる。あとはFractionで有理数近似するだけ。\n",
    "Ux=get_Ux(15,7)\n",
    "for i in range(10):\n",
    "    st=phase_estimate(Ux)\n",
    "    print(\"位相: \"+str(st))"
   ]
  },
  {
   "cell_type": "markdown",
   "metadata": {},
   "source": [
    "この場合位数としては2,4が候補である      \n",
    "$7^{2}=4(mod15)$  \n",
    "$7^{4}=1(mod15)$  \n",
    "位数として条件を満たすのは4である  \n",
    "このように確率的に位相が求まる...訳では無くxの取り方によっては求められない。例: (N,x)=(21,5)"
   ]
  },
  {
   "cell_type": "markdown",
   "metadata": {},
   "source": [
    "分数$s/t$を受け取り分母$t$を返す関数。一度文字列にしてから'/'で区切った右側を取り出し、int型にして返す。  "
   ]
  },
  {
   "cell_type": "code",
   "execution_count": 19,
   "metadata": {},
   "outputs": [],
   "source": [
    "def get_den(frac):\n",
    "    str_frac=str(Fraction(frac))\n",
    "    pattern = \"(.*)/(.*)\"\n",
    "    d = re.split(pattern, str_frac)\n",
    "    return int(d[2])"
   ]
  },
  {
   "cell_type": "code",
   "execution_count": 20,
   "metadata": {},
   "outputs": [
    {
     "data": {
      "text/plain": [
       "8"
      ]
     },
     "execution_count": 20,
     "metadata": {},
     "output_type": "execute_result"
    }
   ],
   "source": [
    "a=3/8\n",
    "get_den(a)"
   ]
  },
  {
   "cell_type": "markdown",
   "metadata": {},
   "source": [
    "今までのをまとめる。引数は因数分解したいNとx。返すのは位数$t$  \n",
    "ただし位相$s/t$が0のときはそのまま0をかえすことにする。"
   ]
  },
  {
   "cell_type": "code",
   "execution_count": 21,
   "metadata": {},
   "outputs": [],
   "source": [
    "def get_dig(N,x):\n",
    "    Ux=get_Ux(N,x)\n",
    "    st=phase_estimate(Ux)\n",
    "    if st==0:\n",
    "        return st\n",
    "    else:\n",
    "        t=get_den(st)\n",
    "        return t"
   ]
  },
  {
   "cell_type": "code",
   "execution_count": 22,
   "metadata": {},
   "outputs": [
    {
     "name": "stdout",
     "output_type": "stream",
     "text": [
      "位数: 0\n",
      "位数: 2\n",
      "位数: 2\n",
      "位数: 4\n",
      "位数: 2\n",
      "位数: 2\n",
      "位数: 4\n",
      "位数: 4\n",
      "位数: 2\n",
      "位数: 0\n"
     ]
    }
   ],
   "source": [
    "for i in range(10):\n",
    "    print(\"位数: \"+str(get_dig(15,7)))"
   ]
  },
  {
   "cell_type": "markdown",
   "metadata": {},
   "source": [
    "位数$t$が求まったら、$gcd(x^{t/2}-1,N)$か$gcd(x^{t/2}+1,N)$がNの因数となる。  \n",
    "ちなみに$t$は必ず2の乗数である。  \n",
    "注意事項としては、後々の都合により$t=0$の場合は因数として$1$を返すことにしている。  \n",
    "同様に因数が見つからなかった場合も$1$を返すことにした。"
   ]
  },
  {
   "cell_type": "code",
   "execution_count": 23,
   "metadata": {},
   "outputs": [],
   "source": [
    "def get_fac(N,x):\n",
    "    t=get_dig(N,x) # 位数を確率的に取得\n",
    "    \n",
    "    if t==0:\n",
    "        return 1\n",
    "    else:\n",
    "        fac1=math.gcd(x**int((t/2))-1,N)\n",
    "        fac2=math.gcd(x**int((t/2))+1,N)\n",
    "        if N%fac1==0:\n",
    "            return fac1\n",
    "        elif N%fac2==0:\n",
    "            return fac2\n",
    "        else:\n",
    "            return 1"
   ]
  },
  {
   "cell_type": "code",
   "execution_count": 24,
   "metadata": {
    "scrolled": false
   },
   "outputs": [
    {
     "name": "stdout",
     "output_type": "stream",
     "text": [
      "因数: 1\n",
      "因数: 3\n",
      "因数: 3\n",
      "因数: 1\n",
      "因数: 3\n",
      "因数: 3\n",
      "因数: 3\n",
      "因数: 3\n",
      "因数: 3\n",
      "因数: 1\n"
     ]
    }
   ],
   "source": [
    "for i in range(10):\n",
    "    print(\"因数: \"+str(get_fac(15,7)))"
   ]
  },
  {
   "cell_type": "markdown",
   "metadata": {},
   "source": [
    "後は自然数Nを受け取り因数分解する関数を作れば良い。  \n",
    "ただ一応素数判定は使わしてもらうことにする(本当は無しで組みたい)。  \n",
    "Nが素数ならFalse,違うならTrueを返す。"
   ]
  },
  {
   "cell_type": "code",
   "execution_count": 25,
   "metadata": {},
   "outputs": [],
   "source": [
    "def judge(N):\n",
    "    p = N ** 0.5\n",
    "    p = int(p) + 1\n",
    "    for i in range(2, int(p)):\n",
    "        if N % i == 0:\n",
    "            return True\n",
    "            break\n",
    "    else:\n",
    "        return False"
   ]
  },
  {
   "cell_type": "code",
   "execution_count": 26,
   "metadata": {},
   "outputs": [],
   "source": [
    "def Q_shor(N):\n",
    "    fac_list=[]\n",
    "    while(judge(N)):\n",
    "        for x in find_x(N): # xはランダムというよりは前から順番に選んでいくことにする。\n",
    "            fac=get_fac(N,x) # 因数の候補を取得\n",
    "            if N%fac==0 and fac!=1:\n",
    "                fac_list.append(fac)\n",
    "                N=int(N/fac)\n",
    "                break\n",
    "    fac_list.append(N)\n",
    "    return fac_list"
   ]
  },
  {
   "cell_type": "code",
   "execution_count": 46,
   "metadata": {},
   "outputs": [
    {
     "data": {
      "text/plain": [
       "[2, 3]"
      ]
     },
     "execution_count": 46,
     "metadata": {},
     "output_type": "execute_result"
    }
   ],
   "source": [
    "Q_shor(6)"
   ]
  },
  {
   "cell_type": "markdown",
   "metadata": {},
   "source": [
    "40くらいで結構怖い...  \n",
    "Jupyter Notebook ではメニューのKernelからInterruptを選ぶと実行を停止できる。  \n",
    "だいぶ荒く組んでいるので改善の余地は大いにあると思われる"
   ]
  },
  {
   "cell_type": "markdown",
   "metadata": {},
   "source": [
    "ここである考えについて思い至る。  \n",
    "別に無理して位数の推定にこれだけ時間をかけなくても2の何とか乗を、もしくは最大乗を使って$gcd(x^{t/2}-1,N)$か$gcd(x^{t/2}+1,N)$を使ってやれば古典計算機でも割と速く因数分解できるんじゃないか。と。  \n",
    "まあ今存在する最速因数分解アルゴリズムには及ばないと思うが、やってみる価値はあるんじゃないか。"
   ]
  },
  {
   "cell_type": "code",
   "execution_count": 65,
   "metadata": {},
   "outputs": [],
   "source": [
    "def Classic_get_fac(N,x):\n",
    "    \n",
    "    # Nに対するnを求める\n",
    "    n,i=0,0\n",
    "    while(True):\n",
    "        if N<=2**i:\n",
    "            n=i\n",
    "            break\n",
    "        else:\n",
    "            i+=1\n",
    "    \n",
    "    n=int(n*random.random())\n",
    "    t=2**n # 位数を適当にに取得   \n",
    "    \n",
    "    if t==0:\n",
    "        return 1\n",
    "    else:\n",
    "        fac1=math.gcd(x**int((t/2))-1,N)\n",
    "        fac2=math.gcd(x**int((t/2))+1,N)\n",
    "        if N%fac1==0:\n",
    "            return fac1\n",
    "        elif N%fac2==0:\n",
    "            return fac2\n",
    "        else:\n",
    "            return 1"
   ]
  },
  {
   "cell_type": "code",
   "execution_count": 72,
   "metadata": {},
   "outputs": [
    {
     "name": "stdout",
     "output_type": "stream",
     "text": [
      "15\n",
      "3\n",
      "15\n",
      "3\n",
      "3\n",
      "15\n",
      "15\n",
      "3\n",
      "15\n",
      "15\n"
     ]
    }
   ],
   "source": [
    "for i in range(10):\n",
    "    print(Classic_get_fac(15,7))"
   ]
  },
  {
   "cell_type": "code",
   "execution_count": 76,
   "metadata": {},
   "outputs": [],
   "source": [
    "def Classic_shor(N):\n",
    "    \"\"\"二つに分解するだけ\"\"\"\n",
    "    fac_list=[]\n",
    "    copy_N=N\n",
    "    \n",
    "    while(N==copy_N):\n",
    "        for x in find_x(N): # xはランダムというよりは前から順番に選んでいくことにする。\n",
    "            fac=Classic_get_fac(N,x) # 因数の候補を取得\n",
    "            if N%fac==0 and fac!=1 and fac!=N:\n",
    "                fac_list.append(fac)\n",
    "                N=int(N/fac)\n",
    "                break\n",
    "    fac_list.append(N)\n",
    "    return fac_list"
   ]
  },
  {
   "cell_type": "code",
   "execution_count": null,
   "metadata": {},
   "outputs": [],
   "source": [
    "Classic_shor(10000000)"
   ]
  },
  {
   "cell_type": "code",
   "execution_count": null,
   "metadata": {},
   "outputs": [],
   "source": []
  }
 ],
 "metadata": {
  "kernelspec": {
   "display_name": "Python 3",
   "language": "python",
   "name": "python3"
  },
  "language_info": {
   "codemirror_mode": {
    "name": "ipython",
    "version": 3
   },
   "file_extension": ".py",
   "mimetype": "text/x-python",
   "name": "python",
   "nbconvert_exporter": "python",
   "pygments_lexer": "ipython3",
   "version": "3.6.5"
  }
 },
 "nbformat": 4,
 "nbformat_minor": 2
}
