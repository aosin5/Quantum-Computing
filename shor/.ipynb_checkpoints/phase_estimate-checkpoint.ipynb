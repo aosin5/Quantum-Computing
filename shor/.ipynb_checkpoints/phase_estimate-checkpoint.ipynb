{
 "cells": [
  {
   "cell_type": "markdown",
   "metadata": {},
   "source": [
    "# 位相推定アルゴリズム"
   ]
  },
  {
   "cell_type": "markdown",
   "metadata": {},
   "source": [
    "シュミレータを使って位相推定アルゴリズムを実装する"
   ]
  },
  {
   "cell_type": "markdown",
   "metadata": {},
   "source": [
    "## やりたいことの確認\n",
    "1. ユニタリ行列Uの固有値を$e^{i2\\pi\\phi}$としたとき、求めたい位相は$\\phi$である($0\\leqq\\phi<1$)。ここで$\\phi$を二進数で表すと、$0.\\phi_{1}\\phi_{2}...\\phi_{r}$ であるとする。\n",
    "2. 0からr-1番目のビットに対してアダマールゲートを作用させる。\n",
    "3. kビット目を制御ビットとし固有状態$\\psi$を標的ビットとした$CU_{k}$ゲートを行列表現し左から作用させる($0 \\leqq k \\leqq r-1$) ($r$は精度を表す)$U_{k}=U^{2^{k}}$である。\n",
    "4. 0からr-1番目のビットを対象に逆量子フーリエ変換を行う。\n",
    "5. 0からr-1番目のビット列は$|\\phi_{1}\\phi_{2}...\\phi_{r}>$になっているためこれを行列表現された状態から得る。\n",
    "6. $\\phi_{1}\\phi_{2}...\\phi_{r}$を$N(=2^{r})$で割って、位相$\\phi$を得る。"
   ]
  },
  {
   "cell_type": "markdown",
   "metadata": {},
   "source": [
    "**すなわち位数推定アルゴリズムはユニタリ演算子Uと固有状態$\\psi$があって初めて固有値に対する位相$\\phi$が求められるのだ**  \n",
    "だが位数推定アルゴリズムでは固有状態を|1>で固定できるので、事前に固有状態を知っておく必要は無い。"
   ]
  },
  {
   "cell_type": "code",
   "execution_count": 1,
   "metadata": {},
   "outputs": [],
   "source": [
    "import numpy as np\n",
    "import math"
   ]
  },
  {
   "cell_type": "markdown",
   "metadata": {},
   "source": [
    "Uに対する固有状態を取得するメソッド。固有状態はv_listにまとめて返す。"
   ]
  },
  {
   "cell_type": "code",
   "execution_count": 2,
   "metadata": {},
   "outputs": [],
   "source": [
    "def get_vec_list(U):\n",
    "    w,v=np.linalg.eig(U)\n",
    "    vec_list=[]\n",
    "    \n",
    "    for i in range(len(w)):\n",
    "        x=v[:,i]\n",
    "        vec_list.append(x.reshape(len(x),1))\n",
    "    \n",
    "    return vec_list"
   ]
  },
  {
   "cell_type": "code",
   "execution_count": 3,
   "metadata": {},
   "outputs": [
    {
     "data": {
      "text/plain": [
       "[array([[0.70710678],\n",
       "        [0.70710678]]), array([[-0.70710678],\n",
       "        [ 0.70710678]])]"
      ]
     },
     "execution_count": 3,
     "metadata": {},
     "output_type": "execute_result"
    }
   ],
   "source": [
    "X=np.array([[0,1],[1,0]])\n",
    "get_vec_list(X)"
   ]
  },
  {
   "cell_type": "markdown",
   "metadata": {},
   "source": [
    "ユニタリ行列Uの固有状態psi、そしてrを受け取り初期状態を生成するメソッド。"
   ]
  },
  {
   "cell_type": "code",
   "execution_count": 4,
   "metadata": {},
   "outputs": [],
   "source": [
    "def get_state(psi,r):\n",
    "    zero=np.zeros((2**r,1))\n",
    "    zero[0]=1\n",
    "    return np.kron(zero,psi)"
   ]
  },
  {
   "cell_type": "code",
   "execution_count": 5,
   "metadata": {},
   "outputs": [
    {
     "data": {
      "text/plain": [
       "array([[0.70710678],\n",
       "       [0.70710678],\n",
       "       [0.        ],\n",
       "       [0.        ],\n",
       "       [0.        ],\n",
       "       [0.        ],\n",
       "       [0.        ],\n",
       "       [0.        ]])"
      ]
     },
     "execution_count": 5,
     "metadata": {},
     "output_type": "execute_result"
    }
   ],
   "source": [
    "vec_list=get_vec_list(X)\n",
    "get_state(vec_list[0],2)"
   ]
  },
  {
   "cell_type": "markdown",
   "metadata": {},
   "source": [
    "0からr-1番目のビットにアダマールゲートを作用させる演算を行列表示で表すメソッド。受け取るのはUとrにする。"
   ]
  },
  {
   "cell_type": "code",
   "execution_count": 6,
   "metadata": {},
   "outputs": [],
   "source": [
    "def get_H_gate(U,r):\n",
    "    m,m=U.shape\n",
    "    n=int(math.log(m,2))\n",
    "    H_gate=np.array([[1]])\n",
    "    H=np.array([[1,1],[1,-1]])/math.sqrt(2)\n",
    "    for i in range(r):\n",
    "        H_gate=np.kron(H_gate,H)\n",
    "    return np.kron(H_gate,np.eye((2**n)))"
   ]
  },
  {
   "cell_type": "code",
   "execution_count": 7,
   "metadata": {},
   "outputs": [
    {
     "data": {
      "text/plain": [
       "array([[ 0.5,  0. ,  0.5,  0. ,  0.5,  0. ,  0.5,  0. ],\n",
       "       [ 0. ,  0.5,  0. ,  0.5,  0. ,  0.5,  0. ,  0.5],\n",
       "       [ 0.5,  0. , -0.5, -0. ,  0.5,  0. , -0.5, -0. ],\n",
       "       [ 0. ,  0.5, -0. , -0.5,  0. ,  0.5, -0. , -0.5],\n",
       "       [ 0.5,  0. ,  0.5,  0. , -0.5, -0. , -0.5, -0. ],\n",
       "       [ 0. ,  0.5,  0. ,  0.5, -0. , -0.5, -0. , -0.5],\n",
       "       [ 0.5,  0. , -0.5, -0. , -0.5, -0. ,  0.5,  0. ],\n",
       "       [ 0. ,  0.5, -0. , -0.5, -0. , -0.5,  0. ,  0.5]])"
      ]
     },
     "execution_count": 7,
     "metadata": {},
     "output_type": "execute_result"
    }
   ],
   "source": [
    "get_H_gate(X,2)"
   ]
  },
  {
   "cell_type": "markdown",
   "metadata": {},
   "source": [
    "Uとrを受け取りr個の要素を持つCUkゲートリストを返す。k番目の要素がCUkゲートである。"
   ]
  },
  {
   "cell_type": "code",
   "execution_count": 8,
   "metadata": {},
   "outputs": [],
   "source": [
    "def get_CUk_list(U,r):\n",
    "    m,m=U.shape\n",
    "    n=int(math.log(m,2))\n",
    "    zero=np.array([[1,0],[0,0]])\n",
    "    one=np.array([[0,0],[0,1]])\n",
    "    \n",
    "    # まずはUk_listを作る\n",
    "    Uk_list=[U]\n",
    "    for i in range(r-1):\n",
    "        Uk_list.append(Uk_list[i]@Uk_list[i])\n",
    "    \n",
    "    # 次にCUk_listを作る CUkの制御ビットはr-1-k番目のビット、標的ビットは2**n行の固有状態\n",
    "    CUk_list=[]\n",
    "    for k in range(r):\n",
    "        CUk_zero=np.kron(np.eye((2**(r-1-k))),np.kron(zero,np.kron(np.eye((2**(k))),np.eye((2**n)))))\n",
    "        CUk_one=np.kron(np.eye((2**(r-1-k))),np.kron(one,np.kron(np.eye((2**(k))),Uk_list[k])))\n",
    "        CUk_list.append(CUk_zero+CUk_one)\n",
    "    \n",
    "    return CUk_list    "
   ]
  },
  {
   "cell_type": "code",
   "execution_count": 9,
   "metadata": {},
   "outputs": [
    {
     "data": {
      "text/plain": [
       "[array([[1., 0., 0., 0.],\n",
       "        [0., 1., 0., 0.],\n",
       "        [0., 0., 0., 1.],\n",
       "        [0., 0., 1., 0.]])]"
      ]
     },
     "execution_count": 9,
     "metadata": {},
     "output_type": "execute_result"
    }
   ],
   "source": [
    "U=np.array([[0,1],[1,0]])\n",
    "get_CUk_list(U,1)"
   ]
  },
  {
   "cell_type": "markdown",
   "metadata": {},
   "source": [
    "0からr-1番目のビットに対する逆量子離散的フーリエ変換を行う  \n",
    "下のはその準備"
   ]
  },
  {
   "cell_type": "code",
   "execution_count": 10,
   "metadata": {},
   "outputs": [],
   "source": [
    "def get_Rm(n,t,m):\n",
    "    zero=np.array([[1,0],[0,0]])\n",
    "    one=np.array([[0,0],[0,1]])\n",
    "    \n",
    "    Rm_zero=np.kron(np.eye((2**(t+m-1))),np.kron(zero,np.eye(2**(n-t-m))))\n",
    "    Rm_one=np.kron(np.eye(2**t),np.kron(zero+(math.e**(2j*math.pi/2**m))*one,np.kron(np.eye((2**(m-2))),np.kron(one,np.eye((2**(n-t-m)))))))\n",
    "    \n",
    "    return Rm_zero+Rm_one"
   ]
  },
  {
   "cell_type": "code",
   "execution_count": 11,
   "metadata": {},
   "outputs": [],
   "source": [
    "def get_HR(n,t):\n",
    "    H=np.array([[1,1],[1,-1]])/math.sqrt(2)\n",
    "    HR=np.kron(np.eye((2**t)),np.kron(H,np.eye(2**(n-t-1))))\n",
    "    \n",
    "    if t==n-1:\n",
    "        return HR\n",
    "    for i in range(2, n-t+1, 1):\n",
    "        HR=get_Rm(n,t,i)@HR # 左にどんどんかけていく\n",
    "    \n",
    "    return HR"
   ]
  },
  {
   "cell_type": "code",
   "execution_count": 12,
   "metadata": {},
   "outputs": [],
   "source": [
    "def change(n,a,b):\n",
    "    zero=np.array([[1,0],[0,0]])\n",
    "    one=np.array([[0,0],[0,1]])\n",
    "    X=np.array([[0,1],[1,0]])\n",
    "    \n",
    "    CNOT_a=np.kron(np.eye((2**a)),np.kron(zero,np.eye((2**(n-a-1)))))+np.kron(np.eye((2**a)),np.kron(one,np.kron(np.eye((2**(b-a-1))),np.kron(X,np.eye((2**(n-b-1)))))))\n",
    "    CNOT_b=np.kron(np.eye((2**b)),np.kron(zero,np.eye((2**(n-b-1)))))+np.kron(np.eye((2**a)),np.kron(X,np.kron(np.eye((2**(b-a-1))),np.kron(one,np.eye((2**(n-b-1)))))))\n",
    "    return CNOT_a@CNOT_b@CNOT_a"
   ]
  },
  {
   "cell_type": "code",
   "execution_count": 13,
   "metadata": {},
   "outputs": [],
   "source": [
    "def get_swap(n):\n",
    "    swap=np.eye((2**n))\n",
    "    if n%2==0:\n",
    "        for i in range(int(n/2)):\n",
    "            swap=change(n,i,n-1-i)@swap\n",
    "    else:\n",
    "        for i in range(int((n-1)/2)):\n",
    "            swap=change(n,i,n-1-i)@swap\n",
    "    return swap"
   ]
  },
  {
   "cell_type": "code",
   "execution_count": 14,
   "metadata": {},
   "outputs": [],
   "source": [
    "def Q_Fourier(n):\n",
    "    Q_Fourier=np.eye((2**n))\n",
    "    for i in range(n):\n",
    "        Q_Fourier=get_HR(n,i)@Q_Fourier\n",
    "    return get_swap(n)@Q_Fourier"
   ]
  },
  {
   "cell_type": "code",
   "execution_count": 15,
   "metadata": {},
   "outputs": [],
   "source": [
    "def inv_Fourier(n):\n",
    "    IF=np.conjugate(Q_Fourier(n))\n",
    "    return IF.T"
   ]
  },
  {
   "cell_type": "markdown",
   "metadata": {},
   "source": [
    "使うのは最後のinv_Fourierだが引数nは量子フーリエ変換を行う部分のビット数である。今回ならrとなる。また全体に作用させるので単位行列で行列のサイズを合わせる必要がある。"
   ]
  },
  {
   "cell_type": "code",
   "execution_count": 16,
   "metadata": {},
   "outputs": [],
   "source": [
    "def get_inv_Fourier(U,r):\n",
    "    m,m=U.shape\n",
    "    n=int(math.log(m,2))\n",
    "    return np.kron(inv_Fourier(r),np.eye((2**n)))"
   ]
  },
  {
   "cell_type": "code",
   "execution_count": 17,
   "metadata": {},
   "outputs": [
    {
     "data": {
      "text/plain": [
       "array([[ 0.70710678,  0.        ,  0.70710678,  0.        ],\n",
       "       [ 0.        ,  0.70710678,  0.        ,  0.70710678],\n",
       "       [ 0.70710678,  0.        , -0.70710678, -0.        ],\n",
       "       [ 0.        ,  0.70710678, -0.        , -0.70710678]])"
      ]
     },
     "execution_count": 17,
     "metadata": {},
     "output_type": "execute_result"
    }
   ],
   "source": [
    "X=np.array([[0,1],[1,0]])\n",
    "get_inv_Fourier(X,1)"
   ]
  },
  {
   "cell_type": "markdown",
   "metadata": {},
   "source": [
    "逆量子フーリエ変換後、0からr-1番目のビット列は$|\\phi_{1}\\phi_{2}...\\phi_{r}>$になっているためこれを行列表現された状態から得る。"
   ]
  },
  {
   "cell_type": "code",
   "execution_count": 18,
   "metadata": {},
   "outputs": [],
   "source": [
    "def get_phase(state,r):\n",
    "    psi=0\n",
    "    \n",
    "    for i in range(r):\n",
    "        n,m=state.shape\n",
    "        S=sum([abs(state[j])**2 for j in range(int(n/2))]) # stateの上半分の絶対値の二乗の和\n",
    "        state_a, state_b=np.split(state,[int(n/2)],axis=0) # stateを上下に分割\n",
    "        \n",
    "        if 0.99<S<=1:\n",
    "            state=state_a\n",
    "        \n",
    "        elif 0<=S<0.01:\n",
    "            state=state_b\n",
    "            psi+=(1/2)**(i+1) # 二進数を十進数にする\n",
    "        \n",
    "        else:\n",
    "            return psi,\"Error ビットが確定していません\"\n",
    "    \n",
    "    return psi"
   ]
  },
  {
   "cell_type": "code",
   "execution_count": 19,
   "metadata": {},
   "outputs": [
    {
     "data": {
      "text/plain": [
       "0.75"
      ]
     },
     "execution_count": 19,
     "metadata": {},
     "output_type": "execute_result"
    }
   ],
   "source": [
    "state=np.array([[0],[0],[0],[1]]) # この状態の位相は二進数表記 0.11 受信数表記 0.75\n",
    "\n",
    "get_phase(state, 2)"
   ]
  },
  {
   "cell_type": "markdown",
   "metadata": {},
   "source": [
    "今までのをまとめて、ユニタリ行列U、その固有状態psi、そして精度を示すrを受け取り位相$\\psi$を返すメソッドを組む"
   ]
  },
  {
   "cell_type": "code",
   "execution_count": 20,
   "metadata": {},
   "outputs": [],
   "source": [
    "def phase_estimate(U,psi,r):\n",
    "    # 初期状態の生成\n",
    "    state=get_state(psi,r)\n",
    "    \n",
    "    # 0からr-1番目のビットにアダマールゲートを作用させる\n",
    "    state=get_H_gate(U,r)@ state\n",
    "    \n",
    "    # k番目のビットを制御ビットとし、psiを標的ビットとしたCUkゲートを作用させる。(k=0～r-1)\n",
    "    CUk_list=get_CUk_list(U,r)\n",
    "    for i in range(r):\n",
    "        state=CUk_list[i]@ state\n",
    "    \n",
    "    # 最後に0からr-1番目のビットに逆量子フーリエ変換を作用させる。\n",
    "    state=get_inv_Fourier(U,r)@ state\n",
    "    #return state #---------------------------------------------------後で消す\n",
    "    \n",
    "    # 0からr-1番目のビット列は$|\\phi_{1}\\phi_{2}...\\phi_{r}>$になっているためこれを行列表現された状態から得る。\n",
    "    return get_phase(state,r)"
   ]
  },
  {
   "cell_type": "code",
   "execution_count": 21,
   "metadata": {},
   "outputs": [
    {
     "name": "stdout",
     "output_type": "stream",
     "text": [
      "0\n",
      "0.5\n"
     ]
    }
   ],
   "source": [
    "X=np.array([[0,1],[1,0]])\n",
    "vec_list=get_vec_list(X)\n",
    "\n",
    "print(phase_estimate(X, vec_list[0], 2))\n",
    "print(phase_estimate(X, vec_list[1], 2))"
   ]
  },
  {
   "cell_type": "markdown",
   "metadata": {},
   "source": [
    "あるユニタリ行列を受け取り既存のメソッドを用いてその固有状態をだす。そして各固有状態に対して位相推定アルゴリズムで位相を推定して出力する関数。"
   ]
  },
  {
   "cell_type": "code",
   "execution_count": 22,
   "metadata": {},
   "outputs": [],
   "source": [
    "def all_phase(U,r):\n",
    "    vec_list=get_vec_list(U)\n",
    "    for vec in vec_list:\n",
    "        print(\"固有状態: \"+str(vec)+\"  位相: \"+str(phase_estimate(U,vec,r)))"
   ]
  },
  {
   "cell_type": "code",
   "execution_count": 23,
   "metadata": {},
   "outputs": [],
   "source": [
    "def get_answer(U):\n",
    "    \"\"\"\"答え合わせ用の関数\"\"\"\n",
    "    w,v=np.linalg.eig(U)\n",
    "    \n",
    "    for i in range(len(w)):\n",
    "        print('value:',w[i],' vector:',v[:,i])"
   ]
  },
  {
   "cell_type": "code",
   "execution_count": 24,
   "metadata": {},
   "outputs": [
    {
     "name": "stdout",
     "output_type": "stream",
     "text": [
      "value: 1j  vector: [1.+0.j 0.+0.j]\n",
      "value: 1j  vector: [0.+0.j 1.+0.j]\n",
      "固有状態: [[1.+0.j]\n",
      " [0.+0.j]]  位相: 0.25\n",
      "固有状態: [[0.+0.j]\n",
      " [1.+0.j]]  位相: 0.25\n"
     ]
    }
   ],
   "source": [
    "MyGate=np.array([[1j,0],[0,1j]]) # なにか位相が分かっているもので確かめる\n",
    "get_answer(MyGate)\n",
    "all_phase(MyGate,3) # 精度を10以上にすると大分遅くなる"
   ]
  },
  {
   "cell_type": "markdown",
   "metadata": {},
   "source": [
    "位相1/4なら固有値は1jになるので多分あってる。"
   ]
  },
  {
   "cell_type": "code",
   "execution_count": 25,
   "metadata": {},
   "outputs": [
    {
     "name": "stdout",
     "output_type": "stream",
     "text": [
      "value: 1.0  vector: [1. 0. 0. 0.]\n",
      "value: 1.0  vector: [0. 1. 0. 0.]\n",
      "value: 1.0  vector: [0. 0. 1. 0.]\n",
      "value: 1.0  vector: [0. 0. 0. 1.]\n",
      "固有状態: [[1.]\n",
      " [0.]\n",
      " [0.]\n",
      " [0.]]  位相: 0\n",
      "固有状態: [[0.]\n",
      " [1.]\n",
      " [0.]\n",
      " [0.]]  位相: 0\n",
      "固有状態: [[0.]\n",
      " [0.]\n",
      " [1.]\n",
      " [0.]]  位相: 0\n",
      "固有状態: [[0.]\n",
      " [0.]\n",
      " [0.]\n",
      " [1.]]  位相: 0\n"
     ]
    }
   ],
   "source": [
    "I=np.array([[1,0,0,0],[0,1,0,0],[0,0,1,0],[0,0,0,1]])\n",
    "get_answer(I)\n",
    "all_phase(I,2)"
   ]
  },
  {
   "cell_type": "markdown",
   "metadata": {},
   "source": [
    "やっぱり多分あってる"
   ]
  },
  {
   "cell_type": "code",
   "execution_count": null,
   "metadata": {},
   "outputs": [],
   "source": []
  }
 ],
 "metadata": {
  "kernelspec": {
   "display_name": "Python 3",
   "language": "python",
   "name": "python3"
  },
  "language_info": {
   "codemirror_mode": {
    "name": "ipython",
    "version": 3
   },
   "file_extension": ".py",
   "mimetype": "text/x-python",
   "name": "python",
   "nbconvert_exporter": "python",
   "pygments_lexer": "ipython3",
   "version": "3.6.5"
  }
 },
 "nbformat": 4,
 "nbformat_minor": 2
}
