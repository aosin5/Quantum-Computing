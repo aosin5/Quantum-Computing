{
 "cells": [
  {
   "cell_type": "markdown",
   "metadata": {
    "slideshow": {
     "slide_type": "slide"
    }
   },
   "source": [
    "# アダマールテストを行列で表現  \n",
    "IBMQでは任意のControlUゲートが作れないので、自分たちで行列表示による量子計算のシュミレートをしようと考えた。  \n",
    "注意事項: 行列を使って量子状態や演算を表現しているのでビット表示に慣れている人は読みづらい可能性がある。"
   ]
  },
  {
   "cell_type": "markdown",
   "metadata": {
    "slideshow": {
     "slide_type": "slide"
    }
   },
   "source": [
    "行列演算の処理にはnumpyを用いる。"
   ]
  },
  {
   "cell_type": "code",
   "execution_count": 2,
   "metadata": {
    "slideshow": {
     "slide_type": "slide"
    }
   },
   "outputs": [],
   "source": [
    "import numpy as np\n",
    "import math"
   ]
  },
  {
   "cell_type": "markdown",
   "metadata": {
    "slideshow": {
     "slide_type": "slide"
    }
   },
   "source": [
    "### 制御Uゲートの作成\n",
    "任意のユニタリ行列UについてCU_gateを作成する。第一ビットが0の時は他ビットは変化しない(単位行列Iが作用する)。第一ビットが1の時は他ビットにUを作用させる。量子ビットに作用させられるUは$2^{n}*2^{n}$行列のみ。"
   ]
  },
  {
   "cell_type": "code",
   "execution_count": 3,
   "metadata": {
    "slideshow": {
     "slide_type": "subslide"
    }
   },
   "outputs": [],
   "source": [
    "def get_CU_gate(U):\n",
    "    m,m=U.shape\n",
    "    n=int(math.log(m,2))\n",
    "    \n",
    "    I=np.array([[1,0],[0,1]])\n",
    "    CU_zero=np.array([[1,0],[0,0]]) # |0><0| 1ビット目は|0>なら|0>を|1>なら|1>を返す\n",
    "    CU_one=np.array([[0,0],[0,1]]) # |1><1|\n",
    "    \n",
    "    for i in range(n):\n",
    "            CU_zero=np.kron(CU_zero,I) # 1ビット目が|0>ならそれ以降のnビットにはIを作用させる\n",
    "    \n",
    "    CU_one=np.kron(CU_one,U) # 1ビット目が|1>ならそれ以降のnビットにはUを作用させる\n",
    "    \n",
    "    return CU_zero+CU_one"
   ]
  },
  {
   "cell_type": "code",
   "execution_count": 43,
   "metadata": {
    "slideshow": {
     "slide_type": "subslide"
    }
   },
   "outputs": [
    {
     "data": {
      "text/plain": [
       "array([[1, 0, 0, 0],\n",
       "       [0, 1, 0, 0],\n",
       "       [0, 0, 0, 1],\n",
       "       [0, 0, 1, 0]])"
      ]
     },
     "execution_count": 43,
     "metadata": {},
     "output_type": "execute_result"
    }
   ],
   "source": [
    "X=np.array([[0,1],\n",
    "            [1,0]])\n",
    "get_CU_gate(X)"
   ]
  },
  {
   "cell_type": "markdown",
   "metadata": {
    "slideshow": {
     "slide_type": "slide"
    }
   },
   "source": [
    "### アダマールゲートの作成\n",
    "第一ビットにのみアダマールゲートHを作用させ、その他のビットには変化を加えない(単位行列Iを作用させる)ような行列を作成する。"
   ]
  },
  {
   "cell_type": "code",
   "execution_count": 5,
   "metadata": {
    "slideshow": {
     "slide_type": "subslide"
    }
   },
   "outputs": [],
   "source": [
    "def get_H_gate(U):\n",
    "    m,m=U.shape\n",
    "    n=int(math.log(m,2))\n",
    "    \n",
    "    H=np.array([[1,1],[1,-1]])/math.sqrt(2)\n",
    "    I=np.array([[1,0],[0,1]])\n",
    "    \n",
    "    H_gate=H\n",
    "    \n",
    "    for i in range(n):\n",
    "        H_gate=np.kron(H_gate,I)\n",
    "    \n",
    "    return H_gate"
   ]
  },
  {
   "cell_type": "code",
   "execution_count": 6,
   "metadata": {
    "slideshow": {
     "slide_type": "subslide"
    }
   },
   "outputs": [
    {
     "data": {
      "text/plain": [
       "array([[ 0.70710678,  0.        ,  0.70710678,  0.        ],\n",
       "       [ 0.        ,  0.70710678,  0.        ,  0.70710678],\n",
       "       [ 0.70710678,  0.        , -0.70710678, -0.        ],\n",
       "       [ 0.        ,  0.70710678, -0.        , -0.70710678]])"
      ]
     },
     "execution_count": 6,
     "metadata": {},
     "output_type": "execute_result"
    }
   ],
   "source": [
    "X=np.array([[0,1],[1,0]])\n",
    "get_H_gate(X)"
   ]
  },
  {
   "cell_type": "markdown",
   "metadata": {},
   "source": [
    "### $2^{n}*2^{n}$のユニタリ行列Uと$2^{n}$行$1$列(nビット)の$\\phi$を引数としてアダマールテストを行う  \n",
    "初期状態に、しかるべき演算子を行列の形で左からかけていく。"
   ]
  },
  {
   "cell_type": "code",
   "execution_count": 7,
   "metadata": {},
   "outputs": [],
   "source": [
    "def hadamard_test(U,phi):\n",
    "    \n",
    "    # 初期状態を定める\n",
    "    zero_bit=np.array([[1],[0]])\n",
    "    state=np.kron(zero_bit,phi) # 第1ビットは|0>に固定でよい\n",
    "    \n",
    "    # stateにH_gateを作用させる\n",
    "    state=np.dot(get_H_gate(U),state)\n",
    "    \n",
    "    # stateにCU_gateを作用させる\n",
    "    state=np.dot(get_CU_gate(U),state)\n",
    "    \n",
    "    # stateにH_gateを作用させる\n",
    "    state=np.dot(get_H_gate(U),state)\n",
    "    \n",
    "    return state # 返すのは終状態"
   ]
  },
  {
   "cell_type": "markdown",
   "metadata": {},
   "source": [
    "試しにユニタリ行列Xとその固有ベクトルに対してアダマールテストを行う"
   ]
  },
  {
   "cell_type": "code",
   "execution_count": 8,
   "metadata": {},
   "outputs": [
    {
     "name": "stdout",
     "output_type": "stream",
     "text": [
      "[[0.70710678]\n",
      " [0.70710678]\n",
      " [0.        ]\n",
      " [0.        ]]\n",
      "[[ 0.        ]\n",
      " [ 0.        ]\n",
      " [ 0.70710678]\n",
      " [-0.70710678]]\n"
     ]
    }
   ],
   "source": [
    "X=np.array([[0,1],[1,0]])\n",
    "\n",
    "phi1=np.array([[1],[1]])/math.sqrt(2) # Xの固有ベクトル\n",
    "phi2=np.array([[1],[-1]])/math.sqrt(2) # Xの固有ベクトル\n",
    "\n",
    "print(hadamard_test(X,phi1))\n",
    "print(hadamard_test(X,phi2))"
   ]
  },
  {
   "cell_type": "markdown",
   "metadata": {},
   "source": [
    "### アダマールテストの結果を用いてXの固有値を求めてみる。  \n",
    "まず終状態の1ビット目で0が測定される確率を求める。  \n",
    "次にそれを用いて固有値$e^{i\\lambda}$に対する$\\cos{\\lambda}$を求める。  \n",
    "後はそれを$e^{i\\lambda}=\\cos{\\lambda}+i\\sin{\\lambda}$に代入してやればいい。"
   ]
  },
  {
   "cell_type": "code",
   "execution_count": 9,
   "metadata": {},
   "outputs": [],
   "source": [
    "def get_IV_1(state):\n",
    "    m,k=state.shape\n",
    "    n=int(math.log(m,2))\n",
    "    \n",
    "    PZero=sum([abs(state[i,0])**2 for i in range(2**(n-1))])\n",
    "    \n",
    "    cosL=2*PZero-1\n",
    "    \n",
    "    # 虚部が正の方を返す\n",
    "    return cosL+math.sqrt(1-cosL**2)*1j"
   ]
  },
  {
   "cell_type": "code",
   "execution_count": 10,
   "metadata": {},
   "outputs": [],
   "source": [
    "def get_IV_2(state):\n",
    "    m,k=state.shape\n",
    "    n=int(math.log(m,2))\n",
    "    \n",
    "    PZero=sum([abs(state[i,0])**2 for i in range(2**(n-1))])\n",
    "    \n",
    "    cosL=2*PZero-1\n",
    "    \n",
    "    # 虚部が負の方を返す\n",
    "    return cosL-math.sqrt(1-cosL**2)*1j"
   ]
  },
  {
   "cell_type": "markdown",
   "metadata": {},
   "source": [
    "実際に試してみる"
   ]
  },
  {
   "cell_type": "code",
   "execution_count": 11,
   "metadata": {},
   "outputs": [
    {
     "name": "stdout",
     "output_type": "stream",
     "text": [
      "(0.9999999999999991+4.2146848510894035e-08j) (0.9999999999999991-4.2146848510894035e-08j)\n",
      "(-1+0j) (-1+0j)\n"
     ]
    }
   ],
   "source": [
    "state1=hadamard_test(X,phi1)\n",
    "state2=hadamard_test(X,phi2)\n",
    "\n",
    "print(get_IV_1(state1),get_IV_2(state1))\n",
    "print(get_IV_1(state2),get_IV_2(state2))"
   ]
  },
  {
   "cell_type": "markdown",
   "metadata": {},
   "source": [
    "Xの固有値と固有ベクトルを実際に計算してみると以下のようになる。  \n",
    "これより上で求めた固有値はほぼ正しいことが分かる。"
   ]
  },
  {
   "cell_type": "code",
   "execution_count": 12,
   "metadata": {},
   "outputs": [],
   "source": [
    "def get_answer(U):\n",
    "    w,v=np.linalg.eig(U)\n",
    "    \n",
    "    for i in range(len(w)):\n",
    "        print('value:',w[i],' vector:',v[:,i])"
   ]
  },
  {
   "cell_type": "code",
   "execution_count": 13,
   "metadata": {},
   "outputs": [
    {
     "name": "stdout",
     "output_type": "stream",
     "text": [
      "value: 1.0  vector: [0.70710678 0.70710678]\n",
      "value: -1.0  vector: [-0.70710678  0.70710678]\n"
     ]
    }
   ],
   "source": [
    "X=np.array([[0,1],[1,0]])\n",
    "get_answer(X)"
   ]
  },
  {
   "cell_type": "markdown",
   "metadata": {},
   "source": [
    "### 次に初期状態を０ビットに固定してアダマールテストを行う"
   ]
  },
  {
   "cell_type": "code",
   "execution_count": 14,
   "metadata": {},
   "outputs": [
    {
     "name": "stdout",
     "output_type": "stream",
     "text": [
      "value: 1.0  vector: [0.70710678 0.70710678]\n",
      "value: -1.0  vector: [-0.70710678  0.70710678]\n"
     ]
    }
   ],
   "source": [
    "X=np.array([[0,1],[1,0]])\n",
    "get_answer(X) # 先に固有値と固有ベクトルを出しておく"
   ]
  },
  {
   "cell_type": "code",
   "execution_count": 15,
   "metadata": {},
   "outputs": [
    {
     "data": {
      "text/plain": [
       "((-4.440892098500626e-16+1j), (-4.440892098500626e-16-1j))"
      ]
     },
     "execution_count": 15,
     "metadata": {},
     "output_type": "execute_result"
    }
   ],
   "source": [
    "state=hadamard_test(X,[[1],[0]])\n",
    "get_IV_1(state),get_IV_2(state)"
   ]
  },
  {
   "cell_type": "markdown",
   "metadata": {},
   "source": [
    "どっちの固有値とも一致しない   \n",
    "別のユニタリ行列でも試してみる"
   ]
  },
  {
   "cell_type": "code",
   "execution_count": 16,
   "metadata": {},
   "outputs": [
    {
     "name": "stdout",
     "output_type": "stream",
     "text": [
      "value: 1.0  vector: [1. 0.]\n",
      "value: -1.0  vector: [0. 1.]\n"
     ]
    }
   ],
   "source": [
    "Z=np.array([[1,0],[0,-1]])\n",
    "get_answer(Z) # 先に固有値と固有ベクトルを出しておく"
   ]
  },
  {
   "cell_type": "code",
   "execution_count": 17,
   "metadata": {},
   "outputs": [
    {
     "data": {
      "text/plain": [
       "((0.9999999999999991+4.2146848510894035e-08j),\n",
       " (0.9999999999999991-4.2146848510894035e-08j))"
      ]
     },
     "execution_count": 17,
     "metadata": {},
     "output_type": "execute_result"
    }
   ],
   "source": [
    "state=hadamard_test(Z,[[1],[0]])\n",
    "get_IV_1(state),get_IV_2(state)"
   ]
  },
  {
   "cell_type": "markdown",
   "metadata": {},
   "source": [
    "これは一致してる。"
   ]
  },
  {
   "cell_type": "markdown",
   "metadata": {},
   "source": [
    "### アダマールテストループ\n",
    "こんな感じで固有値が求まるかはまちまち。これを解決するためにアダマールテストを何回も繰り返す。これにより終状態が固有ベクトルに収束していく。なお初期状態は$|00...0>$に固定することにする。"
   ]
  },
  {
   "cell_type": "code",
   "execution_count": 18,
   "metadata": {},
   "outputs": [],
   "source": [
    "def hadamard_loop(U,loop):\n",
    "    m,m=U.shape\n",
    "    n=int(math.log(m,2))\n",
    "    zero=[[1],[0]]\n",
    "    state=zero\n",
    "    \n",
    "    for i in range(n-1):\n",
    "        state=np.kron(state,zero) # 初期状態を|00...0>にする\n",
    "    \n",
    "    for i in range(loop):\n",
    "        end_state=hadamard_test(U,state)\n",
    "        # アダマールテストで帰ってきたend_stateから１ビット目の情報を抜き取っていく\n",
    "        end_state0, end_state1=np.split(end_state,[2**n],axis=0) # end_stateを上下に分ける\n",
    "        PZero=sum([abs(end_state[i,0])**2 for i in range(2**(n-1))]) # １ビット目で0が観測される確率\n",
    "        if PZero==0:\n",
    "            state=end_state1\n",
    "        else:\n",
    "            state=end_state0/((PZero)**(1/2)) # 1ビット目の情報を取り除こうとしている。\n",
    "            \n",
    "    cosL=2*PZero-1\n",
    "    cosL=min(cosL,1)\n",
    "    return cosL+math.sqrt(1-cosL**2)*1j,cosL-math.sqrt(1-cosL**2)*1j # 返すのは固有値(ただし虚部の符号は分からないので両方返す)"
   ]
  },
  {
   "cell_type": "code",
   "execution_count": 19,
   "metadata": {},
   "outputs": [
    {
     "name": "stdout",
     "output_type": "stream",
     "text": [
      "value: 1.0  vector: [0.70710678 0.70710678]\n",
      "value: -1.0  vector: [-0.70710678  0.70710678]\n"
     ]
    }
   ],
   "source": [
    "X=np.array([[0,1],[1,0]])\n",
    "get_answer(X) # 先に固有値と固有ベクトルを出しておく"
   ]
  },
  {
   "cell_type": "code",
   "execution_count": 20,
   "metadata": {},
   "outputs": [
    {
     "data": {
      "text/plain": [
       "((-0.5000000000000002+0.8660254037844385j),\n",
       " (-0.5000000000000002-0.8660254037844385j))"
      ]
     },
     "execution_count": 20,
     "metadata": {},
     "output_type": "execute_result"
    }
   ],
   "source": [
    "hadamard_loop(X,1) #ループ一回"
   ]
  },
  {
   "cell_type": "code",
   "execution_count": 21,
   "metadata": {},
   "outputs": [
    {
     "data": {
      "text/plain": [
       "((0.9999999999999991+4.2146848510894035e-08j),\n",
       " (0.9999999999999991-4.2146848510894035e-08j))"
      ]
     },
     "execution_count": 21,
     "metadata": {},
     "output_type": "execute_result"
    }
   ],
   "source": [
    "hadamard_loop(X,2) #ループ二回"
   ]
  },
  {
   "cell_type": "code",
   "execution_count": 22,
   "metadata": {},
   "outputs": [
    {
     "data": {
      "text/plain": [
       "((0.9999999999999991+4.2146848510894035e-08j),\n",
       " (0.9999999999999991-4.2146848510894035e-08j))"
      ]
     },
     "execution_count": 22,
     "metadata": {},
     "output_type": "execute_result"
    }
   ],
   "source": [
    "hadamard_loop(X,3) #ループ三回"
   ]
  },
  {
   "cell_type": "markdown",
   "metadata": {},
   "source": [
    "ユニタリ行列Xでは、ループ二回目でほぼ正しい固有値が得られる"
   ]
  },
  {
   "cell_type": "code",
   "execution_count": 23,
   "metadata": {},
   "outputs": [
    {
     "name": "stdout",
     "output_type": "stream",
     "text": [
      "value: 1.0  vector: [0.         0.         0.70710678 0.70710678]\n",
      "value: -1.0  vector: [ 0.          0.         -0.70710678  0.70710678]\n",
      "value: 1.0  vector: [1. 0. 0. 0.]\n",
      "value: 1.0  vector: [0. 1. 0. 0.]\n"
     ]
    }
   ],
   "source": [
    "CNOT=np.array([[1,0,0,0],[0,1,0,0],[0,0,0,1],[0,0,1,0]])\n",
    "get_answer(CNOT) # 先に固有値と固有ベクトルを出しておく"
   ]
  },
  {
   "cell_type": "code",
   "execution_count": 24,
   "metadata": {},
   "outputs": [
    {
     "data": {
      "text/plain": [
       "((0.9999999999999991+4.2146848510894035e-08j),\n",
       " (0.9999999999999991-4.2146848510894035e-08j))"
      ]
     },
     "execution_count": 24,
     "metadata": {},
     "output_type": "execute_result"
    }
   ],
   "source": [
    "hadamard_loop(CNOT,1) #ループ一回"
   ]
  },
  {
   "cell_type": "code",
   "execution_count": 25,
   "metadata": {},
   "outputs": [
    {
     "data": {
      "text/plain": [
       "((0.9999999999999991+4.2146848510894035e-08j),\n",
       " (0.9999999999999991-4.2146848510894035e-08j))"
      ]
     },
     "execution_count": 25,
     "metadata": {},
     "output_type": "execute_result"
    }
   ],
   "source": [
    "hadamard_loop(CNOT,2) #ループ二回"
   ]
  },
  {
   "cell_type": "markdown",
   "metadata": {},
   "source": [
    "ユニタリ行列CNOTでは、ループ１回目でほぼ正しい固有値が得られる"
   ]
  },
  {
   "cell_type": "code",
   "execution_count": 26,
   "metadata": {},
   "outputs": [
    {
     "name": "stdout",
     "output_type": "stream",
     "text": [
      "value: (0.9999999999999996+0j)  vector: [-0.        -0.70710678j  0.70710678+0.j        ]\n",
      "value: (-0.9999999999999999+0j)  vector: [0.70710678+0.j         0.        -0.70710678j]\n"
     ]
    }
   ],
   "source": [
    "Y=np.array([[0,-1j],[1j,0]])\n",
    "get_answer(Y) # 先に固有値と固有ベクトルを確認しておく"
   ]
  },
  {
   "cell_type": "code",
   "execution_count": 27,
   "metadata": {},
   "outputs": [
    {
     "data": {
      "text/plain": [
       "((-0.5000000000000002+0.8660254037844385j),\n",
       " (-0.5000000000000002-0.8660254037844385j))"
      ]
     },
     "execution_count": 27,
     "metadata": {},
     "output_type": "execute_result"
    }
   ],
   "source": [
    "hadamard_loop(Y,1) #ループ一回"
   ]
  },
  {
   "cell_type": "code",
   "execution_count": 28,
   "metadata": {},
   "outputs": [
    {
     "data": {
      "text/plain": [
       "((0.9999999999999991+4.2146848510894035e-08j),\n",
       " (0.9999999999999991-4.2146848510894035e-08j))"
      ]
     },
     "execution_count": 28,
     "metadata": {},
     "output_type": "execute_result"
    }
   ],
   "source": [
    "hadamard_loop(Y,2) #ループ二回"
   ]
  },
  {
   "cell_type": "code",
   "execution_count": 29,
   "metadata": {},
   "outputs": [
    {
     "data": {
      "text/plain": [
       "((0.9999999999999991+4.2146848510894035e-08j),\n",
       " (0.9999999999999991-4.2146848510894035e-08j))"
      ]
     },
     "execution_count": 29,
     "metadata": {},
     "output_type": "execute_result"
    }
   ],
   "source": [
    "hadamard_loop(X,3) #ループ三回"
   ]
  },
  {
   "cell_type": "markdown",
   "metadata": {},
   "source": [
    "ユニタリ行列Yもループ二回目でほぼ一致"
   ]
  },
  {
   "cell_type": "markdown",
   "metadata": {},
   "source": [
    "このようにあらゆるユニタリ行列に対して固有値の推定ができる。"
   ]
  },
  {
   "cell_type": "code",
   "execution_count": 30,
   "metadata": {},
   "outputs": [
    {
     "name": "stdout",
     "output_type": "stream",
     "text": [
      "value: (0.9238795325112867+0.3826834323650898j)  vector: [1.+0.j 0.+0.j]\n",
      "value: (0.9238795325112867+0.3826834323650898j)  vector: [0.+0.j 1.+0.j]\n"
     ]
    }
   ],
   "source": [
    "PI=math.pi\n",
    "e=math.e\n",
    "T=np.array([[e**(1j*(PI/8)),0],[0,e**(1j*(PI/8))]])\n",
    "get_answer(T)"
   ]
  },
  {
   "cell_type": "code",
   "execution_count": 31,
   "metadata": {},
   "outputs": [
    {
     "data": {
      "text/plain": [
       "((0.9238795325112859+0.382683432365092j),\n",
       " (0.9238795325112859-0.382683432365092j))"
      ]
     },
     "execution_count": 31,
     "metadata": {},
     "output_type": "execute_result"
    }
   ],
   "source": [
    "hadamard_loop(T,1)"
   ]
  },
  {
   "cell_type": "code",
   "execution_count": 32,
   "metadata": {},
   "outputs": [
    {
     "data": {
      "text/plain": [
       "((0.9238795325112863+0.38268343236509084j),\n",
       " (0.9238795325112863-0.38268343236509084j))"
      ]
     },
     "execution_count": 32,
     "metadata": {},
     "output_type": "execute_result"
    }
   ],
   "source": [
    "hadamard_loop(T,2)"
   ]
  },
  {
   "cell_type": "code",
   "execution_count": 33,
   "metadata": {},
   "outputs": [
    {
     "name": "stdout",
     "output_type": "stream",
     "text": [
      "value: (0.9238795325112865+0.3826834323650897j)  vector: [ 7.07106781e-01+0.j         -0.00000000e+00+0.j\n",
      " -0.00000000e+00+0.j         -0.00000000e+00+0.j\n",
      " -0.00000000e+00+0.j         -0.00000000e+00+0.j\n",
      "  2.77555756e-17+0.70710678j -0.00000000e+00+0.j        ]\n",
      "value: (-0.9238795325112867-0.38268343236508984j)  vector: [7.07106781e-01+0.j         0.00000000e+00+0.j\n",
      " 0.00000000e+00+0.j         0.00000000e+00+0.j\n",
      " 0.00000000e+00+0.j         0.00000000e+00+0.j\n",
      " 5.55111512e-17-0.70710678j 0.00000000e+00+0.j        ]\n",
      "value: (0.9238795325112865+0.3826834323650897j)  vector: [-0.00000000e+00+0.j         -0.00000000e+00+0.j\n",
      "  7.07106781e-01+0.j         -0.00000000e+00+0.j\n",
      " -2.77555756e-17-0.70710678j -0.00000000e+00+0.j\n",
      " -0.00000000e+00+0.j         -0.00000000e+00+0.j        ]\n",
      "value: (-0.9238795325112867-0.38268343236508984j)  vector: [ 0.00000000e+00+0.j          0.00000000e+00+0.j\n",
      "  7.07106781e-01+0.j          0.00000000e+00+0.j\n",
      " -5.55111512e-17+0.70710678j  0.00000000e+00+0.j\n",
      "  0.00000000e+00+0.j          0.00000000e+00+0.j        ]\n",
      "value: (0.9238795325112865+0.3826834323650897j)  vector: [ 0.00000000e+00+0.j          0.00000000e+00+0.j\n",
      "  2.57706779e-02-0.06221592j  7.03892784e-01+0.j\n",
      " -6.22159201e-02-0.02577068j  5.52588376e-17-0.70389278j\n",
      "  0.00000000e+00+0.j          0.00000000e+00+0.j        ]\n",
      "value: (-0.9238795325112867-0.38268343236508984j)  vector: [ 0.00000000e+00+0.j          0.00000000e+00+0.j\n",
      " -6.22159201e-02-0.02577068j -8.32667268e-17-0.70389278j\n",
      "  2.57706779e-02-0.06221592j  7.03892784e-01+0.j\n",
      "  0.00000000e+00+0.j          0.00000000e+00+0.j        ]\n",
      "value: (0.9238795325112865+0.3826834323650897j)  vector: [ 2.57706779e-02-0.06221592j  7.03892784e-01+0.j\n",
      " -0.00000000e+00+0.j         -0.00000000e+00+0.j\n",
      " -0.00000000e+00+0.j         -0.00000000e+00+0.j\n",
      "  6.22159201e-02+0.02577068j -5.52588376e-17+0.70389278j]\n",
      "value: (-0.9238795325112867-0.38268343236508984j)  vector: [6.22159201e-02+0.02577068j 8.32667268e-17+0.70389278j\n",
      " 0.00000000e+00+0.j         0.00000000e+00+0.j\n",
      " 0.00000000e+00+0.j         0.00000000e+00+0.j\n",
      " 2.57706779e-02-0.06221592j 7.03892784e-01+0.j        ]\n"
     ]
    }
   ],
   "source": [
    "MyGate=np.kron(X,np.kron(Y,T))\n",
    "get_answer(MyGate)"
   ]
  },
  {
   "cell_type": "code",
   "execution_count": 34,
   "metadata": {},
   "outputs": [
    {
     "data": {
      "text/plain": [
       "((-0.5000000000000002+0.8660254037844385j),\n",
       " (-0.5000000000000002-0.8660254037844385j))"
      ]
     },
     "execution_count": 34,
     "metadata": {},
     "output_type": "execute_result"
    }
   ],
   "source": [
    "hadamard_loop(MyGate,1)"
   ]
  },
  {
   "cell_type": "code",
   "execution_count": 35,
   "metadata": {},
   "outputs": [
    {
     "data": {
      "text/plain": [
       "((0.7071067811865466+0.7071067811865485j),\n",
       " (0.7071067811865466-0.7071067811865485j))"
      ]
     },
     "execution_count": 35,
     "metadata": {},
     "output_type": "execute_result"
    }
   ],
   "source": [
    "hadamard_loop(MyGate,2)"
   ]
  },
  {
   "cell_type": "code",
   "execution_count": 36,
   "metadata": {},
   "outputs": [
    {
     "data": {
      "text/plain": [
       "((1+0j), (1+0j))"
      ]
     },
     "execution_count": 36,
     "metadata": {},
     "output_type": "execute_result"
    }
   ],
   "source": [
    "hadamard_loop(MyGate,3)\n",
    "# 三回ループでエラーが出てた\n",
    "# 原因はcosLが1をわずかに超えてしまったこと。 math.sqrt(1-cosL**2)でアウト\n",
    "# そこでcosLが1を超えたら1にするようにした"
   ]
  },
  {
   "cell_type": "code",
   "execution_count": 37,
   "metadata": {},
   "outputs": [
    {
     "data": {
      "text/plain": [
       "((0.929788301062429+0.36809470956187595j),\n",
       " (0.929788301062429-0.36809470956187595j))"
      ]
     },
     "execution_count": 37,
     "metadata": {},
     "output_type": "execute_result"
    }
   ],
   "source": [
    "hadamard_loop(MyGate,4)"
   ]
  },
  {
   "cell_type": "code",
   "execution_count": 38,
   "metadata": {},
   "outputs": [
    {
     "data": {
      "text/plain": [
       "((0.9178702490927924+0.3968805939200546j),\n",
       " (0.9178702490927924-0.3968805939200546j))"
      ]
     },
     "execution_count": 38,
     "metadata": {},
     "output_type": "execute_result"
    }
   ],
   "source": [
    "hadamard_loop(MyGate,5)"
   ]
  },
  {
   "cell_type": "code",
   "execution_count": 39,
   "metadata": {},
   "outputs": [
    {
     "data": {
      "text/plain": [
       "((0.9236410234341965+0.3832587374469499j),\n",
       " (0.9236410234341965-0.3832587374469499j))"
      ]
     },
     "execution_count": 39,
     "metadata": {},
     "output_type": "execute_result"
    }
   ],
   "source": [
    "hadamard_loop(MyGate,6)"
   ]
  },
  {
   "cell_type": "code",
   "execution_count": 40,
   "metadata": {},
   "outputs": [
    {
     "data": {
      "text/plain": [
       "((0.9241178848794791+0.3821074912192612j),\n",
       " (0.9241178848794791-0.3821074912192612j))"
      ]
     },
     "execution_count": 40,
     "metadata": {},
     "output_type": "execute_result"
    }
   ],
   "source": [
    "hadamard_loop(MyGate,7)"
   ]
  },
  {
   "cell_type": "code",
   "execution_count": 41,
   "metadata": {},
   "outputs": [
    {
     "data": {
      "text/plain": [
       "((0.9238889620238107+0.3826606667147353j),\n",
       " (0.9238889620238107-0.3826606667147353j))"
      ]
     },
     "execution_count": 41,
     "metadata": {},
     "output_type": "execute_result"
    }
   ],
   "source": [
    "hadamard_loop(MyGate,8)"
   ]
  },
  {
   "cell_type": "code",
   "execution_count": 42,
   "metadata": {},
   "outputs": [
    {
     "data": {
      "text/plain": [
       "((0.9238795325112867+0.38268343236508984j),\n",
       " (0.9238795325112867-0.38268343236508984j))"
      ]
     },
     "execution_count": 42,
     "metadata": {},
     "output_type": "execute_result"
    }
   ],
   "source": [
    "hadamard_loop(MyGate,100)"
   ]
  },
  {
   "cell_type": "markdown",
   "metadata": {},
   "source": [
    "この値をプロットして収束度合いを可視化しても面白そう"
   ]
  },
  {
   "cell_type": "code",
   "execution_count": null,
   "metadata": {},
   "outputs": [],
   "source": []
  }
 ],
 "metadata": {
  "kernelspec": {
   "display_name": "Python 3",
   "language": "python",
   "name": "python3"
  },
  "language_info": {
   "codemirror_mode": {
    "name": "ipython",
    "version": 3
   },
   "file_extension": ".py",
   "mimetype": "text/x-python",
   "name": "python",
   "nbconvert_exporter": "python",
   "pygments_lexer": "ipython3",
   "version": "3.6.5"
  }
 },
 "nbformat": 4,
 "nbformat_minor": 2
}
