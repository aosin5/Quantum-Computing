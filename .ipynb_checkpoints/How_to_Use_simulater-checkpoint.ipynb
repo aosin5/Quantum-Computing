{
 "cells": [
  {
   "cell_type": "markdown",
   "metadata": {},
   "source": [
    "# 量子計算シュミレータ\n",
    "量子状態はQubitsクラスで管理し、演算子は関数を利用して行列の形で作ればよい。"
   ]
  },
  {
   "cell_type": "code",
   "execution_count": 1,
   "metadata": {},
   "outputs": [],
   "source": [
    "import numpy as np\n",
    "import math"
   ]
  },
  {
   "cell_type": "markdown",
   "metadata": {},
   "source": [
    "素晴らしいシュミレータを見つけたのでこれを参考にして作っていこうと思う。  \n",
    "[シュミレータを作りながら量子コンピュータの仕組みを理解する](https://qiita.com/ohtaman/items/e121a2b0b4525b85b54d)"
   ]
  },
  {
   "cell_type": "markdown",
   "metadata": {},
   "source": [
    "# テンソル積\n",
    "np.kron を拡張しとくと便利"
   ]
  },
  {
   "cell_type": "code",
   "execution_count": 2,
   "metadata": {},
   "outputs": [],
   "source": [
    "def tensor(*operater):\n",
    "    result = operater[0]\n",
    "    for i in range(1, len(operater)):\n",
    "        result = np.kron(result, operater[i])\n",
    "    return result"
   ]
  },
  {
   "cell_type": "markdown",
   "metadata": {},
   "source": [
    "# 量子状態クラス\n",
    "量子状態は行列である self.\\_amp で扱う。ただし量子状態的に現在の状況を見れる表示用メソッドも作る。"
   ]
  },
  {
   "cell_type": "code",
   "execution_count": 3,
   "metadata": {},
   "outputs": [],
   "source": [
    "class Qubits(object):\n",
    "    def __init__(self, n_bits):\n",
    "        \"\"\"\n",
    "        量子ビットの初期化\n",
    "        Arguments: n_bits --- 量子ビット数(int)\n",
    "        \"\"\"\n",
    "        self.n_bits    = n_bits                                     # 量子ビット数\n",
    "        self.n_states  = 2**n_bits                                  # 行数\n",
    "        self._amp      = np.zeros((self.n_states, 1))               # 絶対値の二乗をとると確率になる奴。超重要メンバ変数。\n",
    "        self._amp[0,0] = 1                                          # 状態|00...0> の確率を1とする\n",
    "\n",
    "    def set_bits(self, bits):\n",
    "        \"\"\"\n",
    "        量子ビットの設定\n",
    "        Arguments: bits --- 状態を表現するリスト ex).|0010> としたいなら [0,0,1,0]\n",
    "        \"\"\"\n",
    "        idx              = int(''.join(map(str, bits)), base=2)    # bits を文字列にして結合させ、その後十進数になおす\n",
    "        self._amp        = np.zeros((self.n_states, 1))            # 絶対値の二乗をとると確率になる\n",
    "        self._amp[idx,0] = 1                                       # idx番目の amp を1とする\n",
    "    \n",
    "    def set_bit(self, k, num):\n",
    "        \"\"\"\n",
    "        量子ビットの設定(1ビット)\n",
    "        Arguments: k   --- 設定したいビット番号\n",
    "                   num --- 0 or 1\n",
    "        \"\"\"\n",
    "        # ビットの部分測定を利用する\n",
    "        # k番目が 0 か 1 かを指定\n",
    "        # それぞれの場合の処理を行う ( ベイズの定理的処理 )\n",
    "        k_matrix  = np.array([[1,0],[0,0]])                           # 第kビットが 0 なら k_matrix = |0><0| となる\n",
    "        if num == 1:                                                  # 第kビットが 1 なら\n",
    "            k_matrix = np.array([[0,0],[0,1]])                        # k_matrix = |1><1| となる\n",
    "        \n",
    "        p_matrix  = tensor(np.eye(2**k), k_matrix, np.eye(2**(self.n_bits-k-1))) @ self._amp\n",
    "        p         = self._amp.reshape((1, self.n_states)) @ p_matrix  # 0 or 1 を観測する確率\n",
    "        if p == 0:\n",
    "            self._amp = tensor(np.eye(2**k), np.array([[0,1],[1,0]]), np.eye(2**(self.n_bits-k-1))) @ self._amp\n",
    "        else:\n",
    "            self._amp = p_matrix / np.sqrt(p)    \n",
    "\n",
    "    def measure(self):\n",
    "        \"\"\"\n",
    "        量子ビットの観測\n",
    "        \"\"\"\n",
    "        amp_copy  = self._amp.reshape((self.n_states))             # 下処理 self._amp から一次元配列をえる\n",
    "        p         = np.abs(amp_copy)**2                            # amp_copy から観測確率を求める\n",
    "        p         = p/sum(p)                                       # p の合計が1以上になったときの予防\n",
    "        idx       = np.random.choice(range(len(amp_copy)), p=p)    # 適当に idx を決める。pは合計値が1となるlist\n",
    "        self._amp = np.zeros((self.n_states, 1))                   # self._amp をまっさらにして\n",
    "        self._amp[idx,0] = 1                                       # 一つの状態に確定させる\n",
    "       \n",
    "    def measure_part(self, k):\n",
    "        \"\"\"\n",
    "        量子ビットの部分的観測\n",
    "        Arguments: k --- 測定したいビットの番号(int)\n",
    "        \"\"\"\n",
    "        # まず疑似的に全体を測定する\n",
    "        # そして第kビットが 0 か 1 かを確認\n",
    "        # それぞれの場合の処理を行う ( ベイズの定理的処理 )\n",
    "        amp_copy  = self._amp.reshape((self.n_states))             # 下処理 self._amp から一次元配列をえる\n",
    "        p         = np.abs(amp_copy)**2                            # amp_copy から観測確率を求める\n",
    "        p         = p/sum(p)                                       # p の合計が1以上になったときの予防\n",
    "        idx       = np.random.choice(range(len(amp_copy)), p=p)    # 適当に idx を決める。pは合計値が1となるlist\n",
    "        \n",
    "        b_idx     = format(idx, 'b')                               # b_idx は idx の二進数表記文字列\n",
    "        k_matrix  = np.array([[1,0],[0,0]])                        # 第kビットが 0 なら k_matrix = |0><0| となる\n",
    "        \n",
    "        if k-(self.n_bits-len(b_idx))>=0 and b_idx[k-(self.n_bits-len(b_idx))]==\"1\": # 第kビットが 1 なら\n",
    "            k_matrix = np.array([[0,0],[0,1]])                     # k_matrix = |1><1| となる\n",
    "        \n",
    "        p_matrix  = tensor(np.eye(2**k), k_matrix, np.eye(2**(self.n_bits-k-1))) @ self._amp\n",
    "        p         = self._amp.reshape((1, self.n_states)) @ p_matrix\n",
    "        self._amp = p_matrix / np.sqrt(p)    \n",
    "\n",
    "    def apply(self, *operators):\n",
    "        \"\"\"\n",
    "        量子ビットに演算子を適用\n",
    "        Arguments: operators --- 行列表記の演算子(何個でも可)\n",
    "        \"\"\"\n",
    "        for op in operators:\n",
    "            self._amp = op.dot(self._amp)   # 演算子を左からかけていく\n",
    "    \n",
    "    def __str__(self):\n",
    "        \"\"\"\n",
    "        print時に呼び出される表示用メソッド\n",
    "        Returns: [amp]|0010>\n",
    "        \"\"\"\n",
    "        return \" + \".join(\n",
    "            (\"{}|{:0\" + str(self.n_bits) + \"b}>\").format(amp, i)\n",
    "            for i, amp in enumerate(self._amp) if amp\n",
    "        )"
   ]
  },
  {
   "cell_type": "code",
   "execution_count": 4,
   "metadata": {},
   "outputs": [
    {
     "name": "stdout",
     "output_type": "stream",
     "text": [
      "量子状態 [[0.]\n",
      " [0.]\n",
      " [0.]\n",
      " [1.]]\n",
      "量子状態 [1.]|11>\n",
      "観測結果 [1.]|11>\n",
      "演算結果 [1.]|01>\n"
     ]
    }
   ],
   "source": [
    "# Test\n",
    "qubits = Qubits(2)                  # 2量子ビットを定義\n",
    "qubits.set_bits([0, 1])             # 初期量子ビット|01>\n",
    "qubits.set_bits(np.array([0, 1]))   # numpy の一次元配列も渡せる\n",
    "qubits.set_bit(0, 1)                # 部分的に、第0ビットを1に設定とかも可能\n",
    "\n",
    "print(\"量子状態\", qubits._amp)      # 今の状態を行列表記で返す\n",
    "print(\"量子状態\", qubits)           # 今の状態をブラケット表記で返す\n",
    "\n",
    "qubits.measure()                    # 観測すると\n",
    "print(\"観測結果\", qubits)           # 状態が一つに定まる\n",
    "\n",
    "x=np.array([[0, 0, 1, 0],\n",
    "            [0, 0, 0, 1],\n",
    "            [1, 0, 0, 0],\n",
    "            [0, 1, 0, 0]])\n",
    "\n",
    "qubits.apply(x)                     # 演算しただけでは\n",
    "print(\"演算結果\", qubits)           # 状態は一つに定まらない"
   ]
  },
  {
   "cell_type": "markdown",
   "metadata": {},
   "source": [
    "# 演算関数"
   ]
  },
  {
   "cell_type": "markdown",
   "metadata": {},
   "source": [
    "### 単位演算子 I"
   ]
  },
  {
   "cell_type": "code",
   "execution_count": 5,
   "metadata": {},
   "outputs": [],
   "source": [
    "def I(n_bits):\n",
    "    return np.eye(2**n_bits)"
   ]
  },
  {
   "cell_type": "code",
   "execution_count": 6,
   "metadata": {},
   "outputs": [
    {
     "data": {
      "text/plain": [
       "array([[1., 0., 0., 0.],\n",
       "       [0., 1., 0., 0.],\n",
       "       [0., 0., 1., 0.],\n",
       "       [0., 0., 0., 1.]])"
      ]
     },
     "execution_count": 6,
     "metadata": {},
     "output_type": "execute_result"
    }
   ],
   "source": [
    "I(2)"
   ]
  },
  {
   "cell_type": "markdown",
   "metadata": {},
   "source": [
    "### ビット反転ゲート X"
   ]
  },
  {
   "cell_type": "code",
   "execution_count": 7,
   "metadata": {},
   "outputs": [],
   "source": [
    "def X(n_bits, target):\n",
    "    return tensor(I(target), np.array([[0,1],[1,0]]), I(n_bits-target-1))"
   ]
  },
  {
   "cell_type": "code",
   "execution_count": 8,
   "metadata": {},
   "outputs": [
    {
     "data": {
      "text/plain": [
       "array([[0., 0., 1., 0.],\n",
       "       [0., 0., 0., 1.],\n",
       "       [1., 0., 0., 0.],\n",
       "       [0., 1., 0., 0.]])"
      ]
     },
     "execution_count": 8,
     "metadata": {},
     "output_type": "execute_result"
    }
   ],
   "source": [
    "X(2,0) # 第一引数: ビット数  第二引数: 標的ビット"
   ]
  },
  {
   "cell_type": "markdown",
   "metadata": {},
   "source": [
    "### アダマールゲート H"
   ]
  },
  {
   "cell_type": "code",
   "execution_count": 9,
   "metadata": {},
   "outputs": [],
   "source": [
    "def H(n_bits, target):\n",
    "    return tensor(I(target), np.array([[1,1],[1,-1]])/np.sqrt(2), I(n_bits-target-1))"
   ]
  },
  {
   "cell_type": "code",
   "execution_count": 10,
   "metadata": {},
   "outputs": [
    {
     "data": {
      "text/plain": [
       "array([[ 0.70710678,  0.        ,  0.70710678,  0.        ],\n",
       "       [ 0.        ,  0.70710678,  0.        ,  0.70710678],\n",
       "       [ 0.70710678,  0.        , -0.70710678, -0.        ],\n",
       "       [ 0.        ,  0.70710678, -0.        , -0.70710678]])"
      ]
     },
     "execution_count": 10,
     "metadata": {},
     "output_type": "execute_result"
    }
   ],
   "source": [
    "H(2,0)"
   ]
  },
  {
   "cell_type": "markdown",
   "metadata": {},
   "source": [
    "### Tゲート"
   ]
  },
  {
   "cell_type": "code",
   "execution_count": 11,
   "metadata": {},
   "outputs": [],
   "source": [
    "def T(n_bits, target):\n",
    "    T = np.array([[np.e**(1j*(np.pi/8)), 0], [0, np.e**(1j*(np.pi/8))]])\n",
    "    return tensor(I(target), T, I(n_bits-target-1))"
   ]
  },
  {
   "cell_type": "code",
   "execution_count": 12,
   "metadata": {},
   "outputs": [
    {
     "data": {
      "text/plain": [
       "array([[0.92387953+0.38268343j, 0.        +0.j        ],\n",
       "       [0.        +0.j        , 0.92387953+0.38268343j]])"
      ]
     },
     "execution_count": 12,
     "metadata": {},
     "output_type": "execute_result"
    }
   ],
   "source": [
    "T(1,0)"
   ]
  },
  {
   "cell_type": "markdown",
   "metadata": {},
   "source": [
    "### ビット回転 SPINゲート\n",
    "任意の角度だけビットを回転させる"
   ]
  },
  {
   "cell_type": "code",
   "execution_count": 13,
   "metadata": {},
   "outputs": [],
   "source": [
    "def SPIN(n_bits, target, spin):\n",
    "    Spin = np.array([[np.e**(1j*(spin)), 0], [0, np.e**(1j*(spin))]])\n",
    "    return tensor(I(target), Spin, I(n_bits-target-1))"
   ]
  },
  {
   "cell_type": "code",
   "execution_count": 14,
   "metadata": {},
   "outputs": [
    {
     "data": {
      "text/plain": [
       "array([[0.92387953+0.38268343j, 0.        +0.j        ],\n",
       "       [0.        +0.j        , 0.92387953+0.38268343j]])"
      ]
     },
     "execution_count": 14,
     "metadata": {},
     "output_type": "execute_result"
    }
   ],
   "source": [
    "SPIN(1,0,np.pi/8)  # ビット数, 標的ビット, 回転角"
   ]
  },
  {
   "cell_type": "markdown",
   "metadata": {},
   "source": [
    "### CNOTゲート"
   ]
  },
  {
   "cell_type": "code",
   "execution_count": 15,
   "metadata": {},
   "outputs": [],
   "source": [
    "def CNOT(n_bits, control, target):\n",
    "    CNOT_zero = np.array([[1,0],[0,0]]) # 制御ビットが0の時 ( |0><0| を表している )\n",
    "    CNOT_one  = np.array([[0,0],[0,1]]) # 制御ビットが1の時 ( |1><1| を表している )\n",
    "    \n",
    "    CNOT_zero = tensor(I(control), CNOT_zero, I(n_bits-control-1))\n",
    "    CNOT_one  = tensor(I(control), CNOT_one,  I(n_bits-control-1)) @ X(n_bits, target)\n",
    "    \n",
    "    return CNOT_zero + CNOT_one"
   ]
  },
  {
   "cell_type": "code",
   "execution_count": 16,
   "metadata": {},
   "outputs": [
    {
     "data": {
      "text/plain": [
       "array([[1., 0., 0., 0.],\n",
       "       [0., 1., 0., 0.],\n",
       "       [0., 0., 0., 1.],\n",
       "       [0., 0., 1., 0.]])"
      ]
     },
     "execution_count": 16,
     "metadata": {},
     "output_type": "execute_result"
    }
   ],
   "source": [
    "CNOT(2,0,1)"
   ]
  },
  {
   "cell_type": "markdown",
   "metadata": {},
   "source": [
    "### CUゲート (制御ビット、標的ビットを任意に決める)\n",
    "制御ビットが 1 の時のみ標的ビットに U を作用させる。  \n",
    "標的ビットには作用させたいビットのうち一番番号が若い者を渡す"
   ]
  },
  {
   "cell_type": "code",
   "execution_count": 17,
   "metadata": {},
   "outputs": [],
   "source": [
    "def CU(n_bits, control, target, U):\n",
    "    m,m = U.shape\n",
    "    n   = int(math.log(m,2))\n",
    "    \n",
    "    CU_zero = np.array([[1,0],[0,0]]) # 制御ビットが0の時 ( |0><0| を表している )\n",
    "    CU_one  = np.array([[0,0],[0,1]]) # 制御ビットが1の時 ( |1><1| を表している )\n",
    "    \n",
    "    CU_zero = tensor(I(control), CU_zero, I(n_bits-control-1))\n",
    "    CU_one  = tensor(I(control), CU_one,  I(n_bits-control-1)) @ tensor(I(target), U, I(n_bits-target-n))\n",
    "    \n",
    "    return CU_zero + CU_one"
   ]
  },
  {
   "cell_type": "code",
   "execution_count": 18,
   "metadata": {},
   "outputs": [
    {
     "data": {
      "text/plain": [
       "array([[1., 0., 0., 0.],\n",
       "       [0., 1., 0., 0.],\n",
       "       [0., 0., 0., 1.],\n",
       "       [0., 0., 1., 0.]])"
      ]
     },
     "execution_count": 18,
     "metadata": {},
     "output_type": "execute_result"
    }
   ],
   "source": [
    "CU(2,0,1,X(1,0)) # ビット数, 制御ビット, 標的ビット, ユニタリ行列"
   ]
  },
  {
   "cell_type": "markdown",
   "metadata": {},
   "source": [
    "# 演算テスト"
   ]
  },
  {
   "cell_type": "code",
   "execution_count": 19,
   "metadata": {},
   "outputs": [
    {
     "name": "stdout",
     "output_type": "stream",
     "text": [
      "[0.5]|00> + [0.5]|01> + [0.5]|10> + [0.5]|11>\n",
      "観測結果 [1.]|00>\n",
      "[0.5]|00> + [0.5]|01> + [0.5]|10> + [0.5]|11>\n",
      "観測結果 [0.70710678]|00> + [0.70710678]|01>\n"
     ]
    }
   ],
   "source": [
    "# Test\n",
    "qubits = Qubits(2)          # 2ビット 初期状態 |00>\n",
    "qubits.apply(H(2,0),H(2,1)) # 演算を作用\n",
    "print(qubits)               # ブラケット表記\n",
    "\n",
    "qubits.measure()            # 観測すると\n",
    "print(\"観測結果\",qubits)    # 一つに定まる\n",
    "\n",
    "qubits.set_bits([0,0])      # |00> にセット\n",
    "qubits.apply(H(2,0),H(2,1)) # 演算を作用\n",
    "print(qubits)               # ブラケット表記\n",
    "\n",
    "qubits.measure_part(0)      # 第0ビットだけ部分的に観測\n",
    "print(\"観測結果\",qubits)    # 重ね合わせが制限される"
   ]
  },
  {
   "cell_type": "code",
   "execution_count": 20,
   "metadata": {},
   "outputs": [
    {
     "name": "stdout",
     "output_type": "stream",
     "text": [
      "観測結果 [1.]|11>\n",
      "観測結果 [1.]|01>\n",
      "観測結果 [1.]|01>\n",
      "観測結果 [1.]|10>\n",
      "観測結果 [1.]|11>\n",
      "観測結果 [1.]|11>\n",
      "観測結果 [1.]|00>\n",
      "観測結果 [1.]|00>\n",
      "観測結果 [1.]|01>\n",
      "観測結果 [1.]|00>\n"
     ]
    }
   ],
   "source": [
    "qubits = Qubits(2)          # 2ビット 初期状態 |00>\n",
    "for i in range(10):\n",
    "    qubits.set_bits([0,0])      # |00> にセット\n",
    "    qubits.apply(H(2,0),H(2,1)) # 演算を作用\n",
    "    qubits.measure()      # 観測\n",
    "    print(\"観測結果\",qubits)    # 重ね合わせが制限される"
   ]
  },
  {
   "cell_type": "code",
   "execution_count": 21,
   "metadata": {},
   "outputs": [
    {
     "name": "stdout",
     "output_type": "stream",
     "text": [
      "観測結果 [0.70710678]|01> + [0.70710678]|11>\n",
      "観測結果 [0.70710678]|00> + [0.70710678]|10>\n",
      "観測結果 [0.70710678]|00> + [0.70710678]|10>\n",
      "観測結果 [0.70710678]|01> + [0.70710678]|11>\n",
      "観測結果 [0.70710678]|00> + [0.70710678]|10>\n",
      "観測結果 [0.70710678]|00> + [0.70710678]|10>\n",
      "観測結果 [0.70710678]|01> + [0.70710678]|11>\n",
      "観測結果 [0.70710678]|01> + [0.70710678]|11>\n",
      "観測結果 [0.70710678]|00> + [0.70710678]|10>\n",
      "観測結果 [0.70710678]|00> + [0.70710678]|10>\n"
     ]
    }
   ],
   "source": [
    "qubits = Qubits(2)          # 2ビット 初期状態 |00>\n",
    "for i in range(10):\n",
    "    qubits.set_bits([0,0])      # |00> にセット\n",
    "    qubits.apply(H(2,0),H(2,1)) # 演算を作用\n",
    "    qubits.measure_part(1)      # 第1ビットだけ部分的に観測\n",
    "    print(\"観測結果\",qubits)    # 重ね合わせが制限される"
   ]
  },
  {
   "cell_type": "code",
   "execution_count": null,
   "metadata": {},
   "outputs": [],
   "source": []
  }
 ],
 "metadata": {
  "kernelspec": {
   "display_name": "Python 3",
   "language": "python",
   "name": "python3"
  },
  "language_info": {
   "codemirror_mode": {
    "name": "ipython",
    "version": 3
   },
   "file_extension": ".py",
   "mimetype": "text/x-python",
   "name": "python",
   "nbconvert_exporter": "python",
   "pygments_lexer": "ipython3",
   "version": "3.6.5"
  }
 },
 "nbformat": 4,
 "nbformat_minor": 2
}
