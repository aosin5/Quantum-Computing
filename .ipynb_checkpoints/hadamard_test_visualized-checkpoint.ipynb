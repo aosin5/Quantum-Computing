{
 "cells": [
  {
   "cell_type": "markdown",
   "metadata": {
    "slideshow": {
     "slide_type": "slide"
    }
   },
   "source": [
    "# アダマールテストによる固有値への収束を可視化する  \n",
    "hadamard_loopでループ回数を増やせばどんどん固有値に近づいていく。そこでその様子をグラフで可視化する。"
   ]
  },
  {
   "cell_type": "code",
   "execution_count": 1,
   "metadata": {
    "slideshow": {
     "slide_type": "slide"
    }
   },
   "outputs": [],
   "source": [
    "import numpy as np\n",
    "import math"
   ]
  },
  {
   "cell_type": "code",
   "execution_count": 2,
   "metadata": {
    "slideshow": {
     "slide_type": "slide"
    }
   },
   "outputs": [],
   "source": [
    "def get_CU_gate(U):\n",
    "    m,m=U.shape\n",
    "    n=int(math.log(m,2))\n",
    "    \n",
    "    I=np.array([[1,0],[0,1]])\n",
    "    CU_zero=np.array([[1,0],[0,0]])\n",
    "    CU_one=np.array([[0,0],[0,1]])\n",
    "    \n",
    "    for i in range(n):\n",
    "            CU_zero=np.kron(CU_zero,I)\n",
    "    \n",
    "    CU_one=np.kron(CU_one,U)\n",
    "    \n",
    "    return CU_zero+CU_one"
   ]
  },
  {
   "cell_type": "code",
   "execution_count": null,
   "metadata": {},
   "outputs": [],
   "source": []
  },
  {
   "cell_type": "code",
   "execution_count": 3,
   "metadata": {},
   "outputs": [],
   "source": [
    "def get_H_gate(U):\n",
    "    m,m=U.shape\n",
    "    n=int(math.log(m,2))\n",
    "    \n",
    "    H=np.array([[1,1],[1,-1]])/math.sqrt(2)\n",
    "    I=np.array([[1,0],[0,1]])\n",
    "    \n",
    "    H_gate=H\n",
    "    \n",
    "    for i in range(n):\n",
    "        H_gate=np.kron(H_gate,I)\n",
    "    \n",
    "    return H_gate"
   ]
  },
  {
   "cell_type": "code",
   "execution_count": 4,
   "metadata": {},
   "outputs": [],
   "source": [
    "def hadamard_test(U,phi):\n",
    "    \n",
    "    # 初期状態を定める\n",
    "    zero_bit=np.array([[1],[0]])\n",
    "    state=np.kron(zero_bit,phi)\n",
    "    \n",
    "    # stateにH_gateを作用させる\n",
    "    state=np.dot(get_H_gate(U),state)\n",
    "    \n",
    "    # stateにCU_gateを作用させる\n",
    "    state=np.dot(get_CU_gate(U),state)\n",
    "    \n",
    "    # stateにH_gateを作用させる\n",
    "    state=np.dot(get_H_gate(U),state)\n",
    "    \n",
    "    return state"
   ]
  },
  {
   "cell_type": "code",
   "execution_count": 5,
   "metadata": {},
   "outputs": [],
   "source": [
    "def get_answer(U):\n",
    "    w,v=np.linalg.eig(U)\n",
    "    \n",
    "    for i in range(len(w)):\n",
    "        print('value:',w[i],' vector:',v[:,i])"
   ]
  },
  {
   "cell_type": "code",
   "execution_count": 6,
   "metadata": {},
   "outputs": [],
   "source": [
    "def hadamard_loop(U,loop):\n",
    "    m,m=U.shape\n",
    "    n=int(math.log(m,2))\n",
    "    zero=[[1],[0]]\n",
    "    state=zero\n",
    "    \n",
    "    for i in range(n-1):\n",
    "        state=np.kron(state,zero)\n",
    "    \n",
    "    for i in range(loop):\n",
    "        end_state=hadamard_test(U,state)\n",
    "        # アダマールテストで帰ってきたend_stateから１ビット目の情報を抜き取って、次のhadamard_testに使う(できれば再帰関数でかきたい)\n",
    "        end_state0, end_state1=np.split(end_state,[2**n],axis=0) # end_stateを上下に分ける\n",
    "        PZero=sum([abs(end_state[i,0])**2 for i in range(2**(n-1))]) # １ビット目で0が観測される確率\n",
    "        if PZero==0:\n",
    "            state=end_state1\n",
    "        else:\n",
    "            state=end_state0/((PZero)**(1/2))\n",
    "            \n",
    "    cosL=2*PZero-1\n",
    "    cosL=min(cosL,1) # 1超えたときの保険\n",
    "    return cosL+math.sqrt(1-cosL**2)*1j,cosL-math.sqrt(1-cosL**2)*1j # 返すのは固有値(ただし虚部の符号は分からないので両方返す)"
   ]
  },
  {
   "cell_type": "markdown",
   "metadata": {},
   "source": [
    "### 2Dによる可視化"
   ]
  },
  {
   "cell_type": "markdown",
   "metadata": {},
   "source": [
    "可視化にはmatplotlibを用いる。"
   ]
  },
  {
   "cell_type": "code",
   "execution_count": 7,
   "metadata": {},
   "outputs": [],
   "source": [
    "import matplotlib.pyplot as plt\n",
    "import numpy as np"
   ]
  },
  {
   "cell_type": "code",
   "execution_count": 8,
   "metadata": {},
   "outputs": [],
   "source": [
    "def hadamard_vd(U,loop):\n",
    "    data_R=[]\n",
    "    data_I=[]\n",
    "    num=np.arange(loop)\n",
    "\n",
    "    for i in range(loop):\n",
    "        IV_tuple=hadamard_loop(U,i+1) # 1回行ったアダマールテストを利用して２回目のアダマールテストを行うようにすれば速くなる(してない)\n",
    "        IV=IV_tuple[0] # tupleでは不便なので取り出しておく\n",
    "        data_R.append(IV.real) # 固有値を実部と虚部に分ける\n",
    "        data_I.append(IV.imag)\n",
    "\n",
    "    plt.plot(num, data_R, label=\"IV_R\")\n",
    "    plt.plot(num, data_I, label=\"IV_I\")\n",
    "    plt.grid()\n",
    "    plt.legend()\n",
    "    plt.xlabel(\"num\")\n",
    "    plt.ylabel(\"IV\")\n",
    "    plt.show()"
   ]
  },
  {
   "cell_type": "code",
   "execution_count": 9,
   "metadata": {},
   "outputs": [],
   "source": [
    "# 実験に使う基本的なゲートを定義しておく\n",
    "PI=math.pi\n",
    "e=math.e\n",
    "\n",
    "X=np.array([[0,1],[1,0]])\n",
    "Y=np.array([[0,-1j],[1j,0]])\n",
    "Z=np.array([[1,0],[0,-1]])\n",
    "H=np.array([[1,1],[1,-1]])/math.sqrt(2)\n",
    "T=np.array([[e**(1j*(PI/8)),0],[0,e**(1j*(PI/8))]])\n",
    "CNOT=get_CU_gate(X)"
   ]
  },
  {
   "cell_type": "markdown",
   "metadata": {},
   "source": [
    "試しにパウリXゲートに対しアダマールテストを行う  \n",
    "青い線がある固有値の実部、オレンジの線が虚部である  \n",
    "なお確認用にget_answerで固有値を出しておく"
   ]
  },
  {
   "cell_type": "code",
   "execution_count": 10,
   "metadata": {
    "slideshow": {
     "slide_type": "slide"
    }
   },
   "outputs": [
    {
     "data": {
      "image/png": "[encoded data removed]",
      "text/plain": [
       "<Figure size 432x288 with 1 Axes>"
      ]
     },
     "metadata": {},
     "output_type": "display_data"
    },
    {
     "name": "stdout",
     "output_type": "stream",
     "text": [
      "value: 1.0  vector: [0.70710678 0.70710678]\n",
      "value: -1.0  vector: [-0.70710678  0.70710678]\n"
     ]
    }
   ],
   "source": [
    "hadamard_vd(X,10)\n",
    "get_answer(X)"
   ]
  },
  {
   "cell_type": "markdown",
   "metadata": {},
   "source": [
    "次は$2^{3}\\times2^{3}$のユニタリ行列に対して"
   ]
  },
  {
   "cell_type": "code",
   "execution_count": 11,
   "metadata": {},
   "outputs": [
    {
     "data": {
      "image/png": "[encoded data removed]",
      "text/plain": [
       "<Figure size 432x288 with 1 Axes>"
      ]
     },
     "metadata": {},
     "output_type": "display_data"
    },
    {
     "name": "stdout",
     "output_type": "stream",
     "text": [
      "value: (0.9238795325112865+0.3826834323650897j)  vector: [ 7.07106781e-01+0.j         -0.00000000e+00+0.j\n",
      " -0.00000000e+00+0.j         -0.00000000e+00+0.j\n",
      " -0.00000000e+00+0.j         -0.00000000e+00+0.j\n",
      "  1.77425914e-17+0.70710678j -0.00000000e+00+0.j        ]\n",
      "value: (-0.9238795325112867-0.38268343236508984j)  vector: [7.07106781e-01+0.j         0.00000000e+00+0.j\n",
      " 0.00000000e+00+0.j         0.00000000e+00+0.j\n",
      " 0.00000000e+00+0.j         0.00000000e+00+0.j\n",
      " 1.63097776e-16-0.70710678j 0.00000000e+00+0.j        ]\n",
      "value: (0.9238795325112865+0.3826834323650897j)  vector: [-0.00000000e+00+0.j         -0.00000000e+00+0.j\n",
      "  7.07106781e-01+0.j         -0.00000000e+00+0.j\n",
      " -1.77425914e-17-0.70710678j -0.00000000e+00+0.j\n",
      " -0.00000000e+00+0.j         -0.00000000e+00+0.j        ]\n",
      "value: (-0.9238795325112867-0.38268343236508984j)  vector: [ 0.00000000e+00+0.j          0.00000000e+00+0.j\n",
      "  7.07106781e-01+0.j          0.00000000e+00+0.j\n",
      " -1.63097776e-16+0.70710678j  0.00000000e+00+0.j\n",
      "  0.00000000e+00+0.j          0.00000000e+00+0.j        ]\n",
      "value: (0.9238795325112865+0.3826834323650897j)  vector: [ 0.00000000e+00+0.j          0.00000000e+00+0.j\n",
      " -1.49299132e-02-0.01702364j  7.06744150e-01+0.j\n",
      " -1.70236414e-02+0.01492991j  4.01922752e-17-0.70674415j\n",
      "  0.00000000e+00+0.j          0.00000000e+00+0.j        ]\n",
      "value: (-0.9238795325112867-0.38268343236508984j)  vector: [ 0.00000000e+00+0.j          0.00000000e+00+0.j\n",
      " -1.49299132e-02-0.01702364j  7.06744150e-01+0.j\n",
      "  1.70236414e-02-0.01492991j -8.33618956e-17+0.70674415j\n",
      "  0.00000000e+00+0.j          0.00000000e+00+0.j        ]\n",
      "value: (0.9238795325112865+0.3826834323650897j)  vector: [-1.49299132e-02-0.01702364j  7.06744150e-01+0.j\n",
      " -0.00000000e+00+0.j         -0.00000000e+00+0.j\n",
      " -0.00000000e+00+0.j         -0.00000000e+00+0.j\n",
      "  1.70236414e-02-0.01492991j -4.01922752e-17+0.70674415j]\n",
      "value: (-0.9238795325112867-0.38268343236508984j)  vector: [-1.49299132e-02-0.01702364j  7.06744150e-01+0.j\n",
      "  0.00000000e+00-0.j          0.00000000e+00-0.j\n",
      "  0.00000000e+00-0.j          0.00000000e+00-0.j\n",
      " -1.70236414e-02+0.01492991j  8.33618956e-17-0.70674415j]\n"
     ]
    }
   ],
   "source": [
    "MyGate=np.kron(X,np.kron(Y,T))\n",
    "hadamard_vd(MyGate, 10)\n",
    "get_answer(MyGate)"
   ]
  },
  {
   "cell_type": "markdown",
   "metadata": {},
   "source": [
    "次は複雑な行列に対して"
   ]
  },
  {
   "cell_type": "code",
   "execution_count": 12,
   "metadata": {},
   "outputs": [
    {
     "data": {
      "image/png": "[encoded data removed]",
      "text/plain": [
       "<Figure size 432x288 with 1 Axes>"
      ]
     },
     "metadata": {},
     "output_type": "display_data"
    },
    {
     "name": "stdout",
     "output_type": "stream",
     "text": [
      "value: (0.38268343236508984-0.9238795325112867j)  vector: [0.92387953+0.00000000e+00j 0.38268343+3.99162548e-17j]\n",
      "value: (-0.3826834323650897+0.9238795325112865j)  vector: [-0.38268343-8.89739552e-18j  0.92387953+0.00000000e+00j]\n"
     ]
    }
   ],
   "source": [
    "MyGate2=T@H@Z@Y@X\n",
    "hadamard_vd(MyGate2,20)\n",
    "get_answer(MyGate2)"
   ]
  },
  {
   "cell_type": "markdown",
   "metadata": {},
   "source": [
    "### 初期ビット変えてどの固有値に収束するか観測する\n",
    "ここまでは初期状態は$|00...0>$に固定して、何度もアダマールテストをループさせることで固有状態にまで収束させた。しかし固有状態は1つでは無い。初期状態が異なれば異なる固有状態に収束し、異なる固有値が得られる。"
   ]
  },
  {
   "cell_type": "code",
   "execution_count": 13,
   "metadata": {},
   "outputs": [],
   "source": [
    "def hadamard_loop2(U,loop,phi):\n",
    "    m,m=U.shape\n",
    "    n=int(math.log(m,2))\n",
    "    state=phi\n",
    "    \n",
    "    for i in range(loop):\n",
    "        end_state=hadamard_test(U,state)\n",
    "        # アダマールテストで帰ってきたend_stateから１ビット目の情報を抜き取って、次のhadamard_testに使う(できれば再帰関数でかきたい)\n",
    "        end_state0, end_state1=np.split(end_state,[2**n],axis=0) # end_stateを上下に分ける\n",
    "        PZero=sum([abs(end_state[i,0])**2 for i in range(2**(n-1))]) # １ビット目で0が観測される確率\n",
    "        if PZero==0:\n",
    "            state=end_state1\n",
    "        else:\n",
    "            state=end_state0/((PZero)**(1/2))\n",
    "            \n",
    "    cosL=2*PZero-1\n",
    "    cosL=min(cosL,1) # 1超えたときの保険\n",
    "    return cosL+math.sqrt(1-cosL**2)*1j,cosL-math.sqrt(1-cosL**2)*1j # 返すのは固有値(ただし虚部の符号は分からないので両方返す)"
   ]
  },
  {
   "cell_type": "code",
   "execution_count": 14,
   "metadata": {},
   "outputs": [],
   "source": [
    "def hadamard_vd2(U,loop,phi):\n",
    "    data_R=[]\n",
    "    data_I=[]\n",
    "    num=np.arange(loop)\n",
    "\n",
    "    for i in range(loop):\n",
    "        IV_tuple=hadamard_loop2(U,i+1,phi) # 1回行ったアダマールテストを利用して２回目のアダマールテストを行うようにすれば速くなる(してない)\n",
    "        IV=IV_tuple[0] # tupleでは不便なので取り出しておく\n",
    "        data_R.append(IV.real) # 固有値を実部と虚部に分ける\n",
    "        data_I.append(IV.imag)\n",
    "\n",
    "    plt.plot(num, data_R, label=\"IV_R\")\n",
    "    plt.plot(num, data_I, label=\"IV_I\")\n",
    "    plt.grid()\n",
    "    plt.legend()\n",
    "    plt.xlabel(\"num\")\n",
    "    plt.ylabel(\"IV\")\n",
    "    plt.show()"
   ]
  },
  {
   "cell_type": "markdown",
   "metadata": {},
   "source": [
    "試しにXのアダマールループを初期状態を変えて行ってみる"
   ]
  },
  {
   "cell_type": "code",
   "execution_count": 15,
   "metadata": {},
   "outputs": [
    {
     "data": {
      "image/png": "[encoded data removed]",
      "text/plain": [
       "<Figure size 432x288 with 1 Axes>"
      ]
     },
     "metadata": {},
     "output_type": "display_data"
    },
    {
     "data": {
      "image/png": "[encoded data removed]",
      "text/plain": [
       "<Figure size 432x288 with 1 Axes>"
      ]
     },
     "metadata": {},
     "output_type": "display_data"
    },
    {
     "data": {
      "image/png": "[encoded data removed]",
      "text/plain": [
       "<Figure size 432x288 with 1 Axes>"
      ]
     },
     "metadata": {},
     "output_type": "display_data"
    },
    {
     "data": {
      "image/png": "[encoded data removed]",
      "text/plain": [
       "<Figure size 432x288 with 1 Axes>"
      ]
     },
     "metadata": {},
     "output_type": "display_data"
    },
    {
     "data": {
      "image/png": "[encoded data removed]",
      "text/plain": [
       "<Figure size 432x288 with 1 Axes>"
      ]
     },
     "metadata": {},
     "output_type": "display_data"
    },
    {
     "name": "stdout",
     "output_type": "stream",
     "text": [
      "value: 1.0  vector: [0.70710678 0.70710678]\n",
      "value: -1.0  vector: [-0.70710678  0.70710678]\n"
     ]
    }
   ],
   "source": [
    "phi1=np.array([[1],[0]])\n",
    "phi2=np.array([[-1/math.sqrt(2)],[1/math.sqrt(2)]])\n",
    "phi3=np.array([[3/5],[4/5]])\n",
    "phi4=np.array([[1/math.sqrt(2)],[1/math.sqrt(2)]])\n",
    "phi5=np.array([[1/2+1j/2],[1/2+1j/2]])\n",
    "phi_list=[phi1,phi2,phi3,phi4,phi5]\n",
    "\n",
    "for i in range(len(phi_list)):\n",
    "    hadamard_vd2(X,10,phi_list[i])\n",
    "\n",
    "get_answer(X)"
   ]
  },
  {
   "cell_type": "markdown",
   "metadata": {},
   "source": [
    "ほとんど固有値1に収束している。-1に収束したのは初期状態に固有値-1に対応する固有ベクトルを用いたときだけだ。  \n",
    "おそらくアダマールループはこういうものだと定量的に予想できる。(他の行列についても特定の固有値に対する収束の傾向が強いことを確認)  \n",
    "つまりアダマールループでは位数測定を行うのは困難である。  \n",
    "その理由はhadamard_shorを見ていただければばよく分かるだろう。"
   ]
  },
  {
   "cell_type": "markdown",
   "metadata": {},
   "source": [
    "今後の課題として収束しやすい固有値に共通の性質を見つけること。またそうなる原因を定性的に理解することなどが考えられる。"
   ]
  },
  {
   "cell_type": "markdown",
   "metadata": {},
   "source": [
    "## pygameを用いた可視化"
   ]
  },
  {
   "cell_type": "markdown",
   "metadata": {},
   "source": [
    "pygameを用いることでより直感的に可視化することができる"
   ]
  },
  {
   "cell_type": "code",
   "execution_count": 16,
   "metadata": {},
   "outputs": [],
   "source": [
    "import pygame\n",
    "from pygame.locals import *\n",
    "import time\n",
    "\n",
    "def visual_vector(U,loop):\n",
    "    data_R=[]\n",
    "    data_I=[]\n",
    "    num=np.arange(loop)\n",
    "\n",
    "    for i in range(loop):\n",
    "        IV_tuple=hadamard_loop(U,i+1) # 固有値を実部と虚部に分ける\n",
    "        IV=IV_tuple[0] # tupleでは不便なので取り出しておく\n",
    "        data_R.append(IV.real)\n",
    "        data_I.append(IV.imag)\n",
    "        # print(\"accuracy:\",,\"%\")\n",
    "\n",
    "    #answer vector\n",
    "    w,v=np.linalg.eig(U)#w:固有値、v:固有ベクトル\n",
    "    for i in range(len(w)):\n",
    "        print('value:',w[i],' vector:',v[:,i])\n",
    "        print(v[i,0])\n",
    "\n",
    "    pygame.init()\n",
    "    state=False\n",
    "    Hight=600\n",
    "    Width=600\n",
    "    Radius=200\n",
    "    Center=(int(Hight/2),int(Width/2))\n",
    "    loop_count=0\n",
    "\n",
    "    Answer=[]\n",
    "    for i in range(len(w)):\n",
    "        Answer.append((Center[0]+Radius*w[i].real,Center[1]+Radius*w[i].imag))\n",
    "    ex_A=[]\n",
    "    for j in range(len(data_I)):\n",
    "        ex_A.append((Center[0]+Radius*data_R[j],Center[1]+Radius*data_I[j]))\n",
    "    screen=pygame.display.set_mode((Hight,Width))\n",
    "    pygame.display.set_caption(\"vector visualize\")\n",
    "\n",
    "    while(1):\n",
    "        screen.fill((0,0,0))\n",
    "        pygame.draw.circle(screen,(0,95,0),Center,Radius,2)\n",
    "        angle = 180/PI*math.acos(float(w[0].real)*data_R[loop_count]+float(w[0].imag)*data_I[loop_count])\n",
    "        angle_2 = 180/PI*math.pi*math.acos(w[0].real*data_R[loop_count]-w[0].imag*data_I[loop_count])\n",
    "        # 双方のベクトルの内積から相対角度を求める\n",
    "        print(\"loop:\", loop_count+1, \"  angle\", min(angle,angle_2), \"°\")\n",
    "        if state == True:\n",
    "            loop_count -= 1\n",
    "        for answer_num in range(len(Answer)):\n",
    "            pygame.draw.line(screen,(0,0,100),Center,Answer[answer_num],3)\n",
    "        pygame.draw.line(screen,(0,100,100),Center,ex_A[loop_count],3)\n",
    "        loop_count+=1\n",
    "        time.sleep(1)\n",
    "        pygame.display.update()\n",
    "        for event in pygame.event.get():\n",
    "            #終了用イベント\n",
    "            if event.type==QUIT:\n",
    "                pygame.quit()\n",
    "            #キー入力時\n",
    "            if event.type==pygame.KEYDOWN:\n",
    "                if event.key==K_ESCAPE:\n",
    "                    pygame.quit()\n",
    "                    sys.exit()\n",
    "                if event.key==pygame.K_SPACE: state=not(state)"
   ]
  },
  {
   "cell_type": "code",
   "execution_count": 17,
   "metadata": {},
   "outputs": [
    {
     "name": "stdout",
     "output_type": "stream",
     "text": [
      "value: (0.7071067811865471+0.7071067811865471j)  vector: [7.07106781e-01+0.j         9.47634627e-17+0.70710678j]\n",
      "(0.7071067811865475+0j)\n",
      "value: (-0.7071067811865475-0.7071067811865475j)  vector: [8.89572395e-17+0.70710678j 7.07106781e-01+0.j        ]\n",
      "(9.47634626983522e-17+0.7071067811865474j)\n",
      "loop: 1   angle 75.00000000000003 °\n",
      "loop: 2   angle 45.000000000000064 °\n",
      "loop: 3   angle 45.00000000000003 °\n",
      "loop: 4   angle 8.13010235415614 °\n",
      "loop: 5   angle 7.3301130356707 °\n",
      "loop: 6   angle 1.3971810272979341 °\n",
      "loop: 7   angle 1.426421403477421 °\n",
      "loop: 8   angle 0.23972989608843545 °\n",
      "loop: 9   angle 0.23890382646530156 °\n",
      "loop: 10   angle 0.04113120584062103 °\n",
      "loop: 11   angle 0.04115569171743997 °\n",
      "loop: 12   angle 0.007056999725356304 °\n",
      "loop: 13   angle 0.007056279848839047 °\n",
      "loop: 14   angle 0.0012107913108974759 °\n",
      "loop: 15   angle 0.001210812381670077 °\n",
      "loop: 16   angle 0.00020774612926925275 °\n",
      "loop: 17   angle 0.00020774612926925275 °\n",
      "loop: 18   angle 3.569549914808619e-05 °\n",
      "loop: 19   angle 3.568528730432176e-05 °\n",
      "loop: 20   angle 6.3890569402603996e-06 °\n",
      "loop: 21   angle 6.3890569402603996e-06 °\n",
      "loop: 22   angle 2.2588727439225506e-06 °\n",
      "loop: 23   angle 2.091309789151873e-06 °\n",
      "loop: 24   angle 1.9090959104164224e-06 °\n",
      "loop: 25   angle 1.9090959104164224e-06 °\n",
      "loop: 26   angle 2.091309789151873e-06 °\n",
      "loop: 27   angle 1.9090959104164224e-06 °\n",
      "loop: 28   angle 1.9090959104164224e-06 °\n",
      "loop: 29   angle 2.091309789151873e-06 °\n",
      "loop: 30   angle 1.9090959104164224e-06 °\n"
     ]
    },
    {
     "ename": "IndexError",
     "evalue": "list index out of range",
     "output_type": "error",
     "traceback": [
      "\u001b[1;31m---------------------------------------------------------------------------\u001b[0m",
      "\u001b[1;31mIndexError\u001b[0m                                Traceback (most recent call last)",
      "\u001b[1;32m<ipython-input-17-d13cf6f3f856>\u001b[0m in \u001b[0;36m<module>\u001b[1;34m()\u001b[0m\n\u001b[0;32m      3\u001b[0m \u001b[0mMyGate0\u001b[0m\u001b[1;33m=\u001b[0m\u001b[0mX\u001b[0m\u001b[1;33m\u001b[0m\u001b[0m\n\u001b[0;32m      4\u001b[0m \u001b[1;33m\u001b[0m\u001b[0m\n\u001b[1;32m----> 5\u001b[1;33m \u001b[0mvisual_vector\u001b[0m\u001b[1;33m(\u001b[0m\u001b[0mMyGate2\u001b[0m\u001b[1;33m,\u001b[0m\u001b[1;36m30\u001b[0m\u001b[1;33m)\u001b[0m\u001b[1;33m\u001b[0m\u001b[0m\n\u001b[0m",
      "\u001b[1;32m<ipython-input-16-3fd9c8811729>\u001b[0m in \u001b[0;36mvisual_vector\u001b[1;34m(U, loop)\u001b[0m\n\u001b[0;32m     41\u001b[0m         \u001b[0mscreen\u001b[0m\u001b[1;33m.\u001b[0m\u001b[0mfill\u001b[0m\u001b[1;33m(\u001b[0m\u001b[1;33m(\u001b[0m\u001b[1;36m0\u001b[0m\u001b[1;33m,\u001b[0m\u001b[1;36m0\u001b[0m\u001b[1;33m,\u001b[0m\u001b[1;36m0\u001b[0m\u001b[1;33m)\u001b[0m\u001b[1;33m)\u001b[0m\u001b[1;33m\u001b[0m\u001b[0m\n\u001b[0;32m     42\u001b[0m         \u001b[0mpygame\u001b[0m\u001b[1;33m.\u001b[0m\u001b[0mdraw\u001b[0m\u001b[1;33m.\u001b[0m\u001b[0mcircle\u001b[0m\u001b[1;33m(\u001b[0m\u001b[0mscreen\u001b[0m\u001b[1;33m,\u001b[0m\u001b[1;33m(\u001b[0m\u001b[1;36m0\u001b[0m\u001b[1;33m,\u001b[0m\u001b[1;36m95\u001b[0m\u001b[1;33m,\u001b[0m\u001b[1;36m0\u001b[0m\u001b[1;33m)\u001b[0m\u001b[1;33m,\u001b[0m\u001b[0mCenter\u001b[0m\u001b[1;33m,\u001b[0m\u001b[0mRadius\u001b[0m\u001b[1;33m,\u001b[0m\u001b[1;36m2\u001b[0m\u001b[1;33m)\u001b[0m\u001b[1;33m\u001b[0m\u001b[0m\n\u001b[1;32m---> 43\u001b[1;33m         \u001b[0mangle\u001b[0m \u001b[1;33m=\u001b[0m \u001b[1;36m180\u001b[0m\u001b[1;33m/\u001b[0m\u001b[0mPI\u001b[0m\u001b[1;33m*\u001b[0m\u001b[0mmath\u001b[0m\u001b[1;33m.\u001b[0m\u001b[0macos\u001b[0m\u001b[1;33m(\u001b[0m\u001b[0mfloat\u001b[0m\u001b[1;33m(\u001b[0m\u001b[0mw\u001b[0m\u001b[1;33m[\u001b[0m\u001b[1;36m0\u001b[0m\u001b[1;33m]\u001b[0m\u001b[1;33m.\u001b[0m\u001b[0mreal\u001b[0m\u001b[1;33m)\u001b[0m\u001b[1;33m*\u001b[0m\u001b[0mdata_R\u001b[0m\u001b[1;33m[\u001b[0m\u001b[0mloop_count\u001b[0m\u001b[1;33m]\u001b[0m\u001b[1;33m+\u001b[0m\u001b[0mfloat\u001b[0m\u001b[1;33m(\u001b[0m\u001b[0mw\u001b[0m\u001b[1;33m[\u001b[0m\u001b[1;36m0\u001b[0m\u001b[1;33m]\u001b[0m\u001b[1;33m.\u001b[0m\u001b[0mimag\u001b[0m\u001b[1;33m)\u001b[0m\u001b[1;33m*\u001b[0m\u001b[0mdata_I\u001b[0m\u001b[1;33m[\u001b[0m\u001b[0mloop_count\u001b[0m\u001b[1;33m]\u001b[0m\u001b[1;33m)\u001b[0m\u001b[1;33m\u001b[0m\u001b[0m\n\u001b[0m\u001b[0;32m     44\u001b[0m         \u001b[0mangle_2\u001b[0m \u001b[1;33m=\u001b[0m \u001b[1;36m180\u001b[0m\u001b[1;33m/\u001b[0m\u001b[0mPI\u001b[0m\u001b[1;33m*\u001b[0m\u001b[0mmath\u001b[0m\u001b[1;33m.\u001b[0m\u001b[0mpi\u001b[0m\u001b[1;33m*\u001b[0m\u001b[0mmath\u001b[0m\u001b[1;33m.\u001b[0m\u001b[0macos\u001b[0m\u001b[1;33m(\u001b[0m\u001b[0mw\u001b[0m\u001b[1;33m[\u001b[0m\u001b[1;36m0\u001b[0m\u001b[1;33m]\u001b[0m\u001b[1;33m.\u001b[0m\u001b[0mreal\u001b[0m\u001b[1;33m*\u001b[0m\u001b[0mdata_R\u001b[0m\u001b[1;33m[\u001b[0m\u001b[0mloop_count\u001b[0m\u001b[1;33m]\u001b[0m\u001b[1;33m-\u001b[0m\u001b[0mw\u001b[0m\u001b[1;33m[\u001b[0m\u001b[1;36m0\u001b[0m\u001b[1;33m]\u001b[0m\u001b[1;33m.\u001b[0m\u001b[0mimag\u001b[0m\u001b[1;33m*\u001b[0m\u001b[0mdata_I\u001b[0m\u001b[1;33m[\u001b[0m\u001b[0mloop_count\u001b[0m\u001b[1;33m]\u001b[0m\u001b[1;33m)\u001b[0m\u001b[1;33m\u001b[0m\u001b[0m\n\u001b[0;32m     45\u001b[0m         \u001b[1;31m# 双方のベクトルの内積から相対角度を求める\u001b[0m\u001b[1;33m\u001b[0m\u001b[1;33m\u001b[0m\u001b[0m\n",
      "\u001b[1;31mIndexError\u001b[0m: list index out of range"
     ]
    }
   ],
   "source": [
    "MyGate2=X@X@T@Y@T\n",
    "MyGate1=X@T\n",
    "MyGate0=X\n",
    "\n",
    "visual_vector(MyGate2,30)"
   ]
  },
  {
   "cell_type": "code",
   "execution_count": null,
   "metadata": {},
   "outputs": [],
   "source": []
  }
 ],
 "metadata": {
  "kernelspec": {
   "display_name": "Python 3",
   "language": "python",
   "name": "python3"
  },
  "language_info": {
   "codemirror_mode": {
    "name": "ipython",
    "version": 3
   },
   "file_extension": ".py",
   "mimetype": "text/x-python",
   "name": "python",
   "nbconvert_exporter": "python",
   "pygments_lexer": "ipython3",
   "version": "3.6.5"
  }
 },
 "nbformat": 4,
 "nbformat_minor": 2
}
