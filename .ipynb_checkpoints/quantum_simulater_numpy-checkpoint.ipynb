{
 "cells": [
  {
   "cell_type": "markdown",
   "metadata": {},
   "source": [
    "# シュミレータ作り\n",
    "目標: 分かりやすいシュミレータをnumpyで作る。"
   ]
  },
  {
   "cell_type": "code",
   "execution_count": 140,
   "metadata": {},
   "outputs": [],
   "source": [
    "import numpy as np\n",
    "import math"
   ]
  },
  {
   "cell_type": "markdown",
   "metadata": {},
   "source": [
    "素晴らしいシュミレータを見つけたのでこれを参考にして作っていこうと思う。  \n",
    "[シュミレータを作りながら量子コンピュータの仕組みを理解する](https://qiita.com/ohtaman/items/e121a2b0b4525b85b54d)"
   ]
  },
  {
   "cell_type": "markdown",
   "metadata": {},
   "source": [
    "# 量子状態クラス\n",
    "量子状態は行列である self.\\_amp で扱う。ただし量子状態的に現在の状況を見れる表示用メソッドも作る。"
   ]
  },
  {
   "cell_type": "code",
   "execution_count": 158,
   "metadata": {},
   "outputs": [],
   "source": [
    "class Qubits(object):\n",
    "    def __init__(self, n_bits):\n",
    "        \"\"\"\n",
    "        量子ビットの初期化\n",
    "        Arguments: n_bits --- 量子ビット数(int)\n",
    "        \"\"\"\n",
    "        self.n_bits    = n_bits                                     # 量子ビット数\n",
    "        self.n_states  = 2**n_bits                                  # 行数\n",
    "        self._amp      = np.zeros((self.n_states, 1))               # 絶対値の二乗をとると確率になる奴。超重要メンバ変数。\n",
    "        self._amp[0,0] = 1                                          # 状態|00...0> の確率を1とする\n",
    "\n",
    "    def set_bits(self, bits):\n",
    "        \"\"\"\n",
    "        量子ビットの設定\n",
    "        Arguments: bits --- 状態を表現するリスト ex).|0010> としたいなら [0,0,1,0]\n",
    "        \"\"\"\n",
    "        idx              = int(''.join(map(str, bits)), base=2)    # bits を文字列にして結合させ、その後十進数になおす\n",
    "        self._amp        = np.zeros((self.n_states, 1))            # 絶対値の二乗をとると確率になる\n",
    "        self._amp[idx,0] = 1.0                                     # idx番目の amp を1とする\n",
    "\n",
    "    def measure(self):\n",
    "        \"\"\"\n",
    "        量子ビットの観測\n",
    "        \"\"\"\n",
    "        self._amp = self._amp.reshape((self.n_states))             # 下処理 self._amp を一次元配列にする\n",
    "        p         = np.abs(self._amp)**2                           # self._amp から観測確率を求める\n",
    "        idx       = np.random.choice(range(len(self._amp)), p=p)   # 適当に idx を決める。pは合計値が1となるlist\n",
    "        self._amp = np.zeros((self.n_states, 1))                   # self._amp を二次元配列に戻して\n",
    "        self._amp[idx,0] = 1                                       # 一つの状態に確定させる\n",
    "       \n",
    "    def measure_part(self, k):\n",
    "        \"\"\"\n",
    "        量子ビットの部分的観測\n",
    "        第kビット目だけを観測し、残りは重ね合わせの状態を保たせる\n",
    "        うまいことベイズの定理が使えるとかっこいいのになぁ\n",
    "        Arguments: k --- 測定したいビットの番号(int)\n",
    "        \"\"\"\n",
    "        pass\n",
    "\n",
    "    def apply(self, *operators):\n",
    "        \"\"\"\n",
    "        量子ビットに演算子を適用\n",
    "        Arguments: operators --- 行列表記の演算子(何個でも可)\n",
    "        \"\"\"\n",
    "        for op in operators:\n",
    "            self._amp = op.dot(self._amp)   # 演算子を左からかけていく\n",
    "    \n",
    "    def __str__(self):\n",
    "        \"\"\"\n",
    "        print時に呼び出される表示用メソッド\n",
    "        Returns: [amp]|0010>\n",
    "        \"\"\"\n",
    "        return \" + \".join(\n",
    "            (\"{}|{:0\" + str(self.n_bits) + \"b}>\").format(amp, i)\n",
    "            for i, amp in enumerate(self._amp) if amp\n",
    "        )"
   ]
  },
  {
   "cell_type": "code",
   "execution_count": 142,
   "metadata": {},
   "outputs": [
    {
     "name": "stdout",
     "output_type": "stream",
     "text": [
      "量子状態 [[0.]\n",
      " [1.]\n",
      " [0.]\n",
      " [0.]]\n",
      "量子状態 [1.]|01>\n",
      "観測結果 [1.]|01>\n",
      "演算結果 [1.]|11>\n"
     ]
    }
   ],
   "source": [
    "# Tests\n",
    "qubits = Qubits(2)                  # 2量子ビットを定義\n",
    "qubits.set_bits([0, 1])             # 初期量子ビット|01>\n",
    "qubits.set_bits(np.array([0, 1]))   # numpy の一次元配列も渡せる\n",
    "\n",
    "print(\"量子状態\", qubits._amp)      # 今の状態を行列表記で返す\n",
    "print(\"量子状態\", qubits)           # 今の状態をブラケット表記で返す\n",
    "\n",
    "qubits.measure()                    # 観測すると\n",
    "print(\"観測結果\", qubits)           # 状態が一つに定まる\n",
    "\n",
    "x=np.array([[0, 0, 1, 0],\n",
    "            [0, 0, 0, 1],\n",
    "            [1, 0, 0, 0],\n",
    "            [0, 1, 0, 0]])\n",
    "\n",
    "qubits.apply(x)                     # 演算しただけでは\n",
    "print(\"演算結果\", qubits)           # 状態は一つに定まらない"
   ]
  },
  {
   "cell_type": "markdown",
   "metadata": {},
   "source": [
    "# 演算関数"
   ]
  },
  {
   "cell_type": "markdown",
   "metadata": {},
   "source": [
    "### テンソル積"
   ]
  },
  {
   "cell_type": "code",
   "execution_count": 143,
   "metadata": {},
   "outputs": [],
   "source": [
    "def tensor(*operater):\n",
    "    result = operater[0]\n",
    "    for i in range(1, len(operater)):\n",
    "        result = np.kron(result, operater[i])\n",
    "    return result"
   ]
  },
  {
   "cell_type": "code",
   "execution_count": 144,
   "metadata": {},
   "outputs": [
    {
     "data": {
      "text/plain": [
       "array([1, 2, 2, 4, 3, 6])"
      ]
     },
     "execution_count": 144,
     "metadata": {},
     "output_type": "execute_result"
    }
   ],
   "source": [
    "arr1 = np.array([1,2,3])\n",
    "arr2 = np.array([1,2])\n",
    "\n",
    "tensor(arr1, arr2)"
   ]
  },
  {
   "cell_type": "markdown",
   "metadata": {},
   "source": [
    "### 単位演算子 I"
   ]
  },
  {
   "cell_type": "code",
   "execution_count": 145,
   "metadata": {},
   "outputs": [],
   "source": [
    "def I(n_bits):\n",
    "    return np.eye(2**n_bits)"
   ]
  },
  {
   "cell_type": "code",
   "execution_count": 146,
   "metadata": {},
   "outputs": [
    {
     "data": {
      "text/plain": [
       "array([[1., 0., 0., 0.],\n",
       "       [0., 1., 0., 0.],\n",
       "       [0., 0., 1., 0.],\n",
       "       [0., 0., 0., 1.]])"
      ]
     },
     "execution_count": 146,
     "metadata": {},
     "output_type": "execute_result"
    }
   ],
   "source": [
    "I(2)"
   ]
  },
  {
   "cell_type": "markdown",
   "metadata": {},
   "source": [
    "### ビット反転演算子 X"
   ]
  },
  {
   "cell_type": "code",
   "execution_count": 147,
   "metadata": {},
   "outputs": [],
   "source": [
    "def X(n_bits, target):\n",
    "    return tensor(I(target), np.array([[0,1],[1,0]]), I(n_bits-target-1))"
   ]
  },
  {
   "cell_type": "code",
   "execution_count": 148,
   "metadata": {},
   "outputs": [
    {
     "data": {
      "text/plain": [
       "array([[0., 0., 1., 0.],\n",
       "       [0., 0., 0., 1.],\n",
       "       [1., 0., 0., 0.],\n",
       "       [0., 1., 0., 0.]])"
      ]
     },
     "execution_count": 148,
     "metadata": {},
     "output_type": "execute_result"
    }
   ],
   "source": [
    "X(2,0) # 第一引数: ビット数  第二引数: 標的ビット"
   ]
  },
  {
   "cell_type": "markdown",
   "metadata": {},
   "source": [
    "### アダマールゲート H"
   ]
  },
  {
   "cell_type": "code",
   "execution_count": 149,
   "metadata": {},
   "outputs": [],
   "source": [
    "def H(n_bits, target):\n",
    "    return tensor(I(target), np.array([[1,1],[1,-1]])/np.sqrt(2), I(n_bits-target-1))"
   ]
  },
  {
   "cell_type": "code",
   "execution_count": 150,
   "metadata": {},
   "outputs": [
    {
     "data": {
      "text/plain": [
       "array([[ 0.70710678,  0.        ,  0.70710678,  0.        ],\n",
       "       [ 0.        ,  0.70710678,  0.        ,  0.70710678],\n",
       "       [ 0.70710678,  0.        , -0.70710678, -0.        ],\n",
       "       [ 0.        ,  0.70710678, -0.        , -0.70710678]])"
      ]
     },
     "execution_count": 150,
     "metadata": {},
     "output_type": "execute_result"
    }
   ],
   "source": [
    "H(2,0)"
   ]
  },
  {
   "cell_type": "markdown",
   "metadata": {},
   "source": [
    "### CNOT演算子"
   ]
  },
  {
   "cell_type": "code",
   "execution_count": 151,
   "metadata": {},
   "outputs": [],
   "source": [
    "def CNOT(n_bits, control, target):\n",
    "    CNOT_zero = np.array([[1,0],[0,0]]) # 制御ビットが0の時 ( |0><0| を表している )\n",
    "    CNOT_one  = np.array([[0,0],[0,1]]) # 制御ビットが1の時 ( |1><1| を表している )\n",
    "    \n",
    "    CNOT_zero = tensor(I(control), CNOT_zero, I(n_bits-control-1))\n",
    "    CNOT_one  = tensor(I(control), CNOT_one,  I(n_bits-control-1)) @ X(n_bits, target)\n",
    "    \n",
    "    return CNOT_zero + CNOT_one"
   ]
  },
  {
   "cell_type": "code",
   "execution_count": 152,
   "metadata": {},
   "outputs": [
    {
     "data": {
      "text/plain": [
       "array([[1., 0., 0., 0.],\n",
       "       [0., 1., 0., 0.],\n",
       "       [0., 0., 0., 1.],\n",
       "       [0., 0., 1., 0.]])"
      ]
     },
     "execution_count": 152,
     "metadata": {},
     "output_type": "execute_result"
    }
   ],
   "source": [
    "CNOT(2,0,1)"
   ]
  },
  {
   "cell_type": "markdown",
   "metadata": {},
   "source": [
    "### Tゲート"
   ]
  },
  {
   "cell_type": "code",
   "execution_count": 153,
   "metadata": {},
   "outputs": [],
   "source": [
    "def T(n_bits, target):\n",
    "    T = np.array([[np.e**(1j*(np.pi/8)), 0], [0, np.e**(1j*(np.pi/8))]])\n",
    "    return tensor(I(target), T, I(n_bits-target-1))"
   ]
  },
  {
   "cell_type": "code",
   "execution_count": 154,
   "metadata": {},
   "outputs": [
    {
     "data": {
      "text/plain": [
       "array([[0.92387953+0.38268343j, 0.        +0.j        ],\n",
       "       [0.        +0.j        , 0.92387953+0.38268343j]])"
      ]
     },
     "execution_count": 154,
     "metadata": {},
     "output_type": "execute_result"
    }
   ],
   "source": [
    "T(1,0)"
   ]
  },
  {
   "cell_type": "markdown",
   "metadata": {},
   "source": [
    "### CUゲート"
   ]
  },
  {
   "cell_type": "code",
   "execution_count": 155,
   "metadata": {},
   "outputs": [],
   "source": [
    "def CU(U):\n",
    "    \"\"\"標的ビットは第一ビットに固定\"\"\"\n",
    "    m      = len(U)               # 行数\n",
    "    n_bits = int(math.log(m,2))   # ビット数\n",
    "    \n",
    "    CU_zero = np.array([[1,0],[0,0]]) # 第一ビットが0の時\n",
    "    CU_one  = np.array([[0,0],[0,1]]) # 第一ビットが1の時\n",
    "    \n",
    "    CU_zero = np.kron(CU_zero, I(n_bits))\n",
    "    CU_one  = np.kron(CU_one, U)\n",
    "    \n",
    "    return CU_zero + CU_one"
   ]
  },
  {
   "cell_type": "code",
   "execution_count": 156,
   "metadata": {},
   "outputs": [
    {
     "data": {
      "text/plain": [
       "array([[1., 0., 0., 0.],\n",
       "       [0., 1., 0., 0.],\n",
       "       [0., 0., 0., 1.],\n",
       "       [0., 0., 1., 0.]])"
      ]
     },
     "execution_count": 156,
     "metadata": {},
     "output_type": "execute_result"
    }
   ],
   "source": [
    "U = np.array([[0,1], [1,0]])\n",
    "CU(U)"
   ]
  },
  {
   "cell_type": "markdown",
   "metadata": {},
   "source": [
    "# 演算テスト"
   ]
  },
  {
   "cell_type": "code",
   "execution_count": 157,
   "metadata": {},
   "outputs": [
    {
     "name": "stdout",
     "output_type": "stream",
     "text": [
      "[[0.5]\n",
      " [0.5]\n",
      " [0.5]\n",
      " [0.5]]\n",
      "[0.5]|00> + [0.5]|01> + [0.5]|10> + [0.5]|11>\n",
      "[1.]|10>\n"
     ]
    }
   ],
   "source": [
    "h1 = H(2,0)\n",
    "h2 = H(2,1)\n",
    "\n",
    "qubits = Qubits(2)  # 2ビット 初期状態 |00>\n",
    "qubits.apply(h1,h2) # 演算を作用\n",
    "\n",
    "print(qubits._amp)  # 行列表記\n",
    "print(qubits)       # ブラケット表記\n",
    "\n",
    "qubits.measure()    # 観測すると\n",
    "print(qubits)       # 一つに定まる"
   ]
  },
  {
   "cell_type": "code",
   "execution_count": null,
   "metadata": {},
   "outputs": [],
   "source": []
  }
 ],
 "metadata": {
  "kernelspec": {
   "display_name": "Python 3",
   "language": "python",
   "name": "python3"
  },
  "language_info": {
   "codemirror_mode": {
    "name": "ipython",
    "version": 3
   },
   "file_extension": ".py",
   "mimetype": "text/x-python",
   "name": "python",
   "nbconvert_exporter": "python",
   "pygments_lexer": "ipython3",
   "version": "3.6.5"
  }
 },
 "nbformat": 4,
 "nbformat_minor": 2
}
