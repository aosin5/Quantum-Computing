{
 "cells": [
  {
   "cell_type": "markdown",
   "metadata": {},
   "source": [
    "# シュミレータ作り\n",
    "目標: 分かりやすいシュミレータをnumpyで作る。"
   ]
  },
  {
   "cell_type": "code",
   "execution_count": 27,
   "metadata": {},
   "outputs": [],
   "source": [
    "import numpy as np\n",
    "import math\n",
    "import scipy.sparse as sp"
   ]
  },
  {
   "cell_type": "markdown",
   "metadata": {},
   "source": [
    "素晴らしいシュミレータを見つけたのでこれを参考にして作っていこうと思う。  \n",
    "[シュミレータを作りながら量子コンピュータの仕組みを理解する](https://qiita.com/ohtaman/items/e121a2b0b4525b85b54d)"
   ]
  },
  {
   "cell_type": "code",
   "execution_count": 58,
   "metadata": {},
   "outputs": [],
   "source": [
    "class Qubits(object):\n",
    "    def __init__(self, n_bits):\n",
    "        \"\"\"\n",
    "        Arguments:\n",
    "            n_bits (int): 量子ビット数\n",
    "        \"\"\"\n",
    "        self.n_bits   = n_bits                                     # 量子ビット数\n",
    "        self.n_states = 2**n_bits                                  # 行数\n",
    "        self._amp     = np.zeros(self.n_states, dtype=np.complex)  # 絶対値の二乗をとると確率になる\n",
    "        self._amp[0]  = 1                                          # 0番目の状態の確率を1とする\n",
    "\n",
    "    def set_bits(self, bits):\n",
    "        \"\"\"\n",
    "        Arguments:\n",
    "            bits (list): 状態を表現するリスト ex).|0010> なら [0, 0, 1, 0]\n",
    "        Returens:\n",
    "            self (Qubits): 自分自身\n",
    "        \"\"\"\n",
    "        # 例えば |0010> なら idx=2番目(0010番目)となる\n",
    "        idx            = sum(bit<<i for i, bit in enumerate(bits[::-1]))   # 1の位置をindexにする ( bit<<i = bit*2**i )\n",
    "        self._amp      = np.zeros(self.n_states, dtype=np.complex)         # 絶対値の二乗をとると確率になる\n",
    "        self._amp[idx] = 1.0                                               # index番目の確率を1とする\n",
    "        return self\n",
    "\n",
    "    def measure(self):\n",
    "        \"\"\"\n",
    "        量子ビットを観測する\n",
    "        後で第kビット目だけを観測するメソッドも作ることにする\n",
    "\n",
    "        Returens:\n",
    "            bits (list): 観測された状態を表すリスト\n",
    "        \"\"\"\n",
    "        p    = np.abs(self._amp)**2                              # self.amp を観測確率にする\n",
    "        idx  = np.random.choice(range(len(self._amp)), p=p)      # 適当にindexを決める。pは合計値が1となるlist\n",
    "        bits = [idx>>i & 1 for i in range(self.n_bits)]         # index番目だけ状態が1となる。その他は0 ( idx>>i = int(idx/2**i) )\n",
    "        return bits[::-1]                                       # 観測された結果を返す\n",
    "\n",
    "    def apply(self, *operators):\n",
    "        \"\"\"\n",
    "        量子ビットに演算子を適用する\n",
    "\n",
    "        Arguments:\n",
    "            operators (list): 演算子のリスト(何個でも可)\n",
    "        Returens:\n",
    "            applied (Qubits): 演算子適用後の量子ビット\n",
    "        \"\"\"\n",
    "        amp = self._amp\n",
    "        for op in operators:\n",
    "            amp = op(amp)                      # 演算子のもつ op.__call__ メソッドでかけ算\n",
    "        applied = self.__class__(self.n_bits)  # 自分のクラスを呼び出している\n",
    "        applied._amp = amp                     # 演算後の状態を記録する\n",
    "        return applied                         # 演算後の量子ビットを返す ( applied.__str__ が呼び出される )\n",
    "\n",
    "    def __str__(self):\n",
    "        \"\"\"\n",
    "        print時に呼び出されるメソッド\n",
    "        \n",
    "        Returns:\n",
    "            (amp)|0010>\n",
    "        \"\"\"\n",
    "        return \" + \".join(\n",
    "            (\"{}|{:0\" + str(self.n_bits) + \"b}>\").format(amp, i)\n",
    "            for i, amp in enumerate(self._amp) if amp\n",
    "        )"
   ]
  },
  {
   "cell_type": "code",
   "execution_count": 33,
   "metadata": {},
   "outputs": [
    {
     "name": "stdout",
     "output_type": "stream",
     "text": [
      "32\n",
      "(1+0j)\n",
      "(1+0j)\n",
      "(1+0j)|00010>\n",
      "[0, 0, 0, 1, 0]\n"
     ]
    }
   ],
   "source": [
    "# Tests\n",
    "qubits = Qubits(5)  # 5量子ビットを定義\n",
    "qubits.set_bits([0, 0, 0, 1, 0])  # 4量子ビット目のみ|1>で、他は|0>\n",
    "\n",
    "print(len(qubits._amp))  \n",
    "print(qubits._amp[int('00010', 2)])\n",
    "print(qubits._amp.sum())\n",
    "print(qubits)\n",
    "\n",
    "# Test Mearure\n",
    "print(qubits.measure())"
   ]
  },
  {
   "cell_type": "markdown",
   "metadata": {},
   "source": [
    "演算のベースクラス"
   ]
  },
  {
   "cell_type": "code",
   "execution_count": 34,
   "metadata": {},
   "outputs": [],
   "source": [
    "import abc\n",
    "\n",
    "class Operator(object):\n",
    "    __metaclass__ = abc.ABCMeta\n",
    "\n",
    "    def __init__(self, n_bits):\n",
    "        self.n_bits = n_bits\n",
    "\n",
    "    @abc.abstractproperty\n",
    "    def matrix(self):\n",
    "        pass\n",
    "\n",
    "    def __call__(self, amp):\n",
    "        return self.matrix.dot(amp)\n",
    "\n",
    "    def __str__(self):\n",
    "        return str(self._matrix.todense())"
   ]
  },
  {
   "cell_type": "markdown",
   "metadata": {},
   "source": [
    "単位行列 Id"
   ]
  },
  {
   "cell_type": "code",
   "execution_count": 35,
   "metadata": {},
   "outputs": [],
   "source": [
    "class Id(Operator):\n",
    "    def __init__(self, n_bits):\n",
    "        super(Id, self).__init__(n_bits)\n",
    "        self._matrix = sp.eye(2**n_bits)\n",
    "\n",
    "    @property\n",
    "    def matrix(self):\n",
    "        return self._matrix"
   ]
  },
  {
   "cell_type": "markdown",
   "metadata": {},
   "source": [
    "ビット反転演算子X"
   ]
  },
  {
   "cell_type": "code",
   "execution_count": 36,
   "metadata": {},
   "outputs": [],
   "source": [
    "class X(Operator):\n",
    "    def __init__(self, n_bits, target):\n",
    "        super(X, self).__init__(n_bits)\n",
    "        self.target = target\n",
    "\n",
    "        self._matrix = sp.dok_matrix((2**n_bits, 2**n_bits))\n",
    "        for upper in range(2**target):  # target より上位ビットをすべてなめる\n",
    "            for lower in range(2**(n_bits - 1 - target)):  # target より下位のビットを全てなめる\n",
    "                idx0 = upper*2**(n_bits - target) + lower  # target = 0 のインデックス\n",
    "                idx1 = idx0 + 2**(n_bits - 1 - target)  # target = 1 のインデックス\n",
    "                self._matrix[idx0, idx1] = 1\n",
    "                self._matrix[idx1, idx0] = 1\n",
    "\n",
    "    @property\n",
    "    def matrix(self):\n",
    "        return self._matrix"
   ]
  },
  {
   "cell_type": "code",
   "execution_count": 37,
   "metadata": {},
   "outputs": [
    {
     "name": "stdout",
     "output_type": "stream",
     "text": [
      "[[0. 1.]\n",
      " [1. 0.]]\n",
      "[[0. 1. 0. 0.]\n",
      " [1. 0. 0. 0.]\n",
      " [0. 0. 0. 1.]\n",
      " [0. 0. 1. 0.]]\n"
     ]
    }
   ],
   "source": [
    "# Test X 第一引数:ビット数　第二引数:標的ビット\n",
    "x=X(1,0)\n",
    "print(x)\n",
    "x2=X(2,1)\n",
    "print(x2)"
   ]
  },
  {
   "cell_type": "markdown",
   "metadata": {},
   "source": [
    "アダマールゲートH"
   ]
  },
  {
   "cell_type": "code",
   "execution_count": 38,
   "metadata": {},
   "outputs": [],
   "source": [
    "class H(Operator):\n",
    "    def __init__(self, n_bits, target):\n",
    "        super(H, self).__init__(n_bits)\n",
    "        self.target = target\n",
    "\n",
    "        self._matrix = sp.dok_matrix((2**n_bits, 2**n_bits))\n",
    "        for upper in range(2**target):\n",
    "            for lower in range(2**(n_bits - 1 - target)):\n",
    "                idx0 = upper*2**(n_bits - target) + lower\n",
    "                idx1 = idx0 + 2**(n_bits - 1 - target)\n",
    "                self._matrix[idx0, idx0] = 1/np.sqrt(2)\n",
    "                self._matrix[idx0, idx1] = 1/np.sqrt(2)\n",
    "                self._matrix[idx1, idx0] = 1/np.sqrt(2)\n",
    "                self._matrix[idx1, idx1] = -1/np.sqrt(2)\n",
    "\n",
    "    @property\n",
    "    def matrix(self):\n",
    "        return self._matrix"
   ]
  },
  {
   "cell_type": "code",
   "execution_count": 39,
   "metadata": {},
   "outputs": [
    {
     "name": "stdout",
     "output_type": "stream",
     "text": [
      "[[ 0.70710678  0.70710678]\n",
      " [ 0.70710678 -0.70710678]]\n"
     ]
    }
   ],
   "source": [
    "# Test H\n",
    "h=H(1,0)\n",
    "print(h)"
   ]
  },
  {
   "cell_type": "markdown",
   "metadata": {},
   "source": [
    "CNOT演算子"
   ]
  },
  {
   "cell_type": "code",
   "execution_count": 40,
   "metadata": {},
   "outputs": [],
   "source": [
    "class CNot(Operator):\n",
    "    def __init__(self, n_bits, control, target):\n",
    "        super(CNot, self).__init__(n_bits)\n",
    "        self.control = control\n",
    "        self.target = target\n",
    "\n",
    "        self._matrix = sp.dok_matrix((2**n_bits, 2**n_bits))\n",
    "        for upper in range(2**target):\n",
    "            for lower in range(2**(n_bits - 1 - target)):\n",
    "                idx0 = upper*2**(n_bits - target) + lower\n",
    "                idx1 = idx0 + 2**(n_bits - 1 - target)\n",
    "                if self._get_control_bit(idx0):\n",
    "                    self._matrix[idx0, idx1] = 1\n",
    "                    self._matrix[idx1, idx0] = 1\n",
    "                else:\n",
    "                    self._matrix[idx0, idx0] = 1\n",
    "                    self._matrix[idx1, idx1] = 1\n",
    "\n",
    "    @property\n",
    "    def matrix(self):\n",
    "        return self._matrix\n",
    "\n",
    "    def _get_control_bit(self, bits):\n",
    "        return 1 & (bits >> (self.n_bits - 1 - self.control))"
   ]
  },
  {
   "cell_type": "code",
   "execution_count": 41,
   "metadata": {},
   "outputs": [
    {
     "name": "stdout",
     "output_type": "stream",
     "text": [
      "[[1. 0. 0. 0.]\n",
      " [0. 1. 0. 0.]\n",
      " [0. 0. 0. 1.]\n",
      " [0. 0. 1. 0.]]\n"
     ]
    }
   ],
   "source": [
    "# Test CNOT(ビット数,制御,標的)　\n",
    "cnot=CNot(2,0,1)\n",
    "print(cnot)"
   ]
  },
  {
   "cell_type": "code",
   "execution_count": 59,
   "metadata": {},
   "outputs": [
    {
     "name": "stdout",
     "output_type": "stream",
     "text": [
      "[[0. 0. 1. 0.]\n",
      " [0. 0. 0. 1.]\n",
      " [1. 0. 0. 0.]\n",
      " [0. 1. 0. 0.]]\n",
      "[[ 0.70710678  0.          0.70710678  0.        ]\n",
      " [ 0.          0.70710678  0.          0.70710678]\n",
      " [ 0.70710678  0.         -0.70710678  0.        ]\n",
      " [ 0.          0.70710678  0.         -0.70710678]]\n",
      "(0.7071067811865475+0j)|00> + (0.7071067811865475+0j)|10>\n"
     ]
    }
   ],
   "source": [
    "qubits = Qubits(2)\n",
    "qubits.set_bits([1, 0])\n",
    "\n",
    "# Test X 第一引数:ビット数　第二引数:標的ビット\n",
    "x=X(2,0)\n",
    "h=H(2,0)\n",
    "print(x)\n",
    "print(h)\n",
    "print(qubits.apply(x,h))"
   ]
  },
  {
   "cell_type": "code",
   "execution_count": null,
   "metadata": {},
   "outputs": [],
   "source": []
  }
 ],
 "metadata": {
  "kernelspec": {
   "display_name": "Python 3",
   "language": "python",
   "name": "python3"
  },
  "language_info": {
   "codemirror_mode": {
    "name": "ipython",
    "version": 3
   },
   "file_extension": ".py",
   "mimetype": "text/x-python",
   "name": "python",
   "nbconvert_exporter": "python",
   "pygments_lexer": "ipython3",
   "version": "3.6.5"
  }
 },
 "nbformat": 4,
 "nbformat_minor": 2
}
