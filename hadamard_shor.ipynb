{
 "cells": [
  {
   "cell_type": "markdown",
   "metadata": {},
   "source": [
    "# アダマールテストでの位数推定"
   ]
  },
  {
   "cell_type": "markdown",
   "metadata": {},
   "source": [
    "本来ショアのアルゴリズムでは位相推定アルゴリズムを用いて固有値を高い精度で求め、それを用いて位数測定している。しかし今回は位相推定アルゴリズムを使う代わりにアダマールテストで固有値を推定しても位数推定ができると考え、実際に行列を用いたシュミレーターを作り実験して見ようと考えた。"
   ]
  },
  {
   "cell_type": "code",
   "execution_count": 3,
   "metadata": {},
   "outputs": [],
   "source": [
    "import numpy as np\n",
    "import math"
   ]
  },
  {
   "cell_type": "code",
   "execution_count": 4,
   "metadata": {},
   "outputs": [],
   "source": [
    "def get_CU_gate(U):\n",
    "    m,m=U.shape\n",
    "    n=int(math.log(m,2))\n",
    "    \n",
    "    I=np.array([[1,0],[0,1]])\n",
    "    CU_zero=np.array([[1,0],[0,0]])\n",
    "    CU_one=np.array([[0,0],[0,1]])\n",
    "    \n",
    "    for i in range(n):\n",
    "            CU_zero=np.kron(CU_zero,I)\n",
    "    \n",
    "    CU_one=np.kron(CU_one,U)\n",
    "    \n",
    "    return CU_zero+CU_one"
   ]
  },
  {
   "cell_type": "code",
   "execution_count": 5,
   "metadata": {},
   "outputs": [],
   "source": [
    "def get_H_gate(U):\n",
    "    m,m=U.shape\n",
    "    n=int(math.log(m,2))\n",
    "    \n",
    "    H=np.array([[1,1],[1,-1]])/math.sqrt(2)\n",
    "    I=np.array([[1,0],[0,1]])\n",
    "    \n",
    "    H_gate=H\n",
    "    \n",
    "    for i in range(n):\n",
    "        H_gate=np.kron(H_gate,I)\n",
    "    \n",
    "    return H_gate"
   ]
  },
  {
   "cell_type": "code",
   "execution_count": 6,
   "metadata": {},
   "outputs": [],
   "source": [
    "def hadamard_test(U,phi):\n",
    "    \n",
    "    # 初期状態を定める\n",
    "    zero_bit=np.array([[1],[0]])\n",
    "    state=np.kron(zero_bit,phi)\n",
    "    \n",
    "    # stateにH_gateを作用させる\n",
    "    state=np.dot(get_H_gate(U),state)\n",
    "    \n",
    "    # stateにCU_gateを作用させる\n",
    "    state=np.dot(get_CU_gate(U),state)\n",
    "    \n",
    "    # stateにH_gateを作用させる\n",
    "    state=np.dot(get_H_gate(U),state)\n",
    "    \n",
    "    return state"
   ]
  },
  {
   "cell_type": "code",
   "execution_count": 7,
   "metadata": {},
   "outputs": [],
   "source": [
    "def get_lambda(U,loop):\n",
    "    m,m=U.shape\n",
    "    n=int(math.log(m,2))\n",
    "    \n",
    "    state=np.zeros((2**n,1))\n",
    "    state[1]=1 # 初期ビットは|1>で固定する\n",
    "    \n",
    "    for i in range(loop):\n",
    "        end_state=hadamard_test(U,state)\n",
    "        # アダマールテストで帰ってきたend_stateから１ビット目の情報を抜き取って、次のhadamard_testに使う(できれば再帰関数でかきたい)\n",
    "        end_state0, end_state1=np.split(end_state,[2**n],axis=0) # end_stateを上下に分ける\n",
    "        PZero=sum([abs(end_state[i,0]**2) for i in range(2**(n-1))]) # １ビット目で0が観測される確率\n",
    "        if PZero==0:\n",
    "            state=end_state1\n",
    "        else:\n",
    "            state=end_state0/((PZero)**(1/2))\n",
    "            \n",
    "    cosL=2*PZero-1\n",
    "    cosL=min(cosL,1) # 1超えたときの保険\n",
    "\n",
    "    return math.acos(cosL) # 返すのは固有値ではなくlambdaの値"
   ]
  },
  {
   "cell_type": "code",
   "execution_count": 8,
   "metadata": {},
   "outputs": [],
   "source": [
    "def get_answer(U):\n",
    "    w,v=np.linalg.eig(U)\n",
    "    \n",
    "    for i in range(len(w)):\n",
    "        print('value:',w[i],' vector:',v[:,i]) "
   ]
  },
  {
   "cell_type": "markdown",
   "metadata": {},
   "source": [
    "## やりたいことの確認\n",
    "1. 因数分解したい数Nに対して、Nと互いに素でありNより小さい自然数xを定める。  \n",
    "2. そのNとxを使って、ユニタリ行列$U_{x}=\\sum_{y=0}^{2^{n}-1} |xy (mod N)><y|$ を行列表現する。($2^{n-1}-1<N-1<=2^{n}-1$)  \n",
    "3. その$U_{x}$の固有値$e^{i\\lambda}$、というより$\\lambda$をアダマールループで推定する。  \n",
    "4. $s/t=\\lambda/2\\pi$に対して連分数展開を行い$t$を求める。"
   ]
  },
  {
   "cell_type": "markdown",
   "metadata": {},
   "source": [
    "Nに対する適当なxと位数rを求める関数  \n",
    "条件を満たす組み合わせが見つかると一度関数を中断して値を返すyieldが使われている  \n",
    "for-elseのelseの処理はfor文終了時に処理されるが、breakで終わったときは実行しない"
   ]
  },
  {
   "cell_type": "code",
   "execution_count": null,
   "metadata": {},
   "outputs": [],
   "source": []
  },
  {
   "cell_type": "markdown",
   "metadata": {},
   "source": [
    "$U_{x}$を行列表現する関数"
   ]
  },
  {
   "cell_type": "code",
   "execution_count": 9,
   "metadata": {},
   "outputs": [],
   "source": [
    "def get_Ux(N,x):\n",
    "    # Nに対するnを求める\n",
    "    i=0\n",
    "    while(True):\n",
    "        if N<=2**i:\n",
    "            n=i\n",
    "            break\n",
    "        else:\n",
    "            i+=1\n",
    "    \n",
    "    Ux=np.zeros((2**n,2**n))\n",
    "    \n",
    "    for y in range(2**n):\n",
    "        ket=np.zeros((2**n,1))\n",
    "        ket[(x*y)%N,0]=1\n",
    "        bra=np.zeros((1,2**n))\n",
    "        bra[0,y]=1\n",
    "        Ux=Ux+np.kron(ket,bra)\n",
    "    \n",
    "    return Ux"
   ]
  },
  {
   "cell_type": "code",
   "execution_count": 10,
   "metadata": {},
   "outputs": [
    {
     "data": {
      "text/plain": [
       "array([[1., 0., 0., 0.],\n",
       "       [0., 0., 0., 1.],\n",
       "       [0., 0., 1., 0.],\n",
       "       [0., 1., 0., 0.]])"
      ]
     },
     "execution_count": 10,
     "metadata": {},
     "output_type": "execute_result"
    }
   ],
   "source": [
    "get_Ux(4,3)"
   ]
  },
  {
   "cell_type": "markdown",
   "metadata": {},
   "source": [
    "アダマールループで$\\lambda$を推定する"
   ]
  },
  {
   "cell_type": "code",
   "execution_count": 11,
   "metadata": {},
   "outputs": [
    {
     "data": {
      "text/plain": [
       "2.9802322387695312e-08"
      ]
     },
     "execution_count": 11,
     "metadata": {},
     "output_type": "execute_result"
    }
   ],
   "source": [
    "Ux=get_Ux(12,5)\n",
    "get_lambda(Ux,50) # Uxをアダマールテストを50回ループ"
   ]
  },
  {
   "cell_type": "markdown",
   "metadata": {},
   "source": [
    "あ、これあらゆるUxに対して固有値1に対する$\\lambda$しか求まってねぇ。いやこの行列が絶対に1を固有値に持つのか。どうやったって同じ位数が求まるじゃねえか、そんなんありかよ。やっぱアダマールループじゃ限界があるのか?いや初期ビット変えればいけるかも。無理でした。なんで0にいくねん。もっと固有的なもんに収束せんかい。もう限界が見えてきたけれどもせめて連分数だけでもやっとこう。"
   ]
  },
  {
   "cell_type": "markdown",
   "metadata": {},
   "source": [
    "$\\lambda$から連分数を求め、近似分数を求め、$t$を求める"
   ]
  },
  {
   "cell_type": "code",
   "execution_count": null,
   "metadata": {},
   "outputs": [],
   "source": []
  },
  {
   "cell_type": "markdown",
   "metadata": {},
   "source": [
    "有理数近似を取得するメソッドがあるみたい。一回使ってみよう。"
   ]
  },
  {
   "cell_type": "code",
   "execution_count": 12,
   "metadata": {},
   "outputs": [
    {
     "name": "stdout",
     "output_type": "stream",
     "text": [
      "3537118876014453/1125899906842624\n",
      "22/7\n",
      "311/99\n",
      "355/113\n"
     ]
    }
   ],
   "source": [
    "from fractions import Fraction\n",
    "\n",
    "pi = Fraction(3.14159265359)\n",
    "print(pi)\n",
    "\n",
    "print(pi.limit_denominator(10))\n",
    "print(pi.limit_denominator(100))\n",
    "print(pi.limit_denominator(1000))"
   ]
  },
  {
   "cell_type": "markdown",
   "metadata": {},
   "source": [
    "いいねぇいいねぇ。時間も無いし使わせてもらいましょう。"
   ]
  },
  {
   "cell_type": "code",
   "execution_count": 19,
   "metadata": {},
   "outputs": [
    {
     "name": "stdout",
     "output_type": "stream",
     "text": [
      "4.681337853654911e-08\n",
      "884279719003555/18889465931478580854784\n",
      "0\n",
      "1/21361415\n"
     ]
    }
   ],
   "source": [
    "Ux=get_Ux(12,5)\n",
    "L=get_lambda(Ux,10)\n",
    "\n",
    "print(L/2*math.pi)\n",
    "\n",
    "st=Fraction(L/2*math.pi)\n",
    "print(st)\n",
    "print(st.limit_denominator(7550000))\n",
    "print(st.limit_denominator(76000000))"
   ]
  },
  {
   "cell_type": "markdown",
   "metadata": {},
   "source": [
    "やっぱアダマールループじゃだめか..."
   ]
  },
  {
   "cell_type": "code",
   "execution_count": null,
   "metadata": {},
   "outputs": [],
   "source": [
    "get_answer(Ux)"
   ]
  },
  {
   "cell_type": "markdown",
   "metadata": {},
   "source": [
    "でもこいつ0かプラマイ1にしかならんな。もしかして行列作り間違えたかなぁ。  \n",
    "でも固有値-1の時はL=piか。pi/(2\\*pi)=1/2で位数は2か。$5^{2}=1(mod 12)$だ。あってんじゃん。  \n",
    "やっぱアダマールループでは思い通りの固有値にいかないからだめなのか。 \n",
    "裏返せば位相推定アルゴリズムならちょうど良い固有値のLを取得できる?  \n",
    "しょうが無いけど、アダマールループは一端中断。"
   ]
  },
  {
   "cell_type": "markdown",
   "metadata": {},
   "source": [
    "もしかしたら固有状態に|1>を入れることで何か変わるかも。  \n",
    "変わらないならそれはおそらくこの方法では無理"
   ]
  },
  {
   "cell_type": "markdown",
   "metadata": {},
   "source": [
    "やっぱ無理した"
   ]
  },
  {
   "cell_type": "code",
   "execution_count": null,
   "metadata": {},
   "outputs": [],
   "source": []
  }
 ],
 "metadata": {
  "kernelspec": {
   "display_name": "Python 3",
   "language": "python",
   "name": "python3"
  },
  "language_info": {
   "codemirror_mode": {
    "name": "ipython",
    "version": 3
   },
   "file_extension": ".py",
   "mimetype": "text/x-python",
   "name": "python",
   "nbconvert_exporter": "python",
   "pygments_lexer": "ipython3",
   "version": "3.6.5"
  }
 },
 "nbformat": 4,
 "nbformat_minor": 2
}
