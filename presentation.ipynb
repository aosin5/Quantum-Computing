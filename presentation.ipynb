{
 "cells": [
  {
   "cell_type": "markdown",
   "metadata": {
    "slideshow": {
     "slide_type": "slide"
    }
   },
   "source": [
    "# チームB\n",
    "## テーマ: ショアのアルゴリズム\n",
    "## 目標: ショアのアルゴリズムをpython使って実装しよう"
   ]
  },
  {
   "cell_type": "markdown",
   "metadata": {
    "slideshow": {
     "slide_type": "slide"
    }
   },
   "source": [
    "# アウトライン\n",
    "- ショアのアルゴリズム説明\n",
    "- アダマールテスト\n",
    "- 位相推定\n",
    "- ショアのアルゴリズム"
   ]
  },
  {
   "cell_type": "markdown",
   "metadata": {
    "slideshow": {
     "slide_type": "slide"
    }
   },
   "source": [
    "## ショアのアルゴリズムとは\n",
    "量子コンピュータを使って高速で因数分解できるアルゴリズムのこと。  "
   ]
  },
  {
   "cell_type": "markdown",
   "metadata": {
    "slideshow": {
     "slide_type": "subslide"
    }
   },
   "source": [
    "## 具体的には?\n",
    "\n",
    "- 因数分解したい数を$N$とする。  \n",
    "- まず$N$と互いに素で$N$より小さい整数$x$を適当に決める。  \n",
    "- $x^{r}=1 (mod N)$を満たす位数$r$を求める。  \n",
    "ただしこの$r$は偶数でなければならない  \n",
    "- $x^{r}-1=0 \\ (mod\\  N)$つまり$(x^{r/2}-1)(x^{r/2}+1)=0 \\ (mod\\ N)$となるから$x^{r/2}-1$か$x^{r/2}+1$のどっちかが$N$と因数をもってる。 "
   ]
  },
  {
   "cell_type": "markdown",
   "metadata": {
    "slideshow": {
     "slide_type": "slide"
    }
   },
   "source": [
    "『$x^{r}=1 (mod N)$を満たす位数$r$を求める』"
   ]
  },
  {
   "cell_type": "markdown",
   "metadata": {
    "slideshow": {
     "slide_type": "fragment"
    }
   },
   "source": [
    "これが古典コンピュータでは$N$に対し指数的な時間がかかる。"
   ]
  },
  {
   "cell_type": "markdown",
   "metadata": {
    "slideshow": {
     "slide_type": "fragment"
    }
   },
   "source": [
    "しかし量子コンピュータを使えば多項式時間で解けるため、圧倒的に速くなる。"
   ]
  },
  {
   "cell_type": "markdown",
   "metadata": {
    "slideshow": {
     "slide_type": "slide"
    }
   },
   "source": [
    "# 今回の目標 --- ショアのアルゴリズムの実装\n",
    "pythonのnumpyを使って行列的に量子回路を扱う。  \n",
    "例えばnビットの量子状態を扱うなら、量子状態を表す$2^{n}$行1列の行列に、$2^{n}$行$2^{n}$列の演算を表す行列を左から作用させていく。  \n",
    "終状態の測定は各成分の絶対値の二乗でその状態が得られるという形で表現できる。"
   ]
  },
  {
   "cell_type": "markdown",
   "metadata": {
    "slideshow": {
     "slide_type": "slide"
    }
   },
   "source": [
    "### ショアのアルゴリズムを実装するには"
   ]
  },
  {
   "cell_type": "markdown",
   "metadata": {
    "slideshow": {
     "slide_type": "fragment"
    }
   },
   "source": [
    "位数推定アルゴリズムが必要。『$x^{r}=1 (mod N)$を満たす位数$r$を求める』"
   ]
  },
  {
   "cell_type": "markdown",
   "metadata": {
    "slideshow": {
     "slide_type": "fragment"
    }
   },
   "source": [
    "位相推定アルゴリズムが必要。『ユニタリ行列$U$の固有値$e^{i2\\pi\\phi}$の位相$\\phi$を求める』"
   ]
  },
  {
   "cell_type": "markdown",
   "metadata": {
    "slideshow": {
     "slide_type": "fragment"
    }
   },
   "source": [
    "量子フーリエ変換とかアダマールテストの知識が必要。"
   ]
  },
  {
   "cell_type": "markdown",
   "metadata": {
    "slideshow": {
     "slide_type": "fragment"
    }
   },
   "source": [
    "今回はまずアダマールテストの説明をして、位相推定、位数推定は軽く紹介。そしてショアのアルゴリズムの実装を示して終わりにする。"
   ]
  },
  {
   "cell_type": "markdown",
   "metadata": {
    "slideshow": {
     "slide_type": "slide"
    }
   },
   "source": [
    "# アダマールテストとは\n",
    "あるユニタリ行列$U$に対して、その固有値$e^{i\\lambda}$と固有ベクトル$|\\psi>$を一組推定する。  "
   ]
  },
  {
   "cell_type": "markdown",
   "metadata": {
    "slideshow": {
     "slide_type": "subslide"
    }
   },
   "source": [
    "固有値、固有ベクトルとは行列$U$に対して、次の式を満たす$e^{i\\lambda}$と$|\\psi>$のことである。  \n",
    "                        $U|\\psi>$=$e^{i\\lambda}|\\psi>$    \n",
    "                        \n",
    "(具体例)\n",
    " \n",
    "$U=\\begin{pmatrix}\n",
    "1 & 0 \\\\\n",
    "0 & 1 \\\\\n",
    "\\end{pmatrix}$\n",
    "に対して、\n",
    "$\\psi=\\begin{pmatrix}\n",
    "1 \\\\\n",
    "0 \\\\\n",
    "\\end{pmatrix}$\n",
    ", $e^{i\\lambda}=1$とする。  \n",
    "  \n",
    "  \n",
    "このとき\n",
    "$\\begin{pmatrix}\n",
    "1 & 0 \\\\\n",
    "0 & 1 \\\\\n",
    "\\end{pmatrix}\n",
    "\\begin{pmatrix}\n",
    "1 \\\\\n",
    "0 \\\\\n",
    "\\end{pmatrix}=\n",
    "1\n",
    "\\begin{pmatrix}\n",
    "1 \\\\\n",
    "0 \\\\\n",
    "\\end{pmatrix}$"
   ]
  },
  {
   "cell_type": "markdown",
   "metadata": {
    "slideshow": {
     "slide_type": "slide"
    }
   },
   "source": [
    "量子回路にするとこんなの\n",
    "<img src=\"picture/admaleTest.png\">"
   ]
  },
  {
   "cell_type": "markdown",
   "metadata": {
    "slideshow": {
     "slide_type": "subslide"
    }
   },
   "source": [
    "第1ビットで0を観測する確率を$P_{0}$とする。  \n",
    "このとき固有値$e^{i\\lambda}$に対する$\\lambda$について以下の式が成り立つ。  \n",
    "$cos\\lambda=2P_{0}-1$  \n",
    "この式から固有値が求められる。"
   ]
  },
  {
   "cell_type": "markdown",
   "metadata": {
    "slideshow": {
     "slide_type": "slide"
    }
   },
   "source": [
    "### 早速アダマールテストの実装の様子を見てみよう"
   ]
  },
  {
   "cell_type": "markdown",
   "metadata": {
    "slideshow": {
     "slide_type": "fragment"
    }
   },
   "source": [
    "行列演算の処理にはnumpyを用いる。"
   ]
  },
  {
   "cell_type": "code",
   "execution_count": 1,
   "metadata": {
    "slideshow": {
     "slide_type": "fragment"
    }
   },
   "outputs": [],
   "source": [
    "import numpy as np\n",
    "import math"
   ]
  },
  {
   "cell_type": "markdown",
   "metadata": {
    "slideshow": {
     "slide_type": "slide"
    }
   },
   "source": [
    "### 制御Uゲートの作成\n",
    "任意のユニタリ行列UについてCU_gateを作成する。第一ビットが0の時は他ビットは変化しない(単位行列Iが作用する)。第一ビットが1の時は他ビットにUを作用させる。量子ビットに作用させられるUは$2^{n}*2^{n}$行列のみ。"
   ]
  },
  {
   "cell_type": "code",
   "execution_count": 2,
   "metadata": {
    "slideshow": {
     "slide_type": "subslide"
    }
   },
   "outputs": [],
   "source": [
    "def get_CU_gate(U):\n",
    "    m,m=U.shape\n",
    "    n=int(math.log(m,2))\n",
    "    \n",
    "    I=np.array([[1,0],[0,1]])\n",
    "    CU_zero=np.array([[1,0],[0,0]]) # |0><0| 1ビット目は|0>なら|0>を|1>なら|1>を返す\n",
    "    CU_one=np.array([[0,0],[0,1]]) # |1><1|\n",
    "    \n",
    "    for i in range(n):\n",
    "            CU_zero=np.kron(CU_zero,I) # 1ビット目が|0>ならそれ以降のnビットにはIを作用させる\n",
    "    \n",
    "    CU_one=np.kron(CU_one,U) # 1ビット目が|1>ならそれ以降のnビットにはUを作用させる\n",
    "    \n",
    "    return CU_zero+CU_one"
   ]
  },
  {
   "cell_type": "code",
   "execution_count": 3,
   "metadata": {
    "slideshow": {
     "slide_type": "fragment"
    }
   },
   "outputs": [
    {
     "data": {
      "text/plain": [
       "array([[1, 0, 0, 0],\n",
       "       [0, 1, 0, 0],\n",
       "       [0, 0, 0, 1],\n",
       "       [0, 0, 1, 0]])"
      ]
     },
     "execution_count": 3,
     "metadata": {},
     "output_type": "execute_result"
    }
   ],
   "source": [
    "X=np.array([[0,1],\n",
    "            [1,0]])\n",
    "get_CU_gate(X)"
   ]
  },
  {
   "cell_type": "markdown",
   "metadata": {
    "slideshow": {
     "slide_type": "slide"
    }
   },
   "source": [
    "### アダマールゲートの作成\n",
    "第一ビットにのみアダマールゲートHを作用させ、その他のビットには変化を加えない(単位行列Iを作用させる)ような行列を作成する。"
   ]
  },
  {
   "cell_type": "code",
   "execution_count": 4,
   "metadata": {
    "slideshow": {
     "slide_type": "subslide"
    }
   },
   "outputs": [],
   "source": [
    "def get_H_gate(U):\n",
    "    m,m=U.shape\n",
    "    n=int(math.log(m,2))\n",
    "    \n",
    "    H=np.array([[1,1],[1,-1]])/math.sqrt(2)\n",
    "    I=np.array([[1,0],[0,1]])\n",
    "    \n",
    "    H_gate=H\n",
    "    \n",
    "    for i in range(n):\n",
    "        H_gate=np.kron(H_gate,I)\n",
    "    \n",
    "    return H_gate"
   ]
  },
  {
   "cell_type": "code",
   "execution_count": 5,
   "metadata": {
    "slideshow": {
     "slide_type": "fragment"
    }
   },
   "outputs": [
    {
     "data": {
      "text/plain": [
       "array([[ 0.70710678,  0.        ,  0.70710678,  0.        ],\n",
       "       [ 0.        ,  0.70710678,  0.        ,  0.70710678],\n",
       "       [ 0.70710678,  0.        , -0.70710678, -0.        ],\n",
       "       [ 0.        ,  0.70710678, -0.        , -0.70710678]])"
      ]
     },
     "execution_count": 5,
     "metadata": {},
     "output_type": "execute_result"
    }
   ],
   "source": [
    "X=np.array([[0,1],[1,0]])\n",
    "get_H_gate(X)"
   ]
  },
  {
   "cell_type": "markdown",
   "metadata": {
    "slideshow": {
     "slide_type": "slide"
    }
   },
   "source": [
    "### $2^{n}*2^{n}$のユニタリ行列Uと$2^{n}$行$1$列(nビット)の$\\phi$を引数としてアダマールテストを行う  \n",
    "初期状態に、しかるべき演算子を行列の形で左からかけていく。"
   ]
  },
  {
   "cell_type": "code",
   "execution_count": 6,
   "metadata": {
    "slideshow": {
     "slide_type": "subslide"
    }
   },
   "outputs": [],
   "source": [
    "def hadamard_test(U,phi):\n",
    "    \n",
    "    # 初期状態を定める\n",
    "    zero_bit=np.array([[1],[0]])\n",
    "    state=np.kron(zero_bit,phi) # 第1ビットは|0>に固定でよい\n",
    "    \n",
    "    # stateにH_gateを作用させる\n",
    "    state=np.dot(get_H_gate(U),state)\n",
    "    \n",
    "    # stateにCU_gateを作用させる\n",
    "    state=np.dot(get_CU_gate(U),state)\n",
    "    \n",
    "    # stateにH_gateを作用させる\n",
    "    state=np.dot(get_H_gate(U),state)\n",
    "    \n",
    "    return state # 返すのは終状態"
   ]
  },
  {
   "cell_type": "markdown",
   "metadata": {
    "slideshow": {
     "slide_type": "slide"
    }
   },
   "source": [
    "### アダマールテストの結果を用いて固有値を求める。  \n",
    "まず終状態の1ビット目で0が測定される確率を求める。  \n",
    "次にそれを用いて固有値$e^{i\\lambda}$に対する$\\cos{\\lambda}$を求める。  \n",
    "後はそれを$e^{i\\lambda}=\\cos{\\lambda}+i\\sin{\\lambda}$に代入してやればいい。"
   ]
  },
  {
   "cell_type": "code",
   "execution_count": 7,
   "metadata": {
    "slideshow": {
     "slide_type": "subslide"
    }
   },
   "outputs": [],
   "source": [
    "def get_IV_1(state):\n",
    "    m,k=state.shape\n",
    "    n=int(math.log(m,2))\n",
    "    \n",
    "    PZero=sum([abs(state[i,0])**2 for i in range(2**(n-1))])\n",
    "    \n",
    "    cosL=2*PZero-1\n",
    "    \n",
    "    # 虚部が正の方を返す\n",
    "    return cosL+math.sqrt(1-cosL**2)*1j"
   ]
  },
  {
   "cell_type": "code",
   "execution_count": 8,
   "metadata": {
    "slideshow": {
     "slide_type": "fragment"
    }
   },
   "outputs": [],
   "source": [
    "def get_IV_2(state):\n",
    "    m,k=state.shape\n",
    "    n=int(math.log(m,2))\n",
    "    \n",
    "    PZero=sum([abs(state[i,0])**2 for i in range(2**(n-1))])\n",
    "    \n",
    "    cosL=2*PZero-1\n",
    "    \n",
    "    # 虚部が負の方を返す\n",
    "    return cosL-math.sqrt(1-cosL**2)*1j"
   ]
  },
  {
   "cell_type": "markdown",
   "metadata": {
    "slideshow": {
     "slide_type": "subslide"
    }
   },
   "source": [
    "実際に行列Xとその固有ベクトルを引数として固有値を求めてみる。"
   ]
  },
  {
   "cell_type": "code",
   "execution_count": 9,
   "metadata": {
    "slideshow": {
     "slide_type": "fragment"
    }
   },
   "outputs": [
    {
     "name": "stdout",
     "output_type": "stream",
     "text": [
      "(0.9999999999999991+4.2146848510894035e-08j) (0.9999999999999991-4.2146848510894035e-08j)\n",
      "(-1+0j) (-1+0j)\n"
     ]
    }
   ],
   "source": [
    "X=np.array([[0,1],[1,0]])\n",
    "\n",
    "phi1=np.array([[1],[1]])/math.sqrt(2) # Xの固有ベクトルその1\n",
    "phi2=np.array([[1],[-1]])/math.sqrt(2) # Xの固有ベクトルその2\n",
    "\n",
    "state1=hadamard_test(X,phi1)\n",
    "state2=hadamard_test(X,phi2)\n",
    "\n",
    "print(get_IV_1(state1),get_IV_2(state1))\n",
    "print(get_IV_1(state2),get_IV_2(state2))"
   ]
  },
  {
   "cell_type": "markdown",
   "metadata": {
    "slideshow": {
     "slide_type": "slide"
    }
   },
   "source": [
    "Xの固有値と固有ベクトルを既存のメソッドで計算してみると以下のようになる。"
   ]
  },
  {
   "cell_type": "code",
   "execution_count": 10,
   "metadata": {
    "slideshow": {
     "slide_type": "fragment"
    }
   },
   "outputs": [],
   "source": [
    "def get_answer(U):\n",
    "    w,v=np.linalg.eig(U)\n",
    "    \n",
    "    for i in range(len(w)):\n",
    "        print('value:',w[i],' vector:',v[:,i])"
   ]
  },
  {
   "cell_type": "code",
   "execution_count": 11,
   "metadata": {
    "slideshow": {
     "slide_type": "fragment"
    }
   },
   "outputs": [
    {
     "name": "stdout",
     "output_type": "stream",
     "text": [
      "value: 1.0  vector: [0.70710678 0.70710678]\n",
      "value: -1.0  vector: [-0.70710678  0.70710678]\n"
     ]
    }
   ],
   "source": [
    "X=np.array([[0,1],[1,0]])\n",
    "get_answer(X)"
   ]
  },
  {
   "cell_type": "markdown",
   "metadata": {
    "slideshow": {
     "slide_type": "fragment"
    }
   },
   "source": [
    "これよりアダマールテストで求めた固有値はほぼ正しいことが分かる。"
   ]
  },
  {
   "cell_type": "markdown",
   "metadata": {
    "slideshow": {
     "slide_type": "slide"
    }
   },
   "source": [
    "### 次に初期状態を０ビットに固定してアダマールテストを行う"
   ]
  },
  {
   "cell_type": "code",
   "execution_count": 12,
   "metadata": {
    "slideshow": {
     "slide_type": "subslide"
    }
   },
   "outputs": [
    {
     "name": "stdout",
     "output_type": "stream",
     "text": [
      "value: 1.0  vector: [0.70710678 0.70710678]\n",
      "value: -1.0  vector: [-0.70710678  0.70710678]\n"
     ]
    }
   ],
   "source": [
    "X=np.array([[0,1],[1,0]])\n",
    "get_answer(X) # 先に固有値と固有ベクトルを出しておく"
   ]
  },
  {
   "cell_type": "code",
   "execution_count": 13,
   "metadata": {
    "slideshow": {
     "slide_type": "fragment"
    }
   },
   "outputs": [
    {
     "data": {
      "text/plain": [
       "((-4.440892098500626e-16+1j), (-4.440892098500626e-16-1j))"
      ]
     },
     "execution_count": 13,
     "metadata": {},
     "output_type": "execute_result"
    }
   ],
   "source": [
    "state=hadamard_test(X,[[1],[0]])\n",
    "get_IV_1(state),get_IV_2(state)"
   ]
  },
  {
   "cell_type": "markdown",
   "metadata": {
    "slideshow": {
     "slide_type": "fragment"
    }
   },
   "source": [
    "どっちの固有値とも一致しない   \n",
    "別のユニタリ行列でも試してみる"
   ]
  },
  {
   "cell_type": "code",
   "execution_count": 14,
   "metadata": {
    "slideshow": {
     "slide_type": "subslide"
    }
   },
   "outputs": [
    {
     "name": "stdout",
     "output_type": "stream",
     "text": [
      "value: 1.0  vector: [1. 0.]\n",
      "value: -1.0  vector: [0. 1.]\n"
     ]
    }
   ],
   "source": [
    "Z=np.array([[1,0],[0,-1]])\n",
    "get_answer(Z) # 先に固有値と固有ベクトルを出しておく"
   ]
  },
  {
   "cell_type": "code",
   "execution_count": 15,
   "metadata": {
    "slideshow": {
     "slide_type": "fragment"
    }
   },
   "outputs": [
    {
     "data": {
      "text/plain": [
       "((0.9999999999999991+4.2146848510894035e-08j),\n",
       " (0.9999999999999991-4.2146848510894035e-08j))"
      ]
     },
     "execution_count": 15,
     "metadata": {},
     "output_type": "execute_result"
    }
   ],
   "source": [
    "state=hadamard_test(Z,[[1],[0]])\n",
    "get_IV_1(state),get_IV_2(state)"
   ]
  },
  {
   "cell_type": "markdown",
   "metadata": {
    "slideshow": {
     "slide_type": "fragment"
    }
   },
   "source": [
    "これは一致してる。"
   ]
  },
  {
   "cell_type": "markdown",
   "metadata": {
    "slideshow": {
     "slide_type": "slide"
    }
   },
   "source": [
    "### アダマールテストループ\n",
    "こんな感じで固有値が求まるかはまちまち。これを解決するためにアダマールテストを何回も繰り返す。これにより終状態が固有ベクトルに収束していく。  \n",
    "何回も繰り返すとは、一度アダマールテストした後の第1ビット以外のビットの情報を取り出し、それを初期状態に使ってもう一度アダマールテストを行う。"
   ]
  },
  {
   "cell_type": "code",
   "execution_count": 16,
   "metadata": {
    "slideshow": {
     "slide_type": "subslide"
    }
   },
   "outputs": [],
   "source": [
    "def hadamard_loop(U,loop):\n",
    "    m,m=U.shape\n",
    "    n=int(math.log(m,2))\n",
    "    zero=[[1],[0]]\n",
    "    state=zero\n",
    "    \n",
    "    for i in range(n-1):\n",
    "        state=np.kron(state,zero) # 初期状態を|00...0>にする\n",
    "    \n",
    "    for i in range(loop):\n",
    "        end_state=hadamard_test(U,state)\n",
    "        # アダマールテストで帰ってきたend_stateから１ビット目の情報を抜き取っていく\n",
    "        end_state0, end_state1=np.split(end_state,[2**n],axis=0) # end_stateを上下に分ける\n",
    "        PZero=sum([abs(end_state[i,0])**2 for i in range(2**(n-1))]) # １ビット目で0が観測される確率\n",
    "        if PZero==0:\n",
    "            state=end_state1\n",
    "        else:\n",
    "            state=end_state0/((PZero)**(1/2)) # 1ビット目の情報を取り除こうとしている。\n",
    "            \n",
    "    cosL=2*PZero-1\n",
    "    cosL=min(cosL,1)\n",
    "    return cosL+math.sqrt(1-cosL**2)*1j,cosL-math.sqrt(1-cosL**2)*1j # 返すのは固有値(ただし虚部の符号は分からないので両方返す)"
   ]
  },
  {
   "cell_type": "code",
   "execution_count": 17,
   "metadata": {
    "slideshow": {
     "slide_type": "subslide"
    }
   },
   "outputs": [
    {
     "name": "stdout",
     "output_type": "stream",
     "text": [
      "value: 1.0  vector: [0.70710678 0.70710678]\n",
      "value: -1.0  vector: [-0.70710678  0.70710678]\n"
     ]
    }
   ],
   "source": [
    "X=np.array([[0,1],[1,0]])\n",
    "get_answer(X) # 先に固有値と固有ベクトルを出しておく"
   ]
  },
  {
   "cell_type": "code",
   "execution_count": 18,
   "metadata": {
    "slideshow": {
     "slide_type": "fragment"
    }
   },
   "outputs": [
    {
     "data": {
      "text/plain": [
       "((-0.5000000000000002+0.8660254037844385j),\n",
       " (-0.5000000000000002-0.8660254037844385j))"
      ]
     },
     "execution_count": 18,
     "metadata": {},
     "output_type": "execute_result"
    }
   ],
   "source": [
    "hadamard_loop(X,1) #ループ一回"
   ]
  },
  {
   "cell_type": "code",
   "execution_count": 19,
   "metadata": {
    "slideshow": {
     "slide_type": "fragment"
    }
   },
   "outputs": [
    {
     "data": {
      "text/plain": [
       "((0.9999999999999991+4.2146848510894035e-08j),\n",
       " (0.9999999999999991-4.2146848510894035e-08j))"
      ]
     },
     "execution_count": 19,
     "metadata": {},
     "output_type": "execute_result"
    }
   ],
   "source": [
    "hadamard_loop(X,2) #ループ二回"
   ]
  },
  {
   "cell_type": "code",
   "execution_count": 20,
   "metadata": {
    "slideshow": {
     "slide_type": "fragment"
    }
   },
   "outputs": [
    {
     "data": {
      "text/plain": [
       "((0.9999999999999991+4.2146848510894035e-08j),\n",
       " (0.9999999999999991-4.2146848510894035e-08j))"
      ]
     },
     "execution_count": 20,
     "metadata": {},
     "output_type": "execute_result"
    }
   ],
   "source": [
    "hadamard_loop(X,3) #ループ三回"
   ]
  },
  {
   "cell_type": "markdown",
   "metadata": {
    "slideshow": {
     "slide_type": "fragment"
    }
   },
   "source": [
    "ユニタリ行列Xでは、ループ二回目でほぼ正しい固有値が得られる"
   ]
  },
  {
   "cell_type": "markdown",
   "metadata": {
    "slideshow": {
     "slide_type": "subslide"
    }
   },
   "source": [
    "ちょっとこの固有値の収束の様子を可視化してみよう  \n",
    "可視化にはmatplotlibを用いた。"
   ]
  },
  {
   "cell_type": "code",
   "execution_count": 21,
   "metadata": {
    "slideshow": {
     "slide_type": "subslide"
    }
   },
   "outputs": [],
   "source": [
    "import matplotlib.pyplot as plt\n",
    "import numpy as np"
   ]
  },
  {
   "cell_type": "code",
   "execution_count": 22,
   "metadata": {
    "slideshow": {
     "slide_type": "fragment"
    }
   },
   "outputs": [],
   "source": [
    "def hadamard_vd(U,loop):\n",
    "    data_R=[]\n",
    "    data_I=[]\n",
    "    num=np.arange(loop)\n",
    "\n",
    "    for i in range(loop):\n",
    "        IV_tuple=hadamard_loop(U,i+1) # 1回行ったアダマールテストを利用して２回目のアダマールテストを行うようにすれば速くなる(してない)\n",
    "        IV=IV_tuple[0] # tupleでは不便なので取り出しておく\n",
    "        data_R.append(IV.real) # 固有値を実部と虚部に分ける\n",
    "        data_I.append(IV.imag)\n",
    "\n",
    "    plt.plot(num, data_R, label=\"IV_R\")\n",
    "    plt.plot(num, data_I, label=\"IV_I\")\n",
    "    plt.grid()\n",
    "    plt.legend()\n",
    "    plt.xlabel(\"num\")\n",
    "    plt.ylabel(\"IV\")\n",
    "    plt.show()"
   ]
  },
  {
   "cell_type": "code",
   "execution_count": 23,
   "metadata": {
    "slideshow": {
     "slide_type": "subslide"
    }
   },
   "outputs": [],
   "source": [
    "# 実験に使う基本的なゲートを定義しておく\n",
    "PI=math.pi\n",
    "e=math.e\n",
    "\n",
    "X=np.array([[0,1],[1,0]])\n",
    "Y=np.array([[0,-1j],[1j,0]])\n",
    "Z=np.array([[1,0],[0,-1]])\n",
    "H=np.array([[1,1],[1,-1]])/math.sqrt(2)\n",
    "T=np.array([[e**(1j*(PI/8)),0],[0,e**(1j*(PI/8))]])\n",
    "CNOT=get_CU_gate(X)"
   ]
  },
  {
   "cell_type": "code",
   "execution_count": 24,
   "metadata": {
    "slideshow": {
     "slide_type": "subslide"
    }
   },
   "outputs": [
    {
     "data": {
      "image/png": "[encoded data removed]",
      "text/plain": [
       "<Figure size 432x288 with 1 Axes>"
      ]
     },
     "metadata": {},
     "output_type": "display_data"
    },
    {
     "name": "stdout",
     "output_type": "stream",
     "text": [
      "value: 1.0  vector: [0.70710678 0.70710678]\n",
      "value: -1.0  vector: [-0.70710678  0.70710678]\n"
     ]
    }
   ],
   "source": [
    "hadamard_vd(X,10)\n",
    "get_answer(X)"
   ]
  },
  {
   "cell_type": "code",
   "execution_count": 25,
   "metadata": {
    "slideshow": {
     "slide_type": "subslide"
    }
   },
   "outputs": [
    {
     "data": {
      "image/png": "[encoded data removed]",
      "text/plain": [
       "<Figure size 432x288 with 1 Axes>"
      ]
     },
     "metadata": {},
     "output_type": "display_data"
    },
    {
     "name": "stdout",
     "output_type": "stream",
     "text": [
      "value: (0.9238795325112865+0.3826834323650897j)  vector: [ 7.07106781e-01+0.j         -0.00000000e+00+0.j\n",
      " -0.00000000e+00+0.j         -0.00000000e+00+0.j\n",
      " -0.00000000e+00+0.j         -0.00000000e+00+0.j\n",
      "  2.77555756e-17+0.70710678j -0.00000000e+00+0.j        ]\n",
      "value: (-0.9238795325112867-0.38268343236508984j)  vector: [7.07106781e-01+0.j         0.00000000e+00+0.j\n",
      " 0.00000000e+00+0.j         0.00000000e+00+0.j\n",
      " 0.00000000e+00+0.j         0.00000000e+00+0.j\n",
      " 5.55111512e-17-0.70710678j 0.00000000e+00+0.j        ]\n",
      "value: (0.9238795325112865+0.3826834323650897j)  vector: [-0.00000000e+00+0.j         -0.00000000e+00+0.j\n",
      "  7.07106781e-01+0.j         -0.00000000e+00+0.j\n",
      " -2.77555756e-17-0.70710678j -0.00000000e+00+0.j\n",
      " -0.00000000e+00+0.j         -0.00000000e+00+0.j        ]\n",
      "value: (-0.9238795325112867-0.38268343236508984j)  vector: [ 0.00000000e+00+0.j          0.00000000e+00+0.j\n",
      "  7.07106781e-01+0.j          0.00000000e+00+0.j\n",
      " -5.55111512e-17+0.70710678j  0.00000000e+00+0.j\n",
      "  0.00000000e+00+0.j          0.00000000e+00+0.j        ]\n",
      "value: (0.9238795325112865+0.3826834323650897j)  vector: [ 0.00000000e+00+0.j          0.00000000e+00+0.j\n",
      "  2.57706779e-02-0.06221592j  7.03892784e-01+0.j\n",
      " -6.22159201e-02-0.02577068j  5.52588376e-17-0.70389278j\n",
      "  0.00000000e+00+0.j          0.00000000e+00+0.j        ]\n",
      "value: (-0.9238795325112867-0.38268343236508984j)  vector: [ 0.00000000e+00+0.j          0.00000000e+00+0.j\n",
      " -6.22159201e-02-0.02577068j -8.32667268e-17-0.70389278j\n",
      "  2.57706779e-02-0.06221592j  7.03892784e-01+0.j\n",
      "  0.00000000e+00+0.j          0.00000000e+00+0.j        ]\n",
      "value: (0.9238795325112865+0.3826834323650897j)  vector: [ 2.57706779e-02-0.06221592j  7.03892784e-01+0.j\n",
      " -0.00000000e+00+0.j         -0.00000000e+00+0.j\n",
      " -0.00000000e+00+0.j         -0.00000000e+00+0.j\n",
      "  6.22159201e-02+0.02577068j -5.52588376e-17+0.70389278j]\n",
      "value: (-0.9238795325112867-0.38268343236508984j)  vector: [6.22159201e-02+0.02577068j 8.32667268e-17+0.70389278j\n",
      " 0.00000000e+00+0.j         0.00000000e+00+0.j\n",
      " 0.00000000e+00+0.j         0.00000000e+00+0.j\n",
      " 2.57706779e-02-0.06221592j 7.03892784e-01+0.j        ]\n"
     ]
    }
   ],
   "source": [
    "MyGate=np.kron(X,np.kron(Y,T))\n",
    "hadamard_vd(MyGate, 10)\n",
    "get_answer(MyGate)"
   ]
  },
  {
   "cell_type": "code",
   "execution_count": 26,
   "metadata": {
    "slideshow": {
     "slide_type": "subslide"
    }
   },
   "outputs": [
    {
     "data": {
      "image/png": "[encoded data removed]",
      "text/plain": [
       "<Figure size 432x288 with 1 Axes>"
      ]
     },
     "metadata": {},
     "output_type": "display_data"
    },
    {
     "name": "stdout",
     "output_type": "stream",
     "text": [
      "value: (0.38268343236508984-0.9238795325112867j)  vector: [0.92387953+0.00000000e+00j 0.38268343+2.77555756e-17j]\n",
      "value: (-0.3826834323650896+0.9238795325112866j)  vector: [-0.38268343+0.j  0.92387953+0.j]\n"
     ]
    }
   ],
   "source": [
    "MyGate2=T@H@Z@Y@X\n",
    "hadamard_vd(MyGate2,20)\n",
    "get_answer(MyGate2)"
   ]
  },
  {
   "cell_type": "markdown",
   "metadata": {
    "slideshow": {
     "slide_type": "subslide"
    }
   },
   "source": [
    "いずれもうまく固有値に収束している。  \n",
    "アダマールテストはうまくいったので次は位相推定。"
   ]
  },
  {
   "cell_type": "markdown",
   "metadata": {
    "slideshow": {
     "slide_type": "slide"
    }
   },
   "source": [
    "# 位相推定アルゴリズム\n",
    "位相とはさっきの固有値$e^{i2\\pi\\phi}$の$\\phi$のこと。ユニタリ行列$U$と固有状態$|\\psi>$を受け取り$\\phi$を返す関数を組む。"
   ]
  },
  {
   "cell_type": "markdown",
   "metadata": {
    "slideshow": {
     "slide_type": "subslide"
    }
   },
   "source": [
    "量子回路にするとこんなの\n",
    "<img src=\"picture/isouSuitei.png\">"
   ]
  },
  {
   "cell_type": "markdown",
   "metadata": {
    "slideshow": {
     "slide_type": "slide"
    }
   },
   "source": [
    "#### 量子回路に描いてあることを文章化\n",
    "1. ユニタリ行列Uの固有値を$e^{i2\\pi\\phi}$としたとき、求めたい位相は$\\phi$である($0\\leqq\\phi<1$)。ここで$\\phi$を二進数で表すと、$0.\\phi_{1}\\phi_{2}...\\phi_{r}$ であるとする。\n",
    "2. 0からr-1番目のビットに対してアダマールゲートを作用させる。\n",
    "3. kビット目を制御ビットとし、固有状態$\\psi$をターゲットビットとした$CU_{k}$ゲートを行列表現し左から作用させる($0 \\leqq k \\leqq r-1$) ($r$は精度を表す)($U_{k}=U^{2^{k}}$)。\n",
    "4. 0からr-1番目のビットを対象に逆量子フーリエ変換を行う。\n",
    "5. 0からr-1番目のビット列は$|\\phi_{1}\\phi_{2}...\\phi_{r}>$になっているためこれを行列表現された状態から得る。$\\phi_{1}\\phi_{2}...\\phi_{r}$を$2^{r}$で割って、位相$\\phi$を得る。"
   ]
  },
  {
   "cell_type": "code",
   "execution_count": 27,
   "metadata": {
    "slideshow": {
     "slide_type": "skip"
    }
   },
   "outputs": [],
   "source": [
    "def get_vec_list(U):\n",
    "    w,v=np.linalg.eig(U)\n",
    "    vec_list=[]\n",
    "    \n",
    "    for i in range(len(w)):\n",
    "        x=v[:,i]\n",
    "        vec_list.append(x.reshape(len(x),1))\n",
    "    \n",
    "    return vec_list"
   ]
  },
  {
   "cell_type": "code",
   "execution_count": 28,
   "metadata": {
    "slideshow": {
     "slide_type": "skip"
    }
   },
   "outputs": [],
   "source": [
    "def get_state(psi,r):\n",
    "    zero=np.zeros((2**r,1))\n",
    "    zero[0]=1\n",
    "    return np.kron(zero,psi)"
   ]
  },
  {
   "cell_type": "code",
   "execution_count": 29,
   "metadata": {
    "slideshow": {
     "slide_type": "skip"
    }
   },
   "outputs": [],
   "source": [
    "def get_H_gate(U,r):\n",
    "    m,m=U.shape\n",
    "    n=int(math.log(m,2))\n",
    "    H_gate=np.array([[1]])\n",
    "    H=np.array([[1,1],[1,-1]])/math.sqrt(2)\n",
    "    for i in range(r):\n",
    "        H_gate=np.kron(H_gate,H)\n",
    "    return np.kron(H_gate,np.eye((2**n)))"
   ]
  },
  {
   "cell_type": "code",
   "execution_count": 30,
   "metadata": {
    "slideshow": {
     "slide_type": "skip"
    }
   },
   "outputs": [],
   "source": [
    "def get_CUk_list(U,r):\n",
    "    m,m=U.shape\n",
    "    n=int(math.log(m,2))\n",
    "    zero=np.array([[1,0],[0,0]])\n",
    "    one=np.array([[0,0],[0,1]])\n",
    "    \n",
    "    # まずはUk_listを作る\n",
    "    Uk_list=[U]\n",
    "    for i in range(r-1):\n",
    "        Uk_list.append(Uk_list[i]@Uk_list[i])\n",
    "    \n",
    "    # 次にCUk_listを作る CUkの制御ビットはr-1-k番目のビット、標的ビットは2**n行の固有状態\n",
    "    CUk_list=[]\n",
    "    for k in range(r):\n",
    "        CUk_zero=np.kron(np.eye((2**(r-1-k))),np.kron(zero,np.kron(np.eye((2**(k))),np.eye((2**n)))))\n",
    "        CUk_one=np.kron(np.eye((2**(r-1-k))),np.kron(one,np.kron(np.eye((2**(k))),Uk_list[k])))\n",
    "        CUk_list.append(CUk_zero+CUk_one)\n",
    "    \n",
    "    return CUk_list    "
   ]
  },
  {
   "cell_type": "code",
   "execution_count": 31,
   "metadata": {
    "slideshow": {
     "slide_type": "skip"
    }
   },
   "outputs": [],
   "source": [
    "def get_Rm(n,t,m):\n",
    "    zero=np.array([[1,0],[0,0]])\n",
    "    one=np.array([[0,0],[0,1]])\n",
    "    \n",
    "    Rm_zero=np.kron(np.eye((2**(t+m-1))),np.kron(zero,np.eye(2**(n-t-m))))\n",
    "    Rm_one=np.kron(np.eye(2**t),np.kron(zero+(math.e**(2j*math.pi/2**m))*one,np.kron(np.eye((2**(m-2))),np.kron(one,np.eye((2**(n-t-m)))))))\n",
    "    \n",
    "    return Rm_zero+Rm_one"
   ]
  },
  {
   "cell_type": "code",
   "execution_count": 32,
   "metadata": {
    "slideshow": {
     "slide_type": "skip"
    }
   },
   "outputs": [],
   "source": [
    "def get_HR(n,t):\n",
    "    H=np.array([[1,1],[1,-1]])/math.sqrt(2)\n",
    "    HR=np.kron(np.eye((2**t)),np.kron(H,np.eye(2**(n-t-1))))\n",
    "    \n",
    "    if t==n-1:\n",
    "        return HR\n",
    "    for i in range(2, n-t+1, 1):\n",
    "        HR=get_Rm(n,t,i)@HR # 左にどんどんかけていく\n",
    "    \n",
    "    return HR"
   ]
  },
  {
   "cell_type": "code",
   "execution_count": 33,
   "metadata": {
    "slideshow": {
     "slide_type": "skip"
    }
   },
   "outputs": [],
   "source": [
    "def change(n,a,b):\n",
    "    zero=np.array([[1,0],[0,0]])\n",
    "    one=np.array([[0,0],[0,1]])\n",
    "    X=np.array([[0,1],[1,0]])\n",
    "    \n",
    "    CNOT_a=np.kron(np.eye((2**a)),np.kron(zero,np.eye((2**(n-a-1)))))+np.kron(np.eye((2**a)),np.kron(one,np.kron(np.eye((2**(b-a-1))),np.kron(X,np.eye((2**(n-b-1)))))))\n",
    "    CNOT_b=np.kron(np.eye((2**b)),np.kron(zero,np.eye((2**(n-b-1)))))+np.kron(np.eye((2**a)),np.kron(X,np.kron(np.eye((2**(b-a-1))),np.kron(one,np.eye((2**(n-b-1)))))))\n",
    "    return CNOT_a@CNOT_b@CNOT_a"
   ]
  },
  {
   "cell_type": "code",
   "execution_count": 34,
   "metadata": {
    "slideshow": {
     "slide_type": "skip"
    }
   },
   "outputs": [],
   "source": [
    "def get_swap(n):\n",
    "    swap=np.eye((2**n))\n",
    "    if n%2==0:\n",
    "        for i in range(int(n/2)):\n",
    "            swap=change(n,i,n-1-i)@swap\n",
    "    else:\n",
    "        for i in range(int((n-1)/2)):\n",
    "            swap=change(n,i,n-1-i)@swap\n",
    "    return swap"
   ]
  },
  {
   "cell_type": "code",
   "execution_count": 35,
   "metadata": {
    "slideshow": {
     "slide_type": "skip"
    }
   },
   "outputs": [],
   "source": [
    "def Q_Fourier(n):\n",
    "    Q_Fourier=np.eye((2**n))\n",
    "    for i in range(n):\n",
    "        Q_Fourier=get_HR(n,i)@Q_Fourier\n",
    "    return get_swap(n)@Q_Fourier"
   ]
  },
  {
   "cell_type": "code",
   "execution_count": 36,
   "metadata": {
    "slideshow": {
     "slide_type": "skip"
    }
   },
   "outputs": [],
   "source": [
    "def inv_Fourier(n):\n",
    "    IF=np.conjugate(Q_Fourier(n))\n",
    "    return IF.T"
   ]
  },
  {
   "cell_type": "code",
   "execution_count": 37,
   "metadata": {
    "slideshow": {
     "slide_type": "skip"
    }
   },
   "outputs": [],
   "source": [
    "def get_inv_Fourier(U,r):\n",
    "    m,m=U.shape\n",
    "    n=int(math.log(m,2))\n",
    "    return np.kron(inv_Fourier(r),np.eye((2**n)))"
   ]
  },
  {
   "cell_type": "code",
   "execution_count": 38,
   "metadata": {
    "slideshow": {
     "slide_type": "skip"
    }
   },
   "outputs": [],
   "source": [
    "def get_phase(state,r):\n",
    "    psi=0\n",
    "    \n",
    "    for i in range(r):\n",
    "        n,m=state.shape\n",
    "        S=sum([abs(state[j])**2 for j in range(int(n/2))]) # stateの上半分の絶対値の二乗の和\n",
    "        state_a, state_b=np.split(state,[int(n/2)],axis=0) # stateを上下に分割\n",
    "        \n",
    "        if 0.99<S<=1:\n",
    "            state=state_a\n",
    "        \n",
    "        elif 0<=S<0.01:\n",
    "            state=state_b\n",
    "            psi+=(1/2)**(i+1) # 二進数を十進数にする\n",
    "        \n",
    "        else:\n",
    "            return psi,\"Error ビットが確定していません\"\n",
    "    \n",
    "    return psi"
   ]
  },
  {
   "cell_type": "markdown",
   "metadata": {
    "slideshow": {
     "slide_type": "slide"
    }
   },
   "source": [
    "さっき文章化したものを一つ一つ行列で表現していき、まとめたものがこちら  \n",
    "ユニタリ行列U、その固有状態psi、そして精度を示すrを受け取り位相$\\psi$を返す関数"
   ]
  },
  {
   "cell_type": "code",
   "execution_count": 39,
   "metadata": {
    "slideshow": {
     "slide_type": "fragment"
    }
   },
   "outputs": [],
   "source": [
    "def phase_estimate_1(U,psi,r):\n",
    "    # 初期状態の生成\n",
    "    state=get_state(psi,r)\n",
    "    \n",
    "    # 0からr-1番目のビットにアダマールゲートを作用させる\n",
    "    state=get_H_gate(U,r)@ state\n",
    "    \n",
    "    # k番目のビットを制御ビットとし、psiを標的ビットとしたCUkゲートを作用させる。(k=0～r-1)\n",
    "    CUk_list=get_CUk_list(U,r)\n",
    "    for i in range(r):\n",
    "        state=CUk_list[i]@ state\n",
    "    \n",
    "    # 最後に0からr-1番目のビットに逆量子フーリエ変換を作用させる。\n",
    "    state=get_inv_Fourier(U,r)@ state\n",
    "    \n",
    "    # 0からr-1番目のビット列は$|\\phi_{1}\\phi_{2}...\\phi_{r}>$になっているためこれを行列表現された状態から得る。\n",
    "    return get_phase(state,r)"
   ]
  },
  {
   "cell_type": "code",
   "execution_count": 40,
   "metadata": {
    "slideshow": {
     "slide_type": "skip"
    }
   },
   "outputs": [],
   "source": [
    "def all_phase(U,r):\n",
    "    vec_list=get_vec_list(U)\n",
    "    for vec in vec_list:\n",
    "        print(\"固有状態: \"+str(vec)+\"  位相: \"+str(phase_estimate_1(U,vec,r)))"
   ]
  },
  {
   "cell_type": "code",
   "execution_count": 41,
   "metadata": {
    "slideshow": {
     "slide_type": "skip"
    }
   },
   "outputs": [],
   "source": [
    "def get_answer(U):\n",
    "    \"\"\"\"答え合わせ用の関数\"\"\"\n",
    "    w,v=np.linalg.eig(U)\n",
    "    \n",
    "    for i in range(len(w)):\n",
    "        print('value:',w[i],' vector:',v[:,i])"
   ]
  },
  {
   "cell_type": "code",
   "execution_count": 42,
   "metadata": {
    "slideshow": {
     "slide_type": "subslide"
    }
   },
   "outputs": [
    {
     "name": "stdout",
     "output_type": "stream",
     "text": [
      "value: 1j  vector: [1.+0.j 0.+0.j]\n",
      "value: 1j  vector: [0.+0.j 1.+0.j]\n",
      "固有状態: [[1.+0.j]\n",
      " [0.+0.j]]  位相: 0.25\n",
      "固有状態: [[0.+0.j]\n",
      " [1.+0.j]]  位相: 0.25\n"
     ]
    }
   ],
   "source": [
    "MyGate=np.array([[1j,0],[0,1j]]) # なにか位相が分かっているもので確かめる\n",
    "get_answer(MyGate)\n",
    "all_phase(MyGate,3) # すべての固有値に対して位相推定"
   ]
  },
  {
   "cell_type": "markdown",
   "metadata": {
    "slideshow": {
     "slide_type": "fragment"
    }
   },
   "source": [
    "位相1/4なら固有値は1jになるので多分あってる。"
   ]
  },
  {
   "cell_type": "code",
   "execution_count": 43,
   "metadata": {
    "slideshow": {
     "slide_type": "subslide"
    }
   },
   "outputs": [
    {
     "name": "stdout",
     "output_type": "stream",
     "text": [
      "value: 1.0  vector: [1. 0. 0. 0.]\n",
      "value: 1.0  vector: [0. 1. 0. 0.]\n",
      "value: 1.0  vector: [0. 0. 1. 0.]\n",
      "value: 1.0  vector: [0. 0. 0. 1.]\n",
      "固有状態: [[1.]\n",
      " [0.]\n",
      " [0.]\n",
      " [0.]]  位相: 0\n",
      "固有状態: [[0.]\n",
      " [1.]\n",
      " [0.]\n",
      " [0.]]  位相: 0\n",
      "固有状態: [[0.]\n",
      " [0.]\n",
      " [1.]\n",
      " [0.]]  位相: 0\n",
      "固有状態: [[0.]\n",
      " [0.]\n",
      " [0.]\n",
      " [1.]]  位相: 0\n"
     ]
    }
   ],
   "source": [
    "I=np.array([[1,0,0,0],[0,1,0,0],[0,0,1,0],[0,0,0,1]])\n",
    "get_answer(I)\n",
    "all_phase(I,2)"
   ]
  },
  {
   "cell_type": "markdown",
   "metadata": {
    "slideshow": {
     "slide_type": "subslide"
    }
   },
   "source": [
    "やっぱりあってる  \n",
    "今までの経験を使いショアのアルゴリズムへ"
   ]
  },
  {
   "cell_type": "markdown",
   "metadata": {
    "slideshow": {
     "slide_type": "slide"
    }
   },
   "source": [
    "# ショアのアルゴリズム\n",
    "位数推定アルゴリズムを利用してショアのアルゴリズムを行列でシュミレートする。"
   ]
  },
  {
   "cell_type": "markdown",
   "metadata": {
    "slideshow": {
     "slide_type": "subslide"
    }
   },
   "source": [
    "### やりたいことの確認\n",
    "1. 因数分解したい数Nに対して、Nと互いに素でありNより小さい自然数xを定める。  \n",
    "2. そのNとxを使って、ユニタリ行列$U_{x}=\\sum_{y=0}^{2^{n}-1} |xy (mod N)><y|$ を行列表現する。($2^{n-1}-1<N-1<=2^{n}-1$)  \n",
    "3. その$U_{x}$の固有値の位相$\\phi$を推定する。  \n",
    "4. $s/t(=\\phi)$に対して連分数展開を行い位数$t$を求める。\n",
    "5. $t$が偶数なら$gcd(x^{t/2}-1,N)$か$gcd(x^{t/2}+1,N)$がNの因数となる。"
   ]
  },
  {
   "cell_type": "markdown",
   "metadata": {
    "slideshow": {
     "slide_type": "slide"
    }
   },
   "source": [
    "全部紹介するのもお互い疲れるので、一番大事な位相推定のところを紹介。"
   ]
  },
  {
   "cell_type": "markdown",
   "metadata": {
    "slideshow": {
     "slide_type": "fragment"
    }
   },
   "source": [
    "さっきの位相推定とはちがって、初期状態に固有ベクトルを使わない。"
   ]
  },
  {
   "cell_type": "markdown",
   "metadata": {
    "slideshow": {
     "slide_type": "fragment"
    }
   },
   "source": [
    "かわりにすべての固有状態が重ね合わさった$|00...001>$を固有状態の代わりに使う。"
   ]
  },
  {
   "cell_type": "markdown",
   "metadata": {
    "slideshow": {
     "slide_type": "fragment"
    }
   },
   "source": [
    "そうすることでそれぞれの固有状態に対する固有値の位相が確率的に観測できる。"
   ]
  },
  {
   "cell_type": "code",
   "execution_count": 44,
   "metadata": {
    "slideshow": {
     "slide_type": "skip"
    }
   },
   "outputs": [],
   "source": [
    "import numpy as np\n",
    "import math\n",
    "import random # 疑似量子的観測に用いる\n",
    "from fractions import Fraction # 有理数近似に用いる\n",
    "import re # 分母を取り出すときに用いる"
   ]
  },
  {
   "cell_type": "code",
   "execution_count": 45,
   "metadata": {
    "slideshow": {
     "slide_type": "skip"
    }
   },
   "outputs": [],
   "source": [
    "def find_x(N):\n",
    "    for x in range(2,int(N)):\n",
    "        if math.gcd(x,int(N))==1:\n",
    "            yield x\n",
    "        else:\n",
    "            continue"
   ]
  },
  {
   "cell_type": "code",
   "execution_count": 46,
   "metadata": {
    "slideshow": {
     "slide_type": "skip"
    }
   },
   "outputs": [],
   "source": [
    "def get_Ux(N,x):\n",
    "    # Nに対するnを求める\n",
    "    i=0\n",
    "    while(True):\n",
    "        if N<=2**i:\n",
    "            n=i\n",
    "            break\n",
    "        else:\n",
    "            i+=1\n",
    "    \n",
    "    Ux=np.zeros((2**n,2**n))\n",
    "    \n",
    "    for y in range(2**n):\n",
    "        ket=np.zeros((2**n,1))\n",
    "        ket[(x*y)%N,0]=1\n",
    "        bra=np.zeros((1,2**n))\n",
    "        bra[0,y]=1\n",
    "        Ux=Ux+np.kron(ket,bra)\n",
    "    \n",
    "    return Ux"
   ]
  },
  {
   "cell_type": "code",
   "execution_count": 47,
   "metadata": {
    "slideshow": {
     "slide_type": "skip"
    }
   },
   "outputs": [],
   "source": [
    "def get_phase(state,r):\n",
    "    # 0ビット目からr-1ビット目までを確率的に観測する関数\n",
    "    psi=0\n",
    "    \n",
    "    for k in range(r):\n",
    "        n,m=state.shape\n",
    "        Pzero=sum([abs(state[j])**2 for j in range(int(n/2))]) # stateの上半分の絶対値の二乗の和\n",
    "        state_a, state_b=np.split(state,[int(n/2)],axis=0) # stateを上下に分割\n",
    "        P=random.random() # 疑似的に量子的な観測を行うためサイコロを振る\n",
    "        \n",
    "        if P<=Pzero:\n",
    "            state=state_a/(Pzero**(1/2)) # kビット目が|0>なら何もしないで、上半分を次に使う\n",
    "        \n",
    "        elif Pzero<P:\n",
    "            state=state_b/((1-Pzero)**(1/2)) # kビット目が|1>なら下半分を次に使う\n",
    "            psi+=(1/2)**(k+1) # 二進数を十進数にする\n",
    "        \n",
    "        else:\n",
    "            return psi,\"Error\"\n",
    "    \n",
    "    return psi"
   ]
  },
  {
   "cell_type": "code",
   "execution_count": 48,
   "metadata": {
    "slideshow": {
     "slide_type": "subslide"
    }
   },
   "outputs": [],
   "source": [
    "def phase_estimate(U):\n",
    "    # 初期状態の生成\n",
    "    m,m=U.shape\n",
    "    n=int(math.log(m,2))\n",
    "    r=n\n",
    "    \n",
    "    psi=np.zeros((2**n,1))\n",
    "    psi[1]=1 # 初期状態の作成に使う psi は|00...01>を使う。上から二番目の要素だけ1にすればOK\n",
    "    state=get_state(psi,r)\n",
    "    \n",
    "    # 0からr-1番目のビットにアダマールゲートを作用させる\n",
    "    state=get_H_gate(U,r)@ state\n",
    "    \n",
    "    # k番目のビットを制御ビットとし、psiを標的ビットとしたCUkゲートを作用させる。(k=0～r-1)\n",
    "    CUk_list=get_CUk_list(U,r)\n",
    "    for i in range(r):\n",
    "        state=CUk_list[i]@ state\n",
    "    \n",
    "    # 最後に0からr-1番目のビットに逆量子フーリエ変換を作用させる。\n",
    "    state=get_inv_Fourier(U,r)@ state\n",
    "\n",
    "    # 0からr-1番目のビット列は$|\\phi_{1}\\phi_{2}...\\phi_{r}>$になっているためこれを行列表現された状態から得る。\n",
    "    return Fraction(get_phase(state,r))"
   ]
  },
  {
   "cell_type": "markdown",
   "metadata": {
    "slideshow": {
     "slide_type": "slide"
    }
   },
   "source": [
    "位相の推定を見てみる"
   ]
  },
  {
   "cell_type": "code",
   "execution_count": 61,
   "metadata": {
    "slideshow": {
     "slide_type": "fragment"
    }
   },
   "outputs": [
    {
     "name": "stdout",
     "output_type": "stream",
     "text": [
      "位相: 1/4\n",
      "位相: 1/4\n",
      "位相: 1/2\n",
      "位相: 0\n",
      "位相: 1/4\n",
      "位相: 3/4\n",
      "位相: 1/4\n",
      "位相: 0\n",
      "位相: 1/2\n",
      "位相: 0\n"
     ]
    }
   ],
   "source": [
    "# 位相推定と違って出てくる位相は一つに確定していない\n",
    "# 実機と同じ挙動でs/tが得られる。あとはFractionで有理数近似するだけ。\n",
    "N,x=15,7\n",
    "Ux=get_Ux(N,x)\n",
    "for i in range(10):\n",
    "    st=phase_estimate(Ux)\n",
    "    print(\"位相: \"+str(st))"
   ]
  },
  {
   "cell_type": "markdown",
   "metadata": {
    "slideshow": {
     "slide_type": "subslide"
    }
   },
   "source": [
    "この場合位数としては2,4が候補である      \n",
    "$7^{2}=4(mod15)$  \n",
    "$7^{4}=1(mod15)$  \n",
    "位数として条件を満たすのは4である  \n",
    "このように確率的に位相が求まる...訳では無くxの取り方によっては求められない。  \n",
    "例: (N,x)=(21,5)  \n",
    "この場合はxを取り直せば良い。"
   ]
  },
  {
   "cell_type": "code",
   "execution_count": 50,
   "metadata": {
    "slideshow": {
     "slide_type": "skip"
    }
   },
   "outputs": [],
   "source": [
    "def get_den(frac):\n",
    "    str_frac=str(Fraction(frac))\n",
    "    pattern = \"(.*)/(.*)\"\n",
    "    d = re.split(pattern, str_frac)\n",
    "    return int(d[2])"
   ]
  },
  {
   "cell_type": "code",
   "execution_count": 51,
   "metadata": {
    "slideshow": {
     "slide_type": "skip"
    }
   },
   "outputs": [],
   "source": [
    "def get_dig(N,x):\n",
    "    Ux=get_Ux(N,x)\n",
    "    st=phase_estimate(Ux)\n",
    "    if st==0:\n",
    "        return st\n",
    "    else:\n",
    "        t=get_den(st)\n",
    "        return t"
   ]
  },
  {
   "cell_type": "markdown",
   "metadata": {
    "slideshow": {
     "slide_type": "subslide"
    }
   },
   "source": [
    "次は位数推定。"
   ]
  },
  {
   "cell_type": "code",
   "execution_count": 52,
   "metadata": {
    "slideshow": {
     "slide_type": "fragment"
    }
   },
   "outputs": [
    {
     "name": "stdout",
     "output_type": "stream",
     "text": [
      "位数: 0\n",
      "位数: 0\n",
      "位数: 4\n",
      "位数: 0\n",
      "位数: 4\n",
      "位数: 0\n",
      "位数: 0\n",
      "位数: 2\n",
      "位数: 2\n",
      "位数: 2\n"
     ]
    }
   ],
   "source": [
    "for i in range(10):\n",
    "    print(\"位数: \"+str(get_dig(15,7)))"
   ]
  },
  {
   "cell_type": "markdown",
   "metadata": {
    "slideshow": {
     "slide_type": "subslide"
    }
   },
   "source": [
    "位数$t$が求まったら、$gcd(x^{t/2}-1,N)$か$gcd(x^{t/2}+1,N)$がNの因数となる。  \n",
    "ちなみに$t$は必ず2の乗数である。  \n",
    "注意事項としては、後々の都合により$t=0$の場合は因数として$1$を返すことにしている。  \n",
    "同様に因数が見つからなかった場合も$1$を返すことにした。"
   ]
  },
  {
   "cell_type": "code",
   "execution_count": 53,
   "metadata": {
    "slideshow": {
     "slide_type": "subslide"
    }
   },
   "outputs": [],
   "source": [
    "def get_fac(N,x):\n",
    "    t=get_dig(N,x) # 位数を確率的に取得\n",
    "    \n",
    "    if t==0:\n",
    "        return 1\n",
    "    else:\n",
    "        fac1=math.gcd(x**int((t/2))-1,N)\n",
    "        fac2=math.gcd(x**int((t/2))+1,N)\n",
    "        if N%fac1==0:\n",
    "            return fac1\n",
    "        elif N%fac2==0:\n",
    "            return fac2\n",
    "        else:\n",
    "            return 1"
   ]
  },
  {
   "cell_type": "code",
   "execution_count": 54,
   "metadata": {
    "slideshow": {
     "slide_type": "subslide"
    }
   },
   "outputs": [
    {
     "name": "stdout",
     "output_type": "stream",
     "text": [
      "因数: 1\n",
      "因数: 1\n",
      "因数: 3\n",
      "因数: 1\n",
      "因数: 3\n",
      "因数: 1\n",
      "因数: 1\n",
      "因数: 3\n",
      "因数: 3\n",
      "因数: 3\n"
     ]
    }
   ],
   "source": [
    "for i in range(10):\n",
    "    print(\"因数: \"+str(get_fac(15,7)))"
   ]
  },
  {
   "cell_type": "markdown",
   "metadata": {
    "slideshow": {
     "slide_type": "-"
    }
   },
   "source": [
    "後は自然数Nを受け取り因数分解する関数を作れば良い。  \n",
    "ただ一応素数判定は使わしてもらうことにする(本当は無しで組みたい)。  \n",
    "Nが素数ならFalse,違うならTrueを返す。"
   ]
  },
  {
   "cell_type": "code",
   "execution_count": 55,
   "metadata": {
    "slideshow": {
     "slide_type": "slide"
    }
   },
   "outputs": [],
   "source": [
    "def judge(N):\n",
    "    p = N ** 0.5\n",
    "    p = int(p) + 1\n",
    "    for i in range(2, int(p)):\n",
    "        if N % i == 0:\n",
    "            return True\n",
    "            break\n",
    "    else:\n",
    "        return False"
   ]
  },
  {
   "cell_type": "code",
   "execution_count": 56,
   "metadata": {
    "slideshow": {
     "slide_type": "slide"
    }
   },
   "outputs": [],
   "source": [
    "def Q_shor(N):\n",
    "    fac_list=[]\n",
    "    while(judge(N)):\n",
    "        for x in find_x(N): # xはランダムというよりは前から順番に選んでいくことにする。\n",
    "            fac=get_fac(N,x) # 因数の候補を取得\n",
    "            if N%fac==0 and fac!=1:\n",
    "                fac_list.append(fac)\n",
    "                N=int(N/fac)\n",
    "                break\n",
    "    fac_list.append(N)\n",
    "    return fac_list"
   ]
  },
  {
   "cell_type": "code",
   "execution_count": 62,
   "metadata": {
    "slideshow": {
     "slide_type": "subslide"
    }
   },
   "outputs": [
    {
     "data": {
      "text/plain": [
       "[5, 7]"
      ]
     },
     "execution_count": 62,
     "metadata": {},
     "output_type": "execute_result"
    }
   ],
   "source": [
    "Q_shor(5*7)"
   ]
  },
  {
   "cell_type": "markdown",
   "metadata": {
    "slideshow": {
     "slide_type": "fragment"
    }
   },
   "source": [
    "ショアのアルゴリズムの実装ができた!　(くそ遅いけど)"
   ]
  },
  {
   "cell_type": "markdown",
   "metadata": {
    "slideshow": {
     "slide_type": "slide"
    }
   },
   "source": [
    "# まとめ"
   ]
  },
  {
   "cell_type": "markdown",
   "metadata": {
    "slideshow": {
     "slide_type": "slide"
    }
   },
   "source": [
    "# 成果\n",
    "- ショアのアルゴリズムの実装に成功\n",
    "- その他、アダマールテスト、位相推定、量子フーリエ変換などを扱えた"
   ]
  },
  {
   "cell_type": "markdown",
   "metadata": {
    "slideshow": {
     "slide_type": "slide"
    }
   },
   "source": [
    "# 課題\n",
    "- アダマールテストをループさせるだけでも位相推定はできるわけでそれを使った因数分解もできるはず\n",
    "- ショアのアルゴリズムの実行速度をあげてみたりできそう\n",
    "- 実行時間のブレ幅とかを測定しても面白そう"
   ]
  },
  {
   "cell_type": "markdown",
   "metadata": {
    "slideshow": {
     "slide_type": "slide"
    }
   },
   "source": [
    "以上でチームBの発表を終わりたいと思います"
   ]
  },
  {
   "cell_type": "markdown",
   "metadata": {
    "slideshow": {
     "slide_type": "fragment"
    }
   },
   "source": [
    "# ご清聴ありがとうございました"
   ]
  },
  {
   "cell_type": "code",
   "execution_count": null,
   "metadata": {
    "slideshow": {
     "slide_type": "skip"
    }
   },
   "outputs": [],
   "source": []
  }
 ],
 "metadata": {
  "celltoolbar": "Slideshow",
  "kernelspec": {
   "display_name": "Python 3",
   "language": "python",
   "name": "python3"
  },
  "language_info": {
   "codemirror_mode": {
    "name": "ipython",
    "version": 3
   },
   "file_extension": ".py",
   "mimetype": "text/x-python",
   "name": "python",
   "nbconvert_exporter": "python",
   "pygments_lexer": "ipython3",
   "version": "3.6.5"
  }
 },
 "nbformat": 4,
 "nbformat_minor": 2
}
