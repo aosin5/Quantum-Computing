{
 "cells": [
  {
   "cell_type": "markdown",
   "metadata": {},
   "source": [
    "# シュミレータ作り\n",
    "目標: 分かりやすいシュミレータをnumpyで作る。"
   ]
  },
  {
   "cell_type": "code",
   "execution_count": 40,
   "metadata": {},
   "outputs": [],
   "source": [
    "import numpy as np\n",
    "import math"
   ]
  },
  {
   "cell_type": "markdown",
   "metadata": {},
   "source": [
    "素晴らしいシュミレータを見つけたのでこれを参考にして作っていこうと思う。  \n",
    "[シュミレータを作りながら量子コンピュータの仕組みを理解する](https://qiita.com/ohtaman/items/e121a2b0b4525b85b54d)"
   ]
  },
  {
   "cell_type": "markdown",
   "metadata": {},
   "source": [
    "# 量子状態クラス"
   ]
  },
  {
   "cell_type": "code",
   "execution_count": 41,
   "metadata": {},
   "outputs": [],
   "source": [
    "class Qubits(object):\n",
    "    def __init__(self, n_bits):\n",
    "        \"\"\"\n",
    "        量子ビットの初期化\n",
    "        Arguments: n_bits (int): 量子ビット数\n",
    "        \"\"\"\n",
    "        self.n_bits   = n_bits                                     # 量子ビット数\n",
    "        self.n_states = 2**n_bits                                  # 行数\n",
    "        self._amp     = np.zeros((self.n_states, 1))               # 絶対値の二乗をとると確率になる奴。超重要メンバ変数。\n",
    "        self._amp[0,0]  = 1                                        # 状態|00...0> の確率を1とする\n",
    "\n",
    "    def set_bits(self, bits):\n",
    "        \"\"\"\n",
    "        量子ビットの設定(二進数と十進数の変換と同じこと。後で分かりやすく書き直す)\n",
    "        Arguments: bits (list): 状態を表現するリスト ex).|0010> なら [0, 0, 1, 0]\n",
    "        \"\"\"\n",
    "        # 例えば |0010> なら[0,1,0,0]になり、 i=1 で bit=1 だから idx=2**1番目(0010番目)となる\n",
    "        idx            = sum(bit<<i for i, bit in enumerate(bits[::-1]))   # 引数 bits を反転させたのに応じてidxを決める ( bit<<i = bit*2**i )\n",
    "        self._amp      = np.zeros((self.n_states, 1))                      # 絶対値の二乗をとると確率になる\n",
    "        self._amp[idx,0] = 1.0                                             # idx番目の amp を1とする\n",
    "\n",
    "    def measure(self):\n",
    "        \"\"\"\n",
    "        量子ビットを観測する(結構面白い方法で観測しているが、結局二進数と十進数変換と同じこと)\n",
    "        Returens: bits (list): 観測された状態を表すリスト ex).|0010>\n",
    "        \"\"\"\n",
    "        self._amp = self._amp.reshape((self.n_states))                # 下処理 self._amp を一次元配列にする\n",
    "        p         = np.abs(self._amp)**2                              # self.amp から観測確率を求める\n",
    "        idx       = np.random.choice(range(len(self._amp)), p=p)      # 適当にindexを決める。pは合計値が1となるlist\n",
    "        bits      = [idx>>i & 1 for i in range(self.n_bits)]          # bits = [0,1,0,0]となる。 ( idx>>i = int(idx/2**i) )\n",
    "        self._amp = self._amp.reshape((self.n_states, 1))             # self._amp を元の二次元配列に戻しておく\n",
    "        return bits[::-1]                                             # bits[::-1] = [0,0,1,0] ( bits[::-1] は bits を逆に並べたもの )\n",
    "    \n",
    "    def measure_part(self):\n",
    "        \"\"\"\n",
    "        部分的に量子ビットを観測する\n",
    "        第kビット目だけを観測し、残りは重ね合わせの状態を保たせる\n",
    "        うまいことベイズの定理が使えるとかっこいいのになぁ\n",
    "        \n",
    "        Arguments: k (int): 測定したいビットの番号\n",
    "        Returns: bits (list): 観測された状態を表すリスト\n",
    "        \"\"\"\n",
    "        pass\n",
    "\n",
    "    def apply(self, *operators):\n",
    "        \"\"\"\n",
    "        量子ビットに演算子を適用する\n",
    "\n",
    "        Arguments: operators (list): 演算子のリスト(何個でも可)\n",
    "        Returens: applied (Qubits): 演算子適用後の量子ビット ex).|0010>\n",
    "        \"\"\"\n",
    "        for op in operators:\n",
    "            self._amp = op.dot(self._amp)      # 演算子を左からかけていく\n",
    "        return self._amp\n",
    "    \n",
    "        #applied = self.__class__(self.n_bits)  # 自分のクラスを呼び出している\n",
    "        #return applied                         # 演算後の量子ビットを返す ( applied.__str__ が呼び出される )\n",
    "        \n",
    "    def q_express():\n",
    "        \"\"\"そのときの amp の量子ビット表現を返す関数\"\"\"\n",
    "        pass\n",
    "    \n",
    "    def __str__(self):\n",
    "        \"\"\"\n",
    "        print時に呼び出されるメソッド\n",
    "        Returns: (amp)|0010>\n",
    "        \"\"\"\n",
    "        return \" + \".join(\n",
    "            (\"{}|{:0\" + str(self.n_bits) + \"b}>\").format(amp, i)\n",
    "            for i, amp in enumerate(self._amp) if amp\n",
    "        )"
   ]
  },
  {
   "cell_type": "code",
   "execution_count": 42,
   "metadata": {},
   "outputs": [
    {
     "name": "stdout",
     "output_type": "stream",
     "text": [
      "量子表示 [1.]|01>\n",
      "ビット数 2\n",
      "行数 4\n",
      "amp [[0.]\n",
      " [1.]\n",
      " [0.]\n",
      " [0.]]\n",
      "10番目(二進数)のamp [1.]\n",
      "合計amp [1.]\n",
      "観測結果 [0, 1]\n",
      "演算結果 [[0.]\n",
      " [0.]\n",
      " [0.]\n",
      " [1.]]\n"
     ]
    }
   ],
   "source": [
    "# Tests\n",
    "qubits = Qubits(2)       # 2量子ビットを定義\n",
    "qubits.set_bits([0, 1])  # 初期量子ビット|01>\n",
    "\n",
    "print(\"量子表示\", qubits)\n",
    "print(\"ビット数\", qubits.n_bits)\n",
    "print(\"行数\",     qubits.n_states)\n",
    "\n",
    "print(\"amp\",                 qubits._amp)               # 量子状態を行列表記したものを返す\n",
    "print(\"10番目(二進数)のamp\", qubits._amp[int('01', 2)]) # 特定の状態の amp にもアクセス可能\n",
    "print(\"合計amp\",             sum(abs(qubits._amp)**2))  # 絶対値の二乗の和は1になる\n",
    "\n",
    "print(\"観測結果\",            qubits.measure())          # 観測すると状態が一つに定まる\n",
    "\n",
    "x=np.array([[0, 0, 1, 0],\n",
    "            [0, 0, 0, 1],\n",
    "            [1, 0, 0, 0],\n",
    "            [0, 1, 0, 0]])\n",
    "\n",
    "ans = qubits.apply(x)\n",
    "print(\"演算結果\",ans)  # 演算しただけでは状態は一つに定まらない"
   ]
  },
  {
   "cell_type": "markdown",
   "metadata": {},
   "source": [
    "# 演算関数"
   ]
  },
  {
   "cell_type": "markdown",
   "metadata": {},
   "source": [
    "### テンソル積"
   ]
  },
  {
   "cell_type": "code",
   "execution_count": 43,
   "metadata": {},
   "outputs": [],
   "source": [
    "def tensor(*operater):\n",
    "    result = operater[0]\n",
    "    for i in range(1, len(operater)):\n",
    "        result = np.kron(result, operater[i])\n",
    "    return result"
   ]
  },
  {
   "cell_type": "code",
   "execution_count": 44,
   "metadata": {},
   "outputs": [
    {
     "data": {
      "text/plain": [
       "array([1, 2, 2, 4, 3, 6])"
      ]
     },
     "execution_count": 44,
     "metadata": {},
     "output_type": "execute_result"
    }
   ],
   "source": [
    "arr1 = np.array([1,2,3])\n",
    "arr2 = np.array([1,2])\n",
    "\n",
    "tensor(arr1, arr2)"
   ]
  },
  {
   "cell_type": "markdown",
   "metadata": {},
   "source": [
    "### 単位演算子 I"
   ]
  },
  {
   "cell_type": "code",
   "execution_count": 45,
   "metadata": {},
   "outputs": [],
   "source": [
    "def I(n_bits):\n",
    "    return np.eye(2**n_bits)"
   ]
  },
  {
   "cell_type": "code",
   "execution_count": 46,
   "metadata": {},
   "outputs": [
    {
     "data": {
      "text/plain": [
       "array([[1., 0., 0., 0.],\n",
       "       [0., 1., 0., 0.],\n",
       "       [0., 0., 1., 0.],\n",
       "       [0., 0., 0., 1.]])"
      ]
     },
     "execution_count": 46,
     "metadata": {},
     "output_type": "execute_result"
    }
   ],
   "source": [
    "I(2)"
   ]
  },
  {
   "cell_type": "markdown",
   "metadata": {},
   "source": [
    "### ビット反転演算子 X"
   ]
  },
  {
   "cell_type": "code",
   "execution_count": 47,
   "metadata": {},
   "outputs": [],
   "source": [
    "def X(n_bits, target):\n",
    "    return tensor(I(target), np.array([[0,1],[1,0]]), I(n_bits-target-1))"
   ]
  },
  {
   "cell_type": "code",
   "execution_count": 48,
   "metadata": {},
   "outputs": [
    {
     "data": {
      "text/plain": [
       "array([[0., 0., 1., 0.],\n",
       "       [0., 0., 0., 1.],\n",
       "       [1., 0., 0., 0.],\n",
       "       [0., 1., 0., 0.]])"
      ]
     },
     "execution_count": 48,
     "metadata": {},
     "output_type": "execute_result"
    }
   ],
   "source": [
    "X(2,0) # 第一引数: ビット数  第二引数: 標的ビット"
   ]
  },
  {
   "cell_type": "markdown",
   "metadata": {},
   "source": [
    "### アダマールゲート H"
   ]
  },
  {
   "cell_type": "code",
   "execution_count": 49,
   "metadata": {},
   "outputs": [],
   "source": [
    "def H(n_bits, target):\n",
    "    return tensor(I(target), np.array([[1,1],[1,-1]])/np.sqrt(2), I(n_bits-target-1))"
   ]
  },
  {
   "cell_type": "code",
   "execution_count": 50,
   "metadata": {},
   "outputs": [
    {
     "data": {
      "text/plain": [
       "array([[ 0.70710678,  0.        ,  0.70710678,  0.        ],\n",
       "       [ 0.        ,  0.70710678,  0.        ,  0.70710678],\n",
       "       [ 0.70710678,  0.        , -0.70710678, -0.        ],\n",
       "       [ 0.        ,  0.70710678, -0.        , -0.70710678]])"
      ]
     },
     "execution_count": 50,
     "metadata": {},
     "output_type": "execute_result"
    }
   ],
   "source": [
    "H(2,0)"
   ]
  },
  {
   "cell_type": "markdown",
   "metadata": {},
   "source": [
    "### CNOT演算子"
   ]
  },
  {
   "cell_type": "code",
   "execution_count": 51,
   "metadata": {},
   "outputs": [],
   "source": [
    "def CNOT(n_bits, control, target):\n",
    "    CNOT_zero = np.array([[1,0],[0,0]]) # 制御ビットが0の時 ( |0><0| を表している )\n",
    "    CNOT_one  = np.array([[0,0],[0,1]]) # 制御ビットが1の時 ( |1><1| を表している )\n",
    "    \n",
    "    CNOT_zero = tensor(I(control), CNOT_zero, I(n_bits-control-1))\n",
    "    CNOT_one  = tensor(I(control), CNOT_one,  I(n_bits-control-1)) @ X(n_bits, target)\n",
    "    \n",
    "    return CNOT_zero + CNOT_one"
   ]
  },
  {
   "cell_type": "code",
   "execution_count": 52,
   "metadata": {},
   "outputs": [
    {
     "data": {
      "text/plain": [
       "array([[1., 0., 0., 0.],\n",
       "       [0., 1., 0., 0.],\n",
       "       [0., 0., 0., 1.],\n",
       "       [0., 0., 1., 0.]])"
      ]
     },
     "execution_count": 52,
     "metadata": {},
     "output_type": "execute_result"
    }
   ],
   "source": [
    "CNOT(2,0,1)"
   ]
  },
  {
   "cell_type": "markdown",
   "metadata": {},
   "source": [
    "### Tゲート"
   ]
  },
  {
   "cell_type": "code",
   "execution_count": 53,
   "metadata": {},
   "outputs": [],
   "source": [
    "def T(n_bits, target):\n",
    "    T = np.array([[np.e**(1j*(np.pi/8)), 0], [0, np.e**(1j*(np.pi/8))]])\n",
    "    return tensor(I(target), T, I(n_bits-target-1))"
   ]
  },
  {
   "cell_type": "code",
   "execution_count": 54,
   "metadata": {},
   "outputs": [
    {
     "data": {
      "text/plain": [
       "array([[0.92387953+0.38268343j, 0.        +0.j        ],\n",
       "       [0.        +0.j        , 0.92387953+0.38268343j]])"
      ]
     },
     "execution_count": 54,
     "metadata": {},
     "output_type": "execute_result"
    }
   ],
   "source": [
    "T(1,0)"
   ]
  },
  {
   "cell_type": "markdown",
   "metadata": {},
   "source": [
    "### CUゲート"
   ]
  },
  {
   "cell_type": "code",
   "execution_count": 55,
   "metadata": {},
   "outputs": [],
   "source": [
    "def CU(U):\n",
    "    \"\"\"標的ビットは第一ビットに固定\"\"\"\n",
    "    m      = len(U)               # 行数\n",
    "    n_bits = int(math.log(m,2))   # ビット数\n",
    "    \n",
    "    CU_zero = np.array([[1,0],[0,0]]) # 第一ビットが0の時\n",
    "    CU_one  = np.array([[0,0],[0,1]]) # 第一ビットが1の時\n",
    "    \n",
    "    CU_zero = np.kron(CU_zero, I(n_bits))\n",
    "    CU_one  = np.kron(CU_one, U)\n",
    "    \n",
    "    return CU_zero + CU_one"
   ]
  },
  {
   "cell_type": "code",
   "execution_count": 56,
   "metadata": {},
   "outputs": [
    {
     "data": {
      "text/plain": [
       "array([[1., 0., 0., 0.],\n",
       "       [0., 1., 0., 0.],\n",
       "       [0., 0., 0., 1.],\n",
       "       [0., 0., 1., 0.]])"
      ]
     },
     "execution_count": 56,
     "metadata": {},
     "output_type": "execute_result"
    }
   ],
   "source": [
    "U = np.array([[0,1], [1,0]])\n",
    "CU(U)"
   ]
  },
  {
   "cell_type": "markdown",
   "metadata": {},
   "source": [
    "# 演算テスト"
   ]
  },
  {
   "cell_type": "code",
   "execution_count": 57,
   "metadata": {},
   "outputs": [
    {
     "name": "stdout",
     "output_type": "stream",
     "text": [
      "[[0.5]\n",
      " [0.5]\n",
      " [0.5]\n",
      " [0.5]]\n"
     ]
    }
   ],
   "source": [
    "h1 = H(2,0)\n",
    "h2 = H(2,1)\n",
    "qubits = Qubits(2)       # 2ビット 初期状態 |00>\n",
    "\n",
    "print(qubits.apply(h1,h2))"
   ]
  },
  {
   "cell_type": "code",
   "execution_count": null,
   "metadata": {},
   "outputs": [],
   "source": []
  }
 ],
 "metadata": {
  "kernelspec": {
   "display_name": "Python 3",
   "language": "python",
   "name": "python3"
  },
  "language_info": {
   "codemirror_mode": {
    "name": "ipython",
    "version": 3
   },
   "file_extension": ".py",
   "mimetype": "text/x-python",
   "name": "python",
   "nbconvert_exporter": "python",
   "pygments_lexer": "ipython3",
   "version": "3.6.5"
  }
 },
 "nbformat": 4,
 "nbformat_minor": 2
}
